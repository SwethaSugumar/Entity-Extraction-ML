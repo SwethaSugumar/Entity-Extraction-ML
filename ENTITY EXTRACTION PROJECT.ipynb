{
 "cells": [
  {
   "cell_type": "code",
   "execution_count": 1,
   "metadata": {},
   "outputs": [
    {
     "data": {
      "text/plain": [
       "'0.10.7'"
      ]
     },
     "execution_count": 1,
     "metadata": {},
     "output_type": "execute_result"
    }
   ],
   "source": [
    "%config InlineBackend.figure_format = 'retina' # high resolution plotting\n",
    "import matplotlib.pyplot as plt\n",
    "import pandas as pd\n",
    "import advertools as adv\n",
    "pd.set_option('display.max_columns', None)\n",
    "pd.set_option('display.max_colwidth', 280)\n",
    "adv.__version__"
   ]
  },
  {
   "cell_type": "code",
   "execution_count": 2,
   "metadata": {
    "scrolled": true
   },
   "outputs": [
    {
     "name": "stdout",
     "output_type": "stream",
     "text": [
      "(5089, 72)\n"
     ]
    },
    {
     "data": {
      "text/html": [
       "<div>\n",
       "<style scoped>\n",
       "    .dataframe tbody tr th:only-of-type {\n",
       "        vertical-align: middle;\n",
       "    }\n",
       "\n",
       "    .dataframe tbody tr th {\n",
       "        vertical-align: top;\n",
       "    }\n",
       "\n",
       "    .dataframe thead th {\n",
       "        text-align: right;\n",
       "    }\n",
       "</style>\n",
       "<table border=\"1\" class=\"dataframe\">\n",
       "  <thead>\n",
       "    <tr style=\"text-align: right;\">\n",
       "      <th></th>\n",
       "      <th>tweet_contributors</th>\n",
       "      <th>tweet_coordinates</th>\n",
       "      <th>tweet_created_at</th>\n",
       "      <th>tweet_display_text_range</th>\n",
       "      <th>tweet_entities</th>\n",
       "      <th>tweet_extended_entities</th>\n",
       "      <th>tweet_favorite_count</th>\n",
       "      <th>tweet_favorited</th>\n",
       "      <th>tweet_full_text</th>\n",
       "      <th>tweet_geo</th>\n",
       "      <th>tweet_id</th>\n",
       "      <th>tweet_id_str</th>\n",
       "      <th>tweet_in_reply_to_screen_name</th>\n",
       "      <th>tweet_in_reply_to_status_id</th>\n",
       "      <th>tweet_in_reply_to_status_id_str</th>\n",
       "      <th>tweet_in_reply_to_user_id</th>\n",
       "      <th>tweet_in_reply_to_user_id_str</th>\n",
       "      <th>tweet_is_quote_status</th>\n",
       "      <th>tweet_lang</th>\n",
       "      <th>tweet_metadata</th>\n",
       "      <th>tweet_place</th>\n",
       "      <th>tweet_possibly_sensitive</th>\n",
       "      <th>tweet_quoted_status</th>\n",
       "      <th>tweet_quoted_status_id</th>\n",
       "      <th>tweet_quoted_status_id_str</th>\n",
       "      <th>tweet_retweet_count</th>\n",
       "      <th>tweet_retweeted</th>\n",
       "      <th>tweet_source</th>\n",
       "      <th>tweet_truncated</th>\n",
       "      <th>tweet_user</th>\n",
       "      <th>user_contributors_enabled</th>\n",
       "      <th>user_created_at</th>\n",
       "      <th>user_default_profile</th>\n",
       "      <th>user_default_profile_image</th>\n",
       "      <th>user_description</th>\n",
       "      <th>user_entities</th>\n",
       "      <th>user_favourites_count</th>\n",
       "      <th>user_follow_request_sent</th>\n",
       "      <th>user_followers_count</th>\n",
       "      <th>user_following</th>\n",
       "      <th>user_friends_count</th>\n",
       "      <th>user_geo_enabled</th>\n",
       "      <th>user_has_extended_profile</th>\n",
       "      <th>user_id</th>\n",
       "      <th>user_id_str</th>\n",
       "      <th>user_is_translation_enabled</th>\n",
       "      <th>user_is_translator</th>\n",
       "      <th>user_lang</th>\n",
       "      <th>user_listed_count</th>\n",
       "      <th>user_location</th>\n",
       "      <th>user_name</th>\n",
       "      <th>user_notifications</th>\n",
       "      <th>user_profile_background_color</th>\n",
       "      <th>user_profile_background_image_url</th>\n",
       "      <th>user_profile_background_image_url_https</th>\n",
       "      <th>user_profile_background_tile</th>\n",
       "      <th>user_profile_banner_url</th>\n",
       "      <th>user_profile_image_url</th>\n",
       "      <th>user_profile_image_url_https</th>\n",
       "      <th>user_profile_link_color</th>\n",
       "      <th>user_profile_sidebar_border_color</th>\n",
       "      <th>user_profile_sidebar_fill_color</th>\n",
       "      <th>user_profile_text_color</th>\n",
       "      <th>user_profile_use_background_image</th>\n",
       "      <th>user_protected</th>\n",
       "      <th>user_screen_name</th>\n",
       "      <th>user_statuses_count</th>\n",
       "      <th>user_time_zone</th>\n",
       "      <th>user_translator_type</th>\n",
       "      <th>user_url</th>\n",
       "      <th>user_utc_offset</th>\n",
       "      <th>user_verified</th>\n",
       "    </tr>\n",
       "  </thead>\n",
       "  <tbody>\n",
       "    <tr>\n",
       "      <th>0</th>\n",
       "      <td>NaN</td>\n",
       "      <td>NaN</td>\n",
       "      <td>Fri Sep 07 16:25:06 +0000 2018</td>\n",
       "      <td>[0, 75]</td>\n",
       "      <td>{'hashtags': [{'text': 'quote', 'indices': [47, 53]}, {'text': 'motivation', 'indices': [54, 65]}, {'text': 'justdoit', 'indices': [66, 75]}], 'symbols': [], 'user_mentions': [], 'urls': [], 'media': [{'id': 1038100853872197632, 'id_str': '1038100853872197632', 'indices': [76...</td>\n",
       "      <td>{'media': [{'id': 1038100853872197632, 'id_str': '1038100853872197632', 'indices': [76, 99], 'media_url': 'http://pbs.twimg.com/media/DmgTOfwVAAAJqoh.jpg', 'media_url_https': 'https://pbs.twimg.com/media/DmgTOfwVAAAJqoh.jpg', 'url': 'https://t.co/J9lLdszdW6', 'display_url': '...</td>\n",
       "      <td>0</td>\n",
       "      <td>False</td>\n",
       "      <td>Done is better than perfect. — Sheryl Sandberg #quote #motivation #justdoit https://t.co/J9lLdszdW6</td>\n",
       "      <td>NaN</td>\n",
       "      <td>1.038100e+18</td>\n",
       "      <td>1.038100e+18</td>\n",
       "      <td>NaN</td>\n",
       "      <td>NaN</td>\n",
       "      <td>NaN</td>\n",
       "      <td>NaN</td>\n",
       "      <td>NaN</td>\n",
       "      <td>False</td>\n",
       "      <td>en</td>\n",
       "      <td>{'iso_language_code': 'en', 'result_type': 'recent'}</td>\n",
       "      <td>NaN</td>\n",
       "      <td>False</td>\n",
       "      <td>NaN</td>\n",
       "      <td>NaN</td>\n",
       "      <td>NaN</td>\n",
       "      <td>0</td>\n",
       "      <td>False</td>\n",
       "      <td>&lt;a href=\"https://statusbrew.com\" rel=\"nofollow\"&gt;Statusbrew&lt;/a&gt;</td>\n",
       "      <td>False</td>\n",
       "      <td>{'id': 3188618684, 'id_str': '3188618684', 'name': 'Ultra YOU Woman', 'screen_name': 'UltraYOUwoman', 'location': 'California, USA', 'description': 'I share tips to achieve your health goals and be your best self inside &amp; out! Plus healthy living, weight loss success stories,...</td>\n",
       "      <td>False</td>\n",
       "      <td>Fri May 08 10:27:51 +0000 2015</td>\n",
       "      <td>True</td>\n",
       "      <td>False</td>\n",
       "      <td>I share tips to achieve your health goals and be your best self inside &amp; out! Plus healthy living, weight loss success stories, skincare &amp; post-birth snap back!</td>\n",
       "      <td>{'url': {'urls': [{'url': 'https://t.co/jGlJswxjwS', 'expanded_url': 'https://about.me/ultrayouwoman', 'display_url': 'about.me/ultrayouwoman', 'indices': [0, 23]}]}, 'description': {'urls': []}}</td>\n",
       "      <td>307.0</td>\n",
       "      <td>False</td>\n",
       "      <td>57983.0</td>\n",
       "      <td>False</td>\n",
       "      <td>48721.0</td>\n",
       "      <td>False</td>\n",
       "      <td>False</td>\n",
       "      <td>3.188619e+09</td>\n",
       "      <td>3.188619e+09</td>\n",
       "      <td>False</td>\n",
       "      <td>False</td>\n",
       "      <td>en</td>\n",
       "      <td>629.0</td>\n",
       "      <td>California, USA</td>\n",
       "      <td>Ultra YOU Woman</td>\n",
       "      <td>False</td>\n",
       "      <td>C0DEED</td>\n",
       "      <td>http://abs.twimg.com/images/themes/theme1/bg.png</td>\n",
       "      <td>https://abs.twimg.com/images/themes/theme1/bg.png</td>\n",
       "      <td>False</td>\n",
       "      <td>https://pbs.twimg.com/profile_banners/3188618684/1431170427</td>\n",
       "      <td>http://pbs.twimg.com/profile_images/597000926272954368/eQ-8VrVk_normal.jpg</td>\n",
       "      <td>https://pbs.twimg.com/profile_images/597000926272954368/eQ-8VrVk_normal.jpg</td>\n",
       "      <td>1DA1F2</td>\n",
       "      <td>C0DEED</td>\n",
       "      <td>DDEEF6</td>\n",
       "      <td>333333</td>\n",
       "      <td>True</td>\n",
       "      <td>False</td>\n",
       "      <td>UltraYOUwoman</td>\n",
       "      <td>91870.0</td>\n",
       "      <td>NaN</td>\n",
       "      <td>none</td>\n",
       "      <td>https://t.co/jGlJswxjwS</td>\n",
       "      <td>NaN</td>\n",
       "      <td>False</td>\n",
       "    </tr>\n",
       "    <tr>\n",
       "      <th>1</th>\n",
       "      <td>NaN</td>\n",
       "      <td>NaN</td>\n",
       "      <td>Fri Sep 07 16:24:59 +0000 2018</td>\n",
       "      <td>[0, 237]</td>\n",
       "      <td>{'hashtags': [{'text': 'hero', 'indices': [90, 95]}, {'text': 'fdny', 'indices': [96, 101]}, {'text': 'likesforlikes', 'indices': [102, 116]}, {'text': 'promo', 'indices': [117, 123]}, {'text': 'music', 'indices': [124, 130]}, {'text': 'instagood', 'indices': [131, 141]}, {'t...</td>\n",
       "      <td>NaN</td>\n",
       "      <td>0</td>\n",
       "      <td>False</td>\n",
       "      <td>Shout out to the Great Fire Department and the tour! 👨‍🚒👨‍🚒 Much love to NYC! 💯🎥🔥✊🏿\\n•\\n•\\n•\\n#hero #fdny #likesforlikes #promo #music #instagood #instadaily #postoftheday #bestoftheday #justdoit #nike #picoftheday... https://t.co/sFobQ2ukpo</td>\n",
       "      <td>NaN</td>\n",
       "      <td>1.038100e+18</td>\n",
       "      <td>1.038100e+18</td>\n",
       "      <td>NaN</td>\n",
       "      <td>NaN</td>\n",
       "      <td>NaN</td>\n",
       "      <td>NaN</td>\n",
       "      <td>NaN</td>\n",
       "      <td>False</td>\n",
       "      <td>en</td>\n",
       "      <td>{'iso_language_code': 'en', 'result_type': 'recent'}</td>\n",
       "      <td>NaN</td>\n",
       "      <td>False</td>\n",
       "      <td>NaN</td>\n",
       "      <td>NaN</td>\n",
       "      <td>NaN</td>\n",
       "      <td>0</td>\n",
       "      <td>False</td>\n",
       "      <td>&lt;a href=\"http://www.facebook.com/twitter\" rel=\"nofollow\"&gt;Facebook&lt;/a&gt;</td>\n",
       "      <td>False</td>\n",
       "      <td>{'id': 18387174, 'id_str': '18387174', 'name': 'Yung Cut Up (Videos)', 'screen_name': 'yungcutup', 'location': 'Miami, Florida', 'description': 'All Business inquiries contact cluuxx@gmail.com / Support &amp; Download my new mixtape \"Clear Skies\" https://t.co/0tOeBuJHHH', 'url': ...</td>\n",
       "      <td>False</td>\n",
       "      <td>Fri Dec 26 09:30:23 +0000 2008</td>\n",
       "      <td>False</td>\n",
       "      <td>False</td>\n",
       "      <td>All Business inquiries contact cluuxx@gmail.com / Support &amp; Download my new mixtape \"Clear Skies\" https://t.co/0tOeBuJHHH</td>\n",
       "      <td>{'url': {'urls': [{'url': 'http://t.co/lVm8vfDbfO', 'expanded_url': 'http://youtube.com/yungcutuptv', 'display_url': 'youtube.com/yungcutuptv', 'indices': [0, 22]}]}, 'description': {'urls': [{'url': 'https://t.co/0tOeBuJHHH', 'expanded_url': 'http://piff.me/6613310', 'displa...</td>\n",
       "      <td>1178.0</td>\n",
       "      <td>False</td>\n",
       "      <td>13241.0</td>\n",
       "      <td>False</td>\n",
       "      <td>5489.0</td>\n",
       "      <td>False</td>\n",
       "      <td>False</td>\n",
       "      <td>1.838717e+07</td>\n",
       "      <td>1.838717e+07</td>\n",
       "      <td>False</td>\n",
       "      <td>False</td>\n",
       "      <td>en</td>\n",
       "      <td>150.0</td>\n",
       "      <td>Miami, Florida</td>\n",
       "      <td>Yung Cut Up (Videos)</td>\n",
       "      <td>False</td>\n",
       "      <td>131516</td>\n",
       "      <td>http://abs.twimg.com/images/themes/theme14/bg.gif</td>\n",
       "      <td>https://abs.twimg.com/images/themes/theme14/bg.gif</td>\n",
       "      <td>True</td>\n",
       "      <td>https://pbs.twimg.com/profile_banners/18387174/1488819752</td>\n",
       "      <td>http://pbs.twimg.com/profile_images/945333114582298625/C8zA_uvh_normal.jpg</td>\n",
       "      <td>https://pbs.twimg.com/profile_images/945333114582298625/C8zA_uvh_normal.jpg</td>\n",
       "      <td>3B94D9</td>\n",
       "      <td>FFFFFF</td>\n",
       "      <td>EFEFEF</td>\n",
       "      <td>333333</td>\n",
       "      <td>True</td>\n",
       "      <td>False</td>\n",
       "      <td>yungcutup</td>\n",
       "      <td>618822.0</td>\n",
       "      <td>NaN</td>\n",
       "      <td>none</td>\n",
       "      <td>http://t.co/lVm8vfDbfO</td>\n",
       "      <td>NaN</td>\n",
       "      <td>False</td>\n",
       "    </tr>\n",
       "    <tr>\n",
       "      <th>2</th>\n",
       "      <td>NaN</td>\n",
       "      <td>NaN</td>\n",
       "      <td>Fri Sep 07 16:24:50 +0000 2018</td>\n",
       "      <td>[0, 176]</td>\n",
       "      <td>{'hashtags': [{'text': 'JustDoIt', 'indices': [127, 136]}, {'text': '4YourMorning', 'indices': [137, 150]}, {'text': '4YourMemeCollection', 'indices': [151, 171]}], 'symbols': [], 'user_mentions': [], 'urls': [], 'media': [{'id': 1038100773396041728, 'id_str': '10381007733960...</td>\n",
       "      <td>{'media': [{'id': 1038100773396041728, 'id_str': '1038100773396041728', 'indices': [177, 200], 'media_url': 'http://pbs.twimg.com/media/DmgTJz9UUAA57tu.jpg', 'media_url_https': 'https://pbs.twimg.com/media/DmgTJz9UUAA57tu.jpg', 'url': 'https://t.co/6ok9qR6k6M', 'display_url':...</td>\n",
       "      <td>0</td>\n",
       "      <td>False</td>\n",
       "      <td>There are some AMAZINGLY hilarious Nike Ad memes happening on my newsfeed.  Soooo, I decided to get a little creative too... \\n\\n#JustDoIt #4YourMorning #4YourMemeCollection \\n\\n🍪😂 https://t.co/6ok9qR6k6M</td>\n",
       "      <td>NaN</td>\n",
       "      <td>1.038100e+18</td>\n",
       "      <td>1.038100e+18</td>\n",
       "      <td>NaN</td>\n",
       "      <td>NaN</td>\n",
       "      <td>NaN</td>\n",
       "      <td>NaN</td>\n",
       "      <td>NaN</td>\n",
       "      <td>False</td>\n",
       "      <td>en</td>\n",
       "      <td>{'iso_language_code': 'en', 'result_type': 'recent'}</td>\n",
       "      <td>NaN</td>\n",
       "      <td>False</td>\n",
       "      <td>NaN</td>\n",
       "      <td>NaN</td>\n",
       "      <td>NaN</td>\n",
       "      <td>0</td>\n",
       "      <td>False</td>\n",
       "      <td>&lt;a href=\"http://twitter.com/download/iphone\" rel=\"nofollow\"&gt;Twitter for iPhone&lt;/a&gt;</td>\n",
       "      <td>False</td>\n",
       "      <td>{'id': 32645612, 'id_str': '32645612', 'name': 'Rachel Bogle', 'screen_name': 'rachelbogle', 'location': 'Indianapolis, IN', 'description': 'Morning Traffic Reporter @CBS4Indy | Traffic Authority | Radio 📻 to TV 📺 | Indiana Raised | @IUBloomington Alum | Morkie Mom to Gizmo |...</td>\n",
       "      <td>False</td>\n",
       "      <td>Fri Apr 17 23:04:15 +0000 2009</td>\n",
       "      <td>False</td>\n",
       "      <td>False</td>\n",
       "      <td>Morning Traffic Reporter @CBS4Indy | Traffic Authority | Radio 📻 to TV 📺 | Indiana Raised | @IUBloomington Alum | Morkie Mom to Gizmo | Ms. USA Universal 2018</td>\n",
       "      <td>{'url': {'urls': [{'url': 'https://t.co/g9exqgZp9x', 'expanded_url': 'http://www.cbs4indy.com', 'display_url': 'cbs4indy.com', 'indices': [0, 23]}]}, 'description': {'urls': []}}</td>\n",
       "      <td>11864.0</td>\n",
       "      <td>False</td>\n",
       "      <td>11377.0</td>\n",
       "      <td>False</td>\n",
       "      <td>2386.0</td>\n",
       "      <td>False</td>\n",
       "      <td>False</td>\n",
       "      <td>3.264561e+07</td>\n",
       "      <td>3.264561e+07</td>\n",
       "      <td>False</td>\n",
       "      <td>False</td>\n",
       "      <td>en</td>\n",
       "      <td>193.0</td>\n",
       "      <td>Indianapolis, IN</td>\n",
       "      <td>Rachel Bogle</td>\n",
       "      <td>False</td>\n",
       "      <td>FFFAFF</td>\n",
       "      <td>http://abs.twimg.com/images/themes/theme1/bg.png</td>\n",
       "      <td>https://abs.twimg.com/images/themes/theme1/bg.png</td>\n",
       "      <td>False</td>\n",
       "      <td>https://pbs.twimg.com/profile_banners/32645612/1485823278</td>\n",
       "      <td>http://pbs.twimg.com/profile_images/986345956357615619/4zpa5kxF_normal.jpg</td>\n",
       "      <td>https://pbs.twimg.com/profile_images/986345956357615619/4zpa5kxF_normal.jpg</td>\n",
       "      <td>50505</td>\n",
       "      <td>FFFFFF</td>\n",
       "      <td>FC6A71</td>\n",
       "      <td>50505</td>\n",
       "      <td>True</td>\n",
       "      <td>False</td>\n",
       "      <td>rachelbogle</td>\n",
       "      <td>48075.0</td>\n",
       "      <td>NaN</td>\n",
       "      <td>none</td>\n",
       "      <td>https://t.co/g9exqgZp9x</td>\n",
       "      <td>NaN</td>\n",
       "      <td>True</td>\n",
       "    </tr>\n",
       "    <tr>\n",
       "      <th>3</th>\n",
       "      <td>NaN</td>\n",
       "      <td>{'type': 'Point', 'coordinates': [-86.45594032, 35.85402047]}</td>\n",
       "      <td>Fri Sep 07 16:24:44 +0000 2018</td>\n",
       "      <td>[0, 88]</td>\n",
       "      <td>{'hashtags': [{'text': 'kapernickeffect', 'indices': [0, 16]}, {'text': 'swoosh', 'indices': [17, 24]}, {'text': 'justdoit', 'indices': [25, 34]}], 'symbols': [], 'user_mentions': [], 'urls': [{'url': 'https://t.co/BhPBnjOkuU', 'expanded_url': 'https://www.instagram.com/p/Bnb...</td>\n",
       "      <td>NaN</td>\n",
       "      <td>0</td>\n",
       "      <td>False</td>\n",
       "      <td>#kapernickeffect #swoosh #justdoit @ Lucas Bishop's Cigar Lounge https://t.co/BhPBnjOkuU</td>\n",
       "      <td>{'type': 'Point', 'coordinates': [35.85402047, -86.45594032]}</td>\n",
       "      <td>1.038100e+18</td>\n",
       "      <td>1.038100e+18</td>\n",
       "      <td>NaN</td>\n",
       "      <td>NaN</td>\n",
       "      <td>NaN</td>\n",
       "      <td>NaN</td>\n",
       "      <td>NaN</td>\n",
       "      <td>False</td>\n",
       "      <td>en</td>\n",
       "      <td>{'iso_language_code': 'en', 'result_type': 'recent'}</td>\n",
       "      <td>{'id': '19e2bff2e89dc38e', 'url': 'https://api.twitter.com/1.1/geo/id/19e2bff2e89dc38e.json', 'place_type': 'city', 'name': 'Murfreesboro', 'full_name': 'Murfreesboro, TN', 'country_code': 'US', 'country': 'United States', 'contained_within': [], 'bounding_box': {'type': 'Pol...</td>\n",
       "      <td>False</td>\n",
       "      <td>NaN</td>\n",
       "      <td>NaN</td>\n",
       "      <td>NaN</td>\n",
       "      <td>0</td>\n",
       "      <td>False</td>\n",
       "      <td>&lt;a href=\"http://instagram.com\" rel=\"nofollow\"&gt;Instagram&lt;/a&gt;</td>\n",
       "      <td>False</td>\n",
       "      <td>{'id': 175932740, 'id_str': '175932740', 'name': 'Ervin Youngblood', 'screen_name': 'ErvGotti609', 'location': 'Tennessee by way of New Jersey', 'description': \"Christ-Family-Career.. \\rNY\\nGiants, Mets, 76ers, Penguins, Florida State, Tar Heel Men's BB\", 'url': None, 'entiti...</td>\n",
       "      <td>False</td>\n",
       "      <td>Sun Aug 08 02:02:56 +0000 2010</td>\n",
       "      <td>True</td>\n",
       "      <td>False</td>\n",
       "      <td>Christ-Family-Career.. NY\\nGiants, Mets, 76ers, Penguins, Florida State, Tar Heel Men's BB</td>\n",
       "      <td>{'description': {'urls': []}}</td>\n",
       "      <td>487.0</td>\n",
       "      <td>False</td>\n",
       "      <td>218.0</td>\n",
       "      <td>False</td>\n",
       "      <td>965.0</td>\n",
       "      <td>True</td>\n",
       "      <td>True</td>\n",
       "      <td>1.759327e+08</td>\n",
       "      <td>1.759327e+08</td>\n",
       "      <td>False</td>\n",
       "      <td>False</td>\n",
       "      <td>en</td>\n",
       "      <td>1.0</td>\n",
       "      <td>Tennessee by way of New Jersey</td>\n",
       "      <td>Ervin Youngblood</td>\n",
       "      <td>False</td>\n",
       "      <td>C0DEED</td>\n",
       "      <td>http://abs.twimg.com/images/themes/theme1/bg.png</td>\n",
       "      <td>https://abs.twimg.com/images/themes/theme1/bg.png</td>\n",
       "      <td>False</td>\n",
       "      <td>https://pbs.twimg.com/profile_banners/175932740/1357086566</td>\n",
       "      <td>http://pbs.twimg.com/profile_images/724407937234550784/6Jrvt3mv_normal.jpg</td>\n",
       "      <td>https://pbs.twimg.com/profile_images/724407937234550784/6Jrvt3mv_normal.jpg</td>\n",
       "      <td>1DA1F2</td>\n",
       "      <td>C0DEED</td>\n",
       "      <td>DDEEF6</td>\n",
       "      <td>333333</td>\n",
       "      <td>True</td>\n",
       "      <td>False</td>\n",
       "      <td>ErvGotti609</td>\n",
       "      <td>1983.0</td>\n",
       "      <td>NaN</td>\n",
       "      <td>none</td>\n",
       "      <td>NaN</td>\n",
       "      <td>NaN</td>\n",
       "      <td>False</td>\n",
       "    </tr>\n",
       "    <tr>\n",
       "      <th>4</th>\n",
       "      <td>NaN</td>\n",
       "      <td>NaN</td>\n",
       "      <td>Fri Sep 07 16:24:39 +0000 2018</td>\n",
       "      <td>[0, 132]</td>\n",
       "      <td>{'hashtags': [{'text': 'shaquem', 'indices': [74, 82]}, {'text': 'NFL', 'indices': [84, 88]}, {'text': 'Seattle', 'indices': [89, 97]}, {'text': 'Seahawks', 'indices': [98, 107]}, {'text': 'griffin', 'indices': [108, 116]}, {'text': 'JustDoIt', 'indices': [117, 126]}, {'text'...</td>\n",
       "      <td>{'media': [{'id': 1038100736595255296, 'id_str': '1038100736595255296', 'indices': [133, 156], 'media_url': 'http://pbs.twimg.com/media/DmgTHq3U4AAYsl3.jpg', 'media_url_https': 'https://pbs.twimg.com/media/DmgTHq3U4AAYsl3.jpg', 'url': 'https://t.co/pr8eosDZS7', 'display_url':...</td>\n",
       "      <td>0</td>\n",
       "      <td>False</td>\n",
       "      <td>One Hand, One Dream: The Shaquem Griffin Story  https://t.co/0EbEmwULLF   #shaquem  #NFL #Seattle #Seahawks #griffin #JustDoIt #Nike https://t.co/pr8eosDZS7</td>\n",
       "      <td>NaN</td>\n",
       "      <td>1.038100e+18</td>\n",
       "      <td>1.038100e+18</td>\n",
       "      <td>NaN</td>\n",
       "      <td>NaN</td>\n",
       "      <td>NaN</td>\n",
       "      <td>NaN</td>\n",
       "      <td>NaN</td>\n",
       "      <td>False</td>\n",
       "      <td>en</td>\n",
       "      <td>{'iso_language_code': 'en', 'result_type': 'recent'}</td>\n",
       "      <td>NaN</td>\n",
       "      <td>False</td>\n",
       "      <td>NaN</td>\n",
       "      <td>NaN</td>\n",
       "      <td>NaN</td>\n",
       "      <td>0</td>\n",
       "      <td>False</td>\n",
       "      <td>&lt;a href=\"http://twitter.com\" rel=\"nofollow\"&gt;Twitter Web Client&lt;/a&gt;</td>\n",
       "      <td>False</td>\n",
       "      <td>{'id': 22306628, 'id_str': '22306628', 'name': 'NoLuckNeeded.com', 'screen_name': 'NoLuckNeeded', 'location': 'Gambleville', 'description': 'https://t.co/Lnr5uRql8x is a Friendly Online Gambling Forum that was established in 2004 ♣  Be Gamble Aware 18+ https://t.co/2RyHF1JlEt...</td>\n",
       "      <td>False</td>\n",
       "      <td>Sat Feb 28 23:13:57 +0000 2009</td>\n",
       "      <td>False</td>\n",
       "      <td>False</td>\n",
       "      <td>https://t.co/Lnr5uRql8x is a Friendly Online Gambling Forum that was established in 2004 ♣  Be Gamble Aware 18+ https://t.co/2RyHF1JlEt</td>\n",
       "      <td>{'url': {'urls': [{'url': 'http://t.co/MMGF9RfLz0', 'expanded_url': 'http://noluckneeded.com', 'display_url': 'noluckneeded.com', 'indices': [0, 22]}]}, 'description': {'urls': [{'url': 'https://t.co/Lnr5uRql8x', 'expanded_url': 'http://NoLuckNeeded.com', 'display_url': 'NoLu...</td>\n",
       "      <td>32971.0</td>\n",
       "      <td>False</td>\n",
       "      <td>13731.0</td>\n",
       "      <td>False</td>\n",
       "      <td>13629.0</td>\n",
       "      <td>False</td>\n",
       "      <td>False</td>\n",
       "      <td>2.230663e+07</td>\n",
       "      <td>2.230663e+07</td>\n",
       "      <td>False</td>\n",
       "      <td>False</td>\n",
       "      <td>en</td>\n",
       "      <td>181.0</td>\n",
       "      <td>Gambleville</td>\n",
       "      <td>NoLuckNeeded.com</td>\n",
       "      <td>False</td>\n",
       "      <td>0A2185</td>\n",
       "      <td>http://abs.twimg.com/images/themes/theme4/bg.gif</td>\n",
       "      <td>https://abs.twimg.com/images/themes/theme4/bg.gif</td>\n",
       "      <td>False</td>\n",
       "      <td>https://pbs.twimg.com/profile_banners/22306628/1469370851</td>\n",
       "      <td>http://pbs.twimg.com/profile_images/3028148602/dfd898817c8d7e5c71e66df2f2fa6b48_normal.jpeg</td>\n",
       "      <td>https://pbs.twimg.com/profile_images/3028148602/dfd898817c8d7e5c71e66df2f2fa6b48_normal.jpeg</td>\n",
       "      <td>111BBB</td>\n",
       "      <td>0B0C0F</td>\n",
       "      <td>3BA4CE</td>\n",
       "      <td>1A1E1A</td>\n",
       "      <td>True</td>\n",
       "      <td>False</td>\n",
       "      <td>NoLuckNeeded</td>\n",
       "      <td>24989.0</td>\n",
       "      <td>NaN</td>\n",
       "      <td>none</td>\n",
       "      <td>http://t.co/MMGF9RfLz0</td>\n",
       "      <td>NaN</td>\n",
       "      <td>False</td>\n",
       "    </tr>\n",
       "  </tbody>\n",
       "</table>\n",
       "</div>"
      ],
      "text/plain": [
       "   tweet_contributors  \\\n",
       "0                 NaN   \n",
       "1                 NaN   \n",
       "2                 NaN   \n",
       "3                 NaN   \n",
       "4                 NaN   \n",
       "\n",
       "                                               tweet_coordinates  \\\n",
       "0                                                            NaN   \n",
       "1                                                            NaN   \n",
       "2                                                            NaN   \n",
       "3  {'type': 'Point', 'coordinates': [-86.45594032, 35.85402047]}   \n",
       "4                                                            NaN   \n",
       "\n",
       "                 tweet_created_at tweet_display_text_range  \\\n",
       "0  Fri Sep 07 16:25:06 +0000 2018                  [0, 75]   \n",
       "1  Fri Sep 07 16:24:59 +0000 2018                 [0, 237]   \n",
       "2  Fri Sep 07 16:24:50 +0000 2018                 [0, 176]   \n",
       "3  Fri Sep 07 16:24:44 +0000 2018                  [0, 88]   \n",
       "4  Fri Sep 07 16:24:39 +0000 2018                 [0, 132]   \n",
       "\n",
       "                                                                                                                                                                                                                                                                            tweet_entities  \\\n",
       "0  {'hashtags': [{'text': 'quote', 'indices': [47, 53]}, {'text': 'motivation', 'indices': [54, 65]}, {'text': 'justdoit', 'indices': [66, 75]}], 'symbols': [], 'user_mentions': [], 'urls': [], 'media': [{'id': 1038100853872197632, 'id_str': '1038100853872197632', 'indices': [76...   \n",
       "1  {'hashtags': [{'text': 'hero', 'indices': [90, 95]}, {'text': 'fdny', 'indices': [96, 101]}, {'text': 'likesforlikes', 'indices': [102, 116]}, {'text': 'promo', 'indices': [117, 123]}, {'text': 'music', 'indices': [124, 130]}, {'text': 'instagood', 'indices': [131, 141]}, {'t...   \n",
       "2  {'hashtags': [{'text': 'JustDoIt', 'indices': [127, 136]}, {'text': '4YourMorning', 'indices': [137, 150]}, {'text': '4YourMemeCollection', 'indices': [151, 171]}], 'symbols': [], 'user_mentions': [], 'urls': [], 'media': [{'id': 1038100773396041728, 'id_str': '10381007733960...   \n",
       "3  {'hashtags': [{'text': 'kapernickeffect', 'indices': [0, 16]}, {'text': 'swoosh', 'indices': [17, 24]}, {'text': 'justdoit', 'indices': [25, 34]}], 'symbols': [], 'user_mentions': [], 'urls': [{'url': 'https://t.co/BhPBnjOkuU', 'expanded_url': 'https://www.instagram.com/p/Bnb...   \n",
       "4  {'hashtags': [{'text': 'shaquem', 'indices': [74, 82]}, {'text': 'NFL', 'indices': [84, 88]}, {'text': 'Seattle', 'indices': [89, 97]}, {'text': 'Seahawks', 'indices': [98, 107]}, {'text': 'griffin', 'indices': [108, 116]}, {'text': 'JustDoIt', 'indices': [117, 126]}, {'text'...   \n",
       "\n",
       "                                                                                                                                                                                                                                                                   tweet_extended_entities  \\\n",
       "0  {'media': [{'id': 1038100853872197632, 'id_str': '1038100853872197632', 'indices': [76, 99], 'media_url': 'http://pbs.twimg.com/media/DmgTOfwVAAAJqoh.jpg', 'media_url_https': 'https://pbs.twimg.com/media/DmgTOfwVAAAJqoh.jpg', 'url': 'https://t.co/J9lLdszdW6', 'display_url': '...   \n",
       "1                                                                                                                                                                                                                                                                                      NaN   \n",
       "2  {'media': [{'id': 1038100773396041728, 'id_str': '1038100773396041728', 'indices': [177, 200], 'media_url': 'http://pbs.twimg.com/media/DmgTJz9UUAA57tu.jpg', 'media_url_https': 'https://pbs.twimg.com/media/DmgTJz9UUAA57tu.jpg', 'url': 'https://t.co/6ok9qR6k6M', 'display_url':...   \n",
       "3                                                                                                                                                                                                                                                                                      NaN   \n",
       "4  {'media': [{'id': 1038100736595255296, 'id_str': '1038100736595255296', 'indices': [133, 156], 'media_url': 'http://pbs.twimg.com/media/DmgTHq3U4AAYsl3.jpg', 'media_url_https': 'https://pbs.twimg.com/media/DmgTHq3U4AAYsl3.jpg', 'url': 'https://t.co/pr8eosDZS7', 'display_url':...   \n",
       "\n",
       "   tweet_favorite_count  tweet_favorited  \\\n",
       "0                     0            False   \n",
       "1                     0            False   \n",
       "2                     0            False   \n",
       "3                     0            False   \n",
       "4                     0            False   \n",
       "\n",
       "                                                                                                                                                                                                                                     tweet_full_text  \\\n",
       "0                                                                                                                                                Done is better than perfect. — Sheryl Sandberg #quote #motivation #justdoit https://t.co/J9lLdszdW6   \n",
       "1  Shout out to the Great Fire Department and the tour! 👨‍🚒👨‍🚒 Much love to NYC! 💯🎥🔥✊🏿\\n•\\n•\\n•\\n#hero #fdny #likesforlikes #promo #music #instagood #instadaily #postoftheday #bestoftheday #justdoit #nike #picoftheday... https://t.co/sFobQ2ukpo   \n",
       "2                                       There are some AMAZINGLY hilarious Nike Ad memes happening on my newsfeed.  Soooo, I decided to get a little creative too... \\n\\n#JustDoIt #4YourMorning #4YourMemeCollection \\n\\n🍪😂 https://t.co/6ok9qR6k6M   \n",
       "3                                                                                                                                                           #kapernickeffect #swoosh #justdoit @ Lucas Bishop's Cigar Lounge https://t.co/BhPBnjOkuU   \n",
       "4                                                                                       One Hand, One Dream: The Shaquem Griffin Story  https://t.co/0EbEmwULLF   #shaquem  #NFL #Seattle #Seahawks #griffin #JustDoIt #Nike https://t.co/pr8eosDZS7   \n",
       "\n",
       "                                                       tweet_geo  \\\n",
       "0                                                            NaN   \n",
       "1                                                            NaN   \n",
       "2                                                            NaN   \n",
       "3  {'type': 'Point', 'coordinates': [35.85402047, -86.45594032]}   \n",
       "4                                                            NaN   \n",
       "\n",
       "       tweet_id  tweet_id_str tweet_in_reply_to_screen_name  \\\n",
       "0  1.038100e+18  1.038100e+18                           NaN   \n",
       "1  1.038100e+18  1.038100e+18                           NaN   \n",
       "2  1.038100e+18  1.038100e+18                           NaN   \n",
       "3  1.038100e+18  1.038100e+18                           NaN   \n",
       "4  1.038100e+18  1.038100e+18                           NaN   \n",
       "\n",
       "   tweet_in_reply_to_status_id  tweet_in_reply_to_status_id_str  \\\n",
       "0                          NaN                              NaN   \n",
       "1                          NaN                              NaN   \n",
       "2                          NaN                              NaN   \n",
       "3                          NaN                              NaN   \n",
       "4                          NaN                              NaN   \n",
       "\n",
       "   tweet_in_reply_to_user_id  tweet_in_reply_to_user_id_str  \\\n",
       "0                        NaN                            NaN   \n",
       "1                        NaN                            NaN   \n",
       "2                        NaN                            NaN   \n",
       "3                        NaN                            NaN   \n",
       "4                        NaN                            NaN   \n",
       "\n",
       "   tweet_is_quote_status tweet_lang  \\\n",
       "0                  False         en   \n",
       "1                  False         en   \n",
       "2                  False         en   \n",
       "3                  False         en   \n",
       "4                  False         en   \n",
       "\n",
       "                                         tweet_metadata  \\\n",
       "0  {'iso_language_code': 'en', 'result_type': 'recent'}   \n",
       "1  {'iso_language_code': 'en', 'result_type': 'recent'}   \n",
       "2  {'iso_language_code': 'en', 'result_type': 'recent'}   \n",
       "3  {'iso_language_code': 'en', 'result_type': 'recent'}   \n",
       "4  {'iso_language_code': 'en', 'result_type': 'recent'}   \n",
       "\n",
       "                                                                                                                                                                                                                                                                               tweet_place  \\\n",
       "0                                                                                                                                                                                                                                                                                      NaN   \n",
       "1                                                                                                                                                                                                                                                                                      NaN   \n",
       "2                                                                                                                                                                                                                                                                                      NaN   \n",
       "3  {'id': '19e2bff2e89dc38e', 'url': 'https://api.twitter.com/1.1/geo/id/19e2bff2e89dc38e.json', 'place_type': 'city', 'name': 'Murfreesboro', 'full_name': 'Murfreesboro, TN', 'country_code': 'US', 'country': 'United States', 'contained_within': [], 'bounding_box': {'type': 'Pol...   \n",
       "4                                                                                                                                                                                                                                                                                      NaN   \n",
       "\n",
       "  tweet_possibly_sensitive tweet_quoted_status  tweet_quoted_status_id  \\\n",
       "0                    False                 NaN                     NaN   \n",
       "1                    False                 NaN                     NaN   \n",
       "2                    False                 NaN                     NaN   \n",
       "3                    False                 NaN                     NaN   \n",
       "4                    False                 NaN                     NaN   \n",
       "\n",
       "   tweet_quoted_status_id_str  tweet_retweet_count  tweet_retweeted  \\\n",
       "0                         NaN                    0            False   \n",
       "1                         NaN                    0            False   \n",
       "2                         NaN                    0            False   \n",
       "3                         NaN                    0            False   \n",
       "4                         NaN                    0            False   \n",
       "\n",
       "                                                                         tweet_source  \\\n",
       "0                      <a href=\"https://statusbrew.com\" rel=\"nofollow\">Statusbrew</a>   \n",
       "1               <a href=\"http://www.facebook.com/twitter\" rel=\"nofollow\">Facebook</a>   \n",
       "2  <a href=\"http://twitter.com/download/iphone\" rel=\"nofollow\">Twitter for iPhone</a>   \n",
       "3                         <a href=\"http://instagram.com\" rel=\"nofollow\">Instagram</a>   \n",
       "4                  <a href=\"http://twitter.com\" rel=\"nofollow\">Twitter Web Client</a>   \n",
       "\n",
       "   tweet_truncated  \\\n",
       "0            False   \n",
       "1            False   \n",
       "2            False   \n",
       "3            False   \n",
       "4            False   \n",
       "\n",
       "                                                                                                                                                                                                                                                                                tweet_user  \\\n",
       "0  {'id': 3188618684, 'id_str': '3188618684', 'name': 'Ultra YOU Woman', 'screen_name': 'UltraYOUwoman', 'location': 'California, USA', 'description': 'I share tips to achieve your health goals and be your best self inside & out! Plus healthy living, weight loss success stories,...   \n",
       "1  {'id': 18387174, 'id_str': '18387174', 'name': 'Yung Cut Up (Videos)', 'screen_name': 'yungcutup', 'location': 'Miami, Florida', 'description': 'All Business inquiries contact cluuxx@gmail.com / Support & Download my new mixtape \"Clear Skies\" https://t.co/0tOeBuJHHH', 'url': ...   \n",
       "2  {'id': 32645612, 'id_str': '32645612', 'name': 'Rachel Bogle', 'screen_name': 'rachelbogle', 'location': 'Indianapolis, IN', 'description': 'Morning Traffic Reporter @CBS4Indy | Traffic Authority | Radio 📻 to TV 📺 | Indiana Raised | @IUBloomington Alum | Morkie Mom to Gizmo |...   \n",
       "3  {'id': 175932740, 'id_str': '175932740', 'name': 'Ervin Youngblood', 'screen_name': 'ErvGotti609', 'location': 'Tennessee by way of New Jersey', 'description': \"Christ-Family-Career.. \\rNY\\nGiants, Mets, 76ers, Penguins, Florida State, Tar Heel Men's BB\", 'url': None, 'entiti...   \n",
       "4  {'id': 22306628, 'id_str': '22306628', 'name': 'NoLuckNeeded.com', 'screen_name': 'NoLuckNeeded', 'location': 'Gambleville', 'description': 'https://t.co/Lnr5uRql8x is a Friendly Online Gambling Forum that was established in 2004 ♣  Be Gamble Aware 18+ https://t.co/2RyHF1JlEt...   \n",
       "\n",
       "   user_contributors_enabled                 user_created_at  \\\n",
       "0                      False  Fri May 08 10:27:51 +0000 2015   \n",
       "1                      False  Fri Dec 26 09:30:23 +0000 2008   \n",
       "2                      False  Fri Apr 17 23:04:15 +0000 2009   \n",
       "3                      False  Sun Aug 08 02:02:56 +0000 2010   \n",
       "4                      False  Sat Feb 28 23:13:57 +0000 2009   \n",
       "\n",
       "   user_default_profile  user_default_profile_image  \\\n",
       "0                  True                       False   \n",
       "1                 False                       False   \n",
       "2                 False                       False   \n",
       "3                  True                       False   \n",
       "4                 False                       False   \n",
       "\n",
       "                                                                                                                                                   user_description  \\\n",
       "0  I share tips to achieve your health goals and be your best self inside & out! Plus healthy living, weight loss success stories, skincare & post-birth snap back!   \n",
       "1                                         All Business inquiries contact cluuxx@gmail.com / Support & Download my new mixtape \"Clear Skies\" https://t.co/0tOeBuJHHH   \n",
       "2    Morning Traffic Reporter @CBS4Indy | Traffic Authority | Radio 📻 to TV 📺 | Indiana Raised | @IUBloomington Alum | Morkie Mom to Gizmo | Ms. USA Universal 2018   \n",
       "3                                                                        Christ-Family-Career.. NY\\nGiants, Mets, 76ers, Penguins, Florida State, Tar Heel Men's BB   \n",
       "4                           https://t.co/Lnr5uRql8x is a Friendly Online Gambling Forum that was established in 2004 ♣  Be Gamble Aware 18+ https://t.co/2RyHF1JlEt   \n",
       "\n",
       "                                                                                                                                                                                                                                                                             user_entities  \\\n",
       "0                                                                                      {'url': {'urls': [{'url': 'https://t.co/jGlJswxjwS', 'expanded_url': 'https://about.me/ultrayouwoman', 'display_url': 'about.me/ultrayouwoman', 'indices': [0, 23]}]}, 'description': {'urls': []}}   \n",
       "1  {'url': {'urls': [{'url': 'http://t.co/lVm8vfDbfO', 'expanded_url': 'http://youtube.com/yungcutuptv', 'display_url': 'youtube.com/yungcutuptv', 'indices': [0, 22]}]}, 'description': {'urls': [{'url': 'https://t.co/0tOeBuJHHH', 'expanded_url': 'http://piff.me/6613310', 'displa...   \n",
       "2                                                                                                       {'url': {'urls': [{'url': 'https://t.co/g9exqgZp9x', 'expanded_url': 'http://www.cbs4indy.com', 'display_url': 'cbs4indy.com', 'indices': [0, 23]}]}, 'description': {'urls': []}}   \n",
       "3                                                                                                                                                                                                                                                            {'description': {'urls': []}}   \n",
       "4  {'url': {'urls': [{'url': 'http://t.co/MMGF9RfLz0', 'expanded_url': 'http://noluckneeded.com', 'display_url': 'noluckneeded.com', 'indices': [0, 22]}]}, 'description': {'urls': [{'url': 'https://t.co/Lnr5uRql8x', 'expanded_url': 'http://NoLuckNeeded.com', 'display_url': 'NoLu...   \n",
       "\n",
       "   user_favourites_count user_follow_request_sent  user_followers_count  \\\n",
       "0                  307.0                    False               57983.0   \n",
       "1                 1178.0                    False               13241.0   \n",
       "2                11864.0                    False               11377.0   \n",
       "3                  487.0                    False                 218.0   \n",
       "4                32971.0                    False               13731.0   \n",
       "\n",
       "  user_following  user_friends_count user_geo_enabled  \\\n",
       "0          False             48721.0            False   \n",
       "1          False              5489.0            False   \n",
       "2          False              2386.0            False   \n",
       "3          False               965.0             True   \n",
       "4          False             13629.0            False   \n",
       "\n",
       "  user_has_extended_profile       user_id   user_id_str  \\\n",
       "0                     False  3.188619e+09  3.188619e+09   \n",
       "1                     False  1.838717e+07  1.838717e+07   \n",
       "2                     False  3.264561e+07  3.264561e+07   \n",
       "3                      True  1.759327e+08  1.759327e+08   \n",
       "4                     False  2.230663e+07  2.230663e+07   \n",
       "\n",
       "  user_is_translation_enabled user_is_translator user_lang  user_listed_count  \\\n",
       "0                       False              False        en              629.0   \n",
       "1                       False              False        en              150.0   \n",
       "2                       False              False        en              193.0   \n",
       "3                       False              False        en                1.0   \n",
       "4                       False              False        en              181.0   \n",
       "\n",
       "                    user_location             user_name user_notifications  \\\n",
       "0                 California, USA       Ultra YOU Woman              False   \n",
       "1                  Miami, Florida  Yung Cut Up (Videos)              False   \n",
       "2                Indianapolis, IN          Rachel Bogle              False   \n",
       "3  Tennessee by way of New Jersey      Ervin Youngblood              False   \n",
       "4                     Gambleville      NoLuckNeeded.com              False   \n",
       "\n",
       "  user_profile_background_color  \\\n",
       "0                        C0DEED   \n",
       "1                        131516   \n",
       "2                        FFFAFF   \n",
       "3                        C0DEED   \n",
       "4                        0A2185   \n",
       "\n",
       "                   user_profile_background_image_url  \\\n",
       "0   http://abs.twimg.com/images/themes/theme1/bg.png   \n",
       "1  http://abs.twimg.com/images/themes/theme14/bg.gif   \n",
       "2   http://abs.twimg.com/images/themes/theme1/bg.png   \n",
       "3   http://abs.twimg.com/images/themes/theme1/bg.png   \n",
       "4   http://abs.twimg.com/images/themes/theme4/bg.gif   \n",
       "\n",
       "              user_profile_background_image_url_https  \\\n",
       "0   https://abs.twimg.com/images/themes/theme1/bg.png   \n",
       "1  https://abs.twimg.com/images/themes/theme14/bg.gif   \n",
       "2   https://abs.twimg.com/images/themes/theme1/bg.png   \n",
       "3   https://abs.twimg.com/images/themes/theme1/bg.png   \n",
       "4   https://abs.twimg.com/images/themes/theme4/bg.gif   \n",
       "\n",
       "  user_profile_background_tile  \\\n",
       "0                        False   \n",
       "1                         True   \n",
       "2                        False   \n",
       "3                        False   \n",
       "4                        False   \n",
       "\n",
       "                                       user_profile_banner_url  \\\n",
       "0  https://pbs.twimg.com/profile_banners/3188618684/1431170427   \n",
       "1    https://pbs.twimg.com/profile_banners/18387174/1488819752   \n",
       "2    https://pbs.twimg.com/profile_banners/32645612/1485823278   \n",
       "3   https://pbs.twimg.com/profile_banners/175932740/1357086566   \n",
       "4    https://pbs.twimg.com/profile_banners/22306628/1469370851   \n",
       "\n",
       "                                                                        user_profile_image_url  \\\n",
       "0                   http://pbs.twimg.com/profile_images/597000926272954368/eQ-8VrVk_normal.jpg   \n",
       "1                   http://pbs.twimg.com/profile_images/945333114582298625/C8zA_uvh_normal.jpg   \n",
       "2                   http://pbs.twimg.com/profile_images/986345956357615619/4zpa5kxF_normal.jpg   \n",
       "3                   http://pbs.twimg.com/profile_images/724407937234550784/6Jrvt3mv_normal.jpg   \n",
       "4  http://pbs.twimg.com/profile_images/3028148602/dfd898817c8d7e5c71e66df2f2fa6b48_normal.jpeg   \n",
       "\n",
       "                                                                   user_profile_image_url_https  \\\n",
       "0                   https://pbs.twimg.com/profile_images/597000926272954368/eQ-8VrVk_normal.jpg   \n",
       "1                   https://pbs.twimg.com/profile_images/945333114582298625/C8zA_uvh_normal.jpg   \n",
       "2                   https://pbs.twimg.com/profile_images/986345956357615619/4zpa5kxF_normal.jpg   \n",
       "3                   https://pbs.twimg.com/profile_images/724407937234550784/6Jrvt3mv_normal.jpg   \n",
       "4  https://pbs.twimg.com/profile_images/3028148602/dfd898817c8d7e5c71e66df2f2fa6b48_normal.jpeg   \n",
       "\n",
       "  user_profile_link_color user_profile_sidebar_border_color  \\\n",
       "0                  1DA1F2                            C0DEED   \n",
       "1                  3B94D9                            FFFFFF   \n",
       "2                   50505                            FFFFFF   \n",
       "3                  1DA1F2                            C0DEED   \n",
       "4                  111BBB                            0B0C0F   \n",
       "\n",
       "  user_profile_sidebar_fill_color user_profile_text_color  \\\n",
       "0                          DDEEF6                  333333   \n",
       "1                          EFEFEF                  333333   \n",
       "2                          FC6A71                   50505   \n",
       "3                          DDEEF6                  333333   \n",
       "4                          3BA4CE                  1A1E1A   \n",
       "\n",
       "  user_profile_use_background_image user_protected user_screen_name  \\\n",
       "0                              True          False    UltraYOUwoman   \n",
       "1                              True          False        yungcutup   \n",
       "2                              True          False      rachelbogle   \n",
       "3                              True          False      ErvGotti609   \n",
       "4                              True          False     NoLuckNeeded   \n",
       "\n",
       "   user_statuses_count  user_time_zone user_translator_type  \\\n",
       "0              91870.0             NaN                 none   \n",
       "1             618822.0             NaN                 none   \n",
       "2              48075.0             NaN                 none   \n",
       "3               1983.0             NaN                 none   \n",
       "4              24989.0             NaN                 none   \n",
       "\n",
       "                  user_url  user_utc_offset user_verified  \n",
       "0  https://t.co/jGlJswxjwS              NaN         False  \n",
       "1   http://t.co/lVm8vfDbfO              NaN         False  \n",
       "2  https://t.co/g9exqgZp9x              NaN          True  \n",
       "3                      NaN              NaN         False  \n",
       "4   http://t.co/MMGF9RfLz0              NaN         False  "
      ]
     },
     "execution_count": 2,
     "metadata": {},
     "output_type": "execute_result"
    }
   ],
   "source": [
    "df = pd.read_csv(r'C:\\Users\\swetha\\Desktop\\justdoit_tweets_2018_09_07_2.csv')\n",
    "print(df.shape)\n",
    "df.head()"
   ]
  },
  {
   "cell_type": "code",
   "execution_count": 3,
   "metadata": {},
   "outputs": [
    {
     "data": {
      "text/plain": [
       "(5089, 72)"
      ]
     },
     "execution_count": 3,
     "metadata": {},
     "output_type": "execute_result"
    }
   ],
   "source": [
    "df.shape\n"
   ]
  },
  {
   "cell_type": "code",
   "execution_count": 4,
   "metadata": {},
   "outputs": [
    {
     "data": {
      "text/plain": [
       "Index(['tweet_contributors', 'tweet_coordinates', 'tweet_created_at',\n",
       "       'tweet_display_text_range', 'tweet_entities', 'tweet_extended_entities',\n",
       "       'tweet_favorite_count', 'tweet_favorited', 'tweet_full_text',\n",
       "       'tweet_geo', 'tweet_id', 'tweet_id_str',\n",
       "       'tweet_in_reply_to_screen_name', 'tweet_in_reply_to_status_id',\n",
       "       'tweet_in_reply_to_status_id_str', 'tweet_in_reply_to_user_id',\n",
       "       'tweet_in_reply_to_user_id_str', 'tweet_is_quote_status', 'tweet_lang',\n",
       "       'tweet_metadata', 'tweet_place', 'tweet_possibly_sensitive',\n",
       "       'tweet_quoted_status', 'tweet_quoted_status_id',\n",
       "       'tweet_quoted_status_id_str', 'tweet_retweet_count', 'tweet_retweeted',\n",
       "       'tweet_source', 'tweet_truncated', 'tweet_user',\n",
       "       'user_contributors_enabled', 'user_created_at', 'user_default_profile',\n",
       "       'user_default_profile_image', 'user_description', 'user_entities',\n",
       "       'user_favourites_count', 'user_follow_request_sent',\n",
       "       'user_followers_count', 'user_following', 'user_friends_count',\n",
       "       'user_geo_enabled', 'user_has_extended_profile', 'user_id',\n",
       "       'user_id_str', 'user_is_translation_enabled', 'user_is_translator',\n",
       "       'user_lang', 'user_listed_count', 'user_location', 'user_name',\n",
       "       'user_notifications', 'user_profile_background_color',\n",
       "       'user_profile_background_image_url',\n",
       "       'user_profile_background_image_url_https',\n",
       "       'user_profile_background_tile', 'user_profile_banner_url',\n",
       "       'user_profile_image_url', 'user_profile_image_url_https',\n",
       "       'user_profile_link_color', 'user_profile_sidebar_border_color',\n",
       "       'user_profile_sidebar_fill_color', 'user_profile_text_color',\n",
       "       'user_profile_use_background_image', 'user_protected',\n",
       "       'user_screen_name', 'user_statuses_count', 'user_time_zone',\n",
       "       'user_translator_type', 'user_url', 'user_utc_offset', 'user_verified'],\n",
       "      dtype='object')"
      ]
     },
     "execution_count": 4,
     "metadata": {},
     "output_type": "execute_result"
    }
   ],
   "source": [
    "df.columns"
   ]
  },
  {
   "cell_type": "code",
   "execution_count": 5,
   "metadata": {},
   "outputs": [
    {
     "data": {
      "text/plain": [
       "(5089, 23)"
      ]
     },
     "execution_count": 5,
     "metadata": {},
     "output_type": "execute_result"
    }
   ],
   "source": [
    "df1=df.drop(['tweet_contributors', 'tweet_coordinates', 'tweet_favorited','tweet_id_str',\n",
    "       'tweet_in_reply_to_screen_name', 'tweet_in_reply_to_status_id',\n",
    "       'tweet_in_reply_to_status_id_str', 'tweet_in_reply_to_user_id',\n",
    "       'tweet_in_reply_to_user_id_str', 'tweet_is_quote_status', 'tweet_lang',\n",
    "       'tweet_metadata', 'tweet_place', 'tweet_possibly_sensitive',\n",
    "       'tweet_quoted_status', 'tweet_quoted_status_id',\n",
    "       'tweet_quoted_status_id_str', 'tweet_retweet_count', 'tweet_retweeted',\n",
    "       'tweet_source', 'tweet_truncated',\n",
    "       'user_contributors_enabled', 'user_default_profile',\n",
    "       'user_default_profile_image','user_follow_request_sent',\n",
    "       'user_followers_count', 'user_following',\n",
    "       'user_geo_enabled', 'user_has_extended_profile',\n",
    "       'user_id_str', 'user_is_translation_enabled', 'user_is_translator',\n",
    "       'user_lang',\n",
    "       'user_notifications', 'user_profile_background_color',\n",
    "       'user_profile_background_image_url',\n",
    "       'user_profile_background_image_url_https',\n",
    "       'user_profile_background_tile', 'user_profile_banner_url',\n",
    "       'user_profile_image_url', 'user_profile_image_url_https',\n",
    "       'user_profile_link_color', 'user_profile_sidebar_border_color',\n",
    "       'user_profile_sidebar_fill_color', 'user_profile_text_color',\n",
    "       'user_profile_use_background_image', 'user_protected',\n",
    "       'user_translator_type', 'user_verified'],axis='columns')\n",
    "df1.shape"
   ]
  },
  {
   "cell_type": "code",
   "execution_count": 6,
   "metadata": {
    "scrolled": true
   },
   "outputs": [
    {
     "data": {
      "text/plain": [
       "tweet_created_at               0\n",
       "tweet_display_text_range       0\n",
       "tweet_entities                 0\n",
       "tweet_extended_entities     3762\n",
       "tweet_favorite_count           0\n",
       "tweet_full_text                0\n",
       "tweet_geo                   4961\n",
       "tweet_id                       0\n",
       "tweet_user                     0\n",
       "user_created_at                0\n",
       "user_description             560\n",
       "user_entities                  1\n",
       "user_favourites_count          1\n",
       "user_friends_count             1\n",
       "user_id                        1\n",
       "user_listed_count              1\n",
       "user_location               1065\n",
       "user_name                      1\n",
       "user_screen_name               1\n",
       "user_statuses_count            1\n",
       "user_time_zone              5089\n",
       "user_url                    3014\n",
       "user_utc_offset             5089\n",
       "dtype: int64"
      ]
     },
     "execution_count": 6,
     "metadata": {},
     "output_type": "execute_result"
    }
   ],
   "source": [
    "df1.isnull().sum()"
   ]
  },
  {
   "cell_type": "code",
   "execution_count": 7,
   "metadata": {},
   "outputs": [],
   "source": [
    "df2=df1.drop(['tweet_extended_entities','tweet_geo','user_description','user_location','user_time_zone','user_url','user_utc_offset'],axis='columns')"
   ]
  },
  {
   "cell_type": "code",
   "execution_count": 8,
   "metadata": {},
   "outputs": [
    {
     "data": {
      "text/plain": [
       "(5089, 16)"
      ]
     },
     "execution_count": 8,
     "metadata": {},
     "output_type": "execute_result"
    }
   ],
   "source": [
    "df2.shape"
   ]
  },
  {
   "cell_type": "markdown",
   "metadata": {},
   "source": [
    "df2.shape"
   ]
  },
  {
   "cell_type": "code",
   "execution_count": 9,
   "metadata": {},
   "outputs": [
    {
     "data": {
      "text/plain": [
       "tweet_created_at            0\n",
       "tweet_display_text_range    0\n",
       "tweet_entities              0\n",
       "tweet_favorite_count        0\n",
       "tweet_full_text             0\n",
       "tweet_id                    0\n",
       "tweet_user                  0\n",
       "user_created_at             0\n",
       "user_entities               1\n",
       "user_favourites_count       1\n",
       "user_friends_count          1\n",
       "user_id                     1\n",
       "user_listed_count           1\n",
       "user_name                   1\n",
       "user_screen_name            1\n",
       "user_statuses_count         1\n",
       "dtype: int64"
      ]
     },
     "execution_count": 9,
     "metadata": {},
     "output_type": "execute_result"
    }
   ],
   "source": [
    "df2.isnull().sum()"
   ]
  },
  {
   "cell_type": "code",
   "execution_count": 10,
   "metadata": {},
   "outputs": [
    {
     "data": {
      "text/html": [
       "<div>\n",
       "<style scoped>\n",
       "    .dataframe tbody tr th:only-of-type {\n",
       "        vertical-align: middle;\n",
       "    }\n",
       "\n",
       "    .dataframe tbody tr th {\n",
       "        vertical-align: top;\n",
       "    }\n",
       "\n",
       "    .dataframe thead th {\n",
       "        text-align: right;\n",
       "    }\n",
       "</style>\n",
       "<table border=\"1\" class=\"dataframe\">\n",
       "  <thead>\n",
       "    <tr style=\"text-align: right;\">\n",
       "      <th></th>\n",
       "      <th>tweet_created_at</th>\n",
       "      <th>tweet_display_text_range</th>\n",
       "      <th>tweet_entities</th>\n",
       "      <th>tweet_favorite_count</th>\n",
       "      <th>tweet_full_text</th>\n",
       "      <th>tweet_id</th>\n",
       "      <th>tweet_user</th>\n",
       "      <th>user_created_at</th>\n",
       "      <th>user_entities</th>\n",
       "      <th>user_favourites_count</th>\n",
       "      <th>user_friends_count</th>\n",
       "      <th>user_id</th>\n",
       "      <th>user_listed_count</th>\n",
       "      <th>user_name</th>\n",
       "      <th>user_screen_name</th>\n",
       "      <th>user_statuses_count</th>\n",
       "    </tr>\n",
       "  </thead>\n",
       "  <tbody>\n",
       "    <tr>\n",
       "      <th>0</th>\n",
       "      <td>Fri Sep 07 16:25:06 +0000 2018</td>\n",
       "      <td>[0, 75]</td>\n",
       "      <td>{'hashtags': [{'text': 'quote', 'indices': [47, 53]}, {'text': 'motivation', 'indices': [54, 65]}, {'text': 'justdoit', 'indices': [66, 75]}], 'symbols': [], 'user_mentions': [], 'urls': [], 'media': [{'id': 1038100853872197632, 'id_str': '1038100853872197632', 'indices': [76...</td>\n",
       "      <td>0</td>\n",
       "      <td>Done is better than perfect. — Sheryl Sandberg #quote #motivation #justdoit https://t.co/J9lLdszdW6</td>\n",
       "      <td>1.038100e+18</td>\n",
       "      <td>{'id': 3188618684, 'id_str': '3188618684', 'name': 'Ultra YOU Woman', 'screen_name': 'UltraYOUwoman', 'location': 'California, USA', 'description': 'I share tips to achieve your health goals and be your best self inside &amp; out! Plus healthy living, weight loss success stories,...</td>\n",
       "      <td>Fri May 08 10:27:51 +0000 2015</td>\n",
       "      <td>{'url': {'urls': [{'url': 'https://t.co/jGlJswxjwS', 'expanded_url': 'https://about.me/ultrayouwoman', 'display_url': 'about.me/ultrayouwoman', 'indices': [0, 23]}]}, 'description': {'urls': []}}</td>\n",
       "      <td>307.0</td>\n",
       "      <td>48721.0</td>\n",
       "      <td>3.188619e+09</td>\n",
       "      <td>629.0</td>\n",
       "      <td>Ultra YOU Woman</td>\n",
       "      <td>UltraYOUwoman</td>\n",
       "      <td>91870.0</td>\n",
       "    </tr>\n",
       "    <tr>\n",
       "      <th>1</th>\n",
       "      <td>Fri Sep 07 16:24:59 +0000 2018</td>\n",
       "      <td>[0, 237]</td>\n",
       "      <td>{'hashtags': [{'text': 'hero', 'indices': [90, 95]}, {'text': 'fdny', 'indices': [96, 101]}, {'text': 'likesforlikes', 'indices': [102, 116]}, {'text': 'promo', 'indices': [117, 123]}, {'text': 'music', 'indices': [124, 130]}, {'text': 'instagood', 'indices': [131, 141]}, {'t...</td>\n",
       "      <td>0</td>\n",
       "      <td>Shout out to the Great Fire Department and the tour! 👨‍🚒👨‍🚒 Much love to NYC! 💯🎥🔥✊🏿\\n•\\n•\\n•\\n#hero #fdny #likesforlikes #promo #music #instagood #instadaily #postoftheday #bestoftheday #justdoit #nike #picoftheday... https://t.co/sFobQ2ukpo</td>\n",
       "      <td>1.038100e+18</td>\n",
       "      <td>{'id': 18387174, 'id_str': '18387174', 'name': 'Yung Cut Up (Videos)', 'screen_name': 'yungcutup', 'location': 'Miami, Florida', 'description': 'All Business inquiries contact cluuxx@gmail.com / Support &amp; Download my new mixtape \"Clear Skies\" https://t.co/0tOeBuJHHH', 'url': ...</td>\n",
       "      <td>Fri Dec 26 09:30:23 +0000 2008</td>\n",
       "      <td>{'url': {'urls': [{'url': 'http://t.co/lVm8vfDbfO', 'expanded_url': 'http://youtube.com/yungcutuptv', 'display_url': 'youtube.com/yungcutuptv', 'indices': [0, 22]}]}, 'description': {'urls': [{'url': 'https://t.co/0tOeBuJHHH', 'expanded_url': 'http://piff.me/6613310', 'displa...</td>\n",
       "      <td>1178.0</td>\n",
       "      <td>5489.0</td>\n",
       "      <td>1.838717e+07</td>\n",
       "      <td>150.0</td>\n",
       "      <td>Yung Cut Up (Videos)</td>\n",
       "      <td>yungcutup</td>\n",
       "      <td>618822.0</td>\n",
       "    </tr>\n",
       "    <tr>\n",
       "      <th>2</th>\n",
       "      <td>Fri Sep 07 16:24:50 +0000 2018</td>\n",
       "      <td>[0, 176]</td>\n",
       "      <td>{'hashtags': [{'text': 'JustDoIt', 'indices': [127, 136]}, {'text': '4YourMorning', 'indices': [137, 150]}, {'text': '4YourMemeCollection', 'indices': [151, 171]}], 'symbols': [], 'user_mentions': [], 'urls': [], 'media': [{'id': 1038100773396041728, 'id_str': '10381007733960...</td>\n",
       "      <td>0</td>\n",
       "      <td>There are some AMAZINGLY hilarious Nike Ad memes happening on my newsfeed.  Soooo, I decided to get a little creative too... \\n\\n#JustDoIt #4YourMorning #4YourMemeCollection \\n\\n🍪😂 https://t.co/6ok9qR6k6M</td>\n",
       "      <td>1.038100e+18</td>\n",
       "      <td>{'id': 32645612, 'id_str': '32645612', 'name': 'Rachel Bogle', 'screen_name': 'rachelbogle', 'location': 'Indianapolis, IN', 'description': 'Morning Traffic Reporter @CBS4Indy | Traffic Authority | Radio 📻 to TV 📺 | Indiana Raised | @IUBloomington Alum | Morkie Mom to Gizmo |...</td>\n",
       "      <td>Fri Apr 17 23:04:15 +0000 2009</td>\n",
       "      <td>{'url': {'urls': [{'url': 'https://t.co/g9exqgZp9x', 'expanded_url': 'http://www.cbs4indy.com', 'display_url': 'cbs4indy.com', 'indices': [0, 23]}]}, 'description': {'urls': []}}</td>\n",
       "      <td>11864.0</td>\n",
       "      <td>2386.0</td>\n",
       "      <td>3.264561e+07</td>\n",
       "      <td>193.0</td>\n",
       "      <td>Rachel Bogle</td>\n",
       "      <td>rachelbogle</td>\n",
       "      <td>48075.0</td>\n",
       "    </tr>\n",
       "    <tr>\n",
       "      <th>3</th>\n",
       "      <td>Fri Sep 07 16:24:44 +0000 2018</td>\n",
       "      <td>[0, 88]</td>\n",
       "      <td>{'hashtags': [{'text': 'kapernickeffect', 'indices': [0, 16]}, {'text': 'swoosh', 'indices': [17, 24]}, {'text': 'justdoit', 'indices': [25, 34]}], 'symbols': [], 'user_mentions': [], 'urls': [{'url': 'https://t.co/BhPBnjOkuU', 'expanded_url': 'https://www.instagram.com/p/Bnb...</td>\n",
       "      <td>0</td>\n",
       "      <td>#kapernickeffect #swoosh #justdoit @ Lucas Bishop's Cigar Lounge https://t.co/BhPBnjOkuU</td>\n",
       "      <td>1.038100e+18</td>\n",
       "      <td>{'id': 175932740, 'id_str': '175932740', 'name': 'Ervin Youngblood', 'screen_name': 'ErvGotti609', 'location': 'Tennessee by way of New Jersey', 'description': \"Christ-Family-Career.. \\rNY\\nGiants, Mets, 76ers, Penguins, Florida State, Tar Heel Men's BB\", 'url': None, 'entiti...</td>\n",
       "      <td>Sun Aug 08 02:02:56 +0000 2010</td>\n",
       "      <td>{'description': {'urls': []}}</td>\n",
       "      <td>487.0</td>\n",
       "      <td>965.0</td>\n",
       "      <td>1.759327e+08</td>\n",
       "      <td>1.0</td>\n",
       "      <td>Ervin Youngblood</td>\n",
       "      <td>ErvGotti609</td>\n",
       "      <td>1983.0</td>\n",
       "    </tr>\n",
       "    <tr>\n",
       "      <th>4</th>\n",
       "      <td>Fri Sep 07 16:24:39 +0000 2018</td>\n",
       "      <td>[0, 132]</td>\n",
       "      <td>{'hashtags': [{'text': 'shaquem', 'indices': [74, 82]}, {'text': 'NFL', 'indices': [84, 88]}, {'text': 'Seattle', 'indices': [89, 97]}, {'text': 'Seahawks', 'indices': [98, 107]}, {'text': 'griffin', 'indices': [108, 116]}, {'text': 'JustDoIt', 'indices': [117, 126]}, {'text'...</td>\n",
       "      <td>0</td>\n",
       "      <td>One Hand, One Dream: The Shaquem Griffin Story  https://t.co/0EbEmwULLF   #shaquem  #NFL #Seattle #Seahawks #griffin #JustDoIt #Nike https://t.co/pr8eosDZS7</td>\n",
       "      <td>1.038100e+18</td>\n",
       "      <td>{'id': 22306628, 'id_str': '22306628', 'name': 'NoLuckNeeded.com', 'screen_name': 'NoLuckNeeded', 'location': 'Gambleville', 'description': 'https://t.co/Lnr5uRql8x is a Friendly Online Gambling Forum that was established in 2004 ♣  Be Gamble Aware 18+ https://t.co/2RyHF1JlEt...</td>\n",
       "      <td>Sat Feb 28 23:13:57 +0000 2009</td>\n",
       "      <td>{'url': {'urls': [{'url': 'http://t.co/MMGF9RfLz0', 'expanded_url': 'http://noluckneeded.com', 'display_url': 'noluckneeded.com', 'indices': [0, 22]}]}, 'description': {'urls': [{'url': 'https://t.co/Lnr5uRql8x', 'expanded_url': 'http://NoLuckNeeded.com', 'display_url': 'NoLu...</td>\n",
       "      <td>32971.0</td>\n",
       "      <td>13629.0</td>\n",
       "      <td>2.230663e+07</td>\n",
       "      <td>181.0</td>\n",
       "      <td>NoLuckNeeded.com</td>\n",
       "      <td>NoLuckNeeded</td>\n",
       "      <td>24989.0</td>\n",
       "    </tr>\n",
       "    <tr>\n",
       "      <th>...</th>\n",
       "      <td>...</td>\n",
       "      <td>...</td>\n",
       "      <td>...</td>\n",
       "      <td>...</td>\n",
       "      <td>...</td>\n",
       "      <td>...</td>\n",
       "      <td>...</td>\n",
       "      <td>...</td>\n",
       "      <td>...</td>\n",
       "      <td>...</td>\n",
       "      <td>...</td>\n",
       "      <td>...</td>\n",
       "      <td>...</td>\n",
       "      <td>...</td>\n",
       "      <td>...</td>\n",
       "      <td>...</td>\n",
       "    </tr>\n",
       "    <tr>\n",
       "      <th>5084</th>\n",
       "      <td>Fri Sep 07 00:18:24 +0000 2018</td>\n",
       "      <td>[0, 32]</td>\n",
       "      <td>{'hashtags': [{'text': 'JustDoIt', 'indices': [23, 32]}], 'symbols': [], 'user_mentions': [], 'urls': [{'url': 'https://t.co/4MKBVNQKGO', 'expanded_url': 'https://twitter.com/EdKrassen/status/1037848209064976385', 'display_url': 'twitter.com/EdKrassen/stat…', 'indices': [33, ...</td>\n",
       "      <td>0</td>\n",
       "      <td>We have what we need.  #JustDoIt https://t.co/4MKBVNQKGO</td>\n",
       "      <td>1.037860e+18</td>\n",
       "      <td>{'id': 17514726, 'id_str': '17514726', 'name': 'TraceTime', 'screen_name': 'tracetime', 'location': '', 'description': 'Disrupting the Universe with thought and feeling', 'url': None, 'entities': {'description': {'urls': []}}, 'protected': False, 'followers_count': 2138, 'fri...</td>\n",
       "      <td>Thu Nov 20 16:26:05 +0000 2008</td>\n",
       "      <td>{'description': {'urls': []}}</td>\n",
       "      <td>36185.0</td>\n",
       "      <td>1989.0</td>\n",
       "      <td>1.751473e+07</td>\n",
       "      <td>114.0</td>\n",
       "      <td>TraceTime</td>\n",
       "      <td>tracetime</td>\n",
       "      <td>65443.0</td>\n",
       "    </tr>\n",
       "    <tr>\n",
       "      <th>5085</th>\n",
       "      <td>Fri Sep 07 00:18:14 +0000 2018</td>\n",
       "      <td>[0, 79]</td>\n",
       "      <td>{'hashtags': [{'text': 'MGK', 'indices': [31, 35]}, {'text': 'RapDevil', 'indices': [36, 45]}, {'text': 'justdoit', 'indices': [46, 55]}, {'text': 'neverbackdown', 'indices': [56, 70]}, {'text': 'believe', 'indices': [71, 79]}], 'symbols': [], 'user_mentions': [], 'urls': [],...</td>\n",
       "      <td>0</td>\n",
       "      <td>Even the best can take an L!!\\n\\n#MGK #RapDevil #justdoit #neverbackdown #believe https://t.co/5TjxUn2UEv</td>\n",
       "      <td>1.037860e+18</td>\n",
       "      <td>{'id': 798157472263446532, 'id_str': '798157472263446532', 'name': 'Michael Grayson', 'screen_name': 'mgeezy1919', 'location': '', 'description': '🔫U.S. Army🔫 \\n-Personal Trainer-\\nfrom Richmond,VA 804. \\nTattoos are life..\\nGym Junky!! \\nTaken!! \\n👻:mgeezy1919\\nInstagram: mg...</td>\n",
       "      <td>Mon Nov 14 13:35:45 +0000 2016</td>\n",
       "      <td>{'description': {'urls': []}}</td>\n",
       "      <td>682.0</td>\n",
       "      <td>501.0</td>\n",
       "      <td>7.980000e+17</td>\n",
       "      <td>2.0</td>\n",
       "      <td>Michael Grayson</td>\n",
       "      <td>mgeezy1919</td>\n",
       "      <td>536.0</td>\n",
       "    </tr>\n",
       "    <tr>\n",
       "      <th>5086</th>\n",
       "      <td>Fri Sep 07 00:18:05 +0000 2018</td>\n",
       "      <td>[0, 132]</td>\n",
       "      <td>{'hashtags': [{'text': 'MamaSaidKnockYouOut', 'indices': [98, 118]}, {'text': 'JustDoIt', 'indices': [119, 128]}], 'symbols': [], 'user_mentions': [], 'urls': []}</td>\n",
       "      <td>0</td>\n",
       "      <td>Serena! All Serena, 9 of the last 10 games. If you're not watching I feel sad for you. Inspiring. #MamaSaidKnockYouOut #JustDoIt 🎾🎾🎾</td>\n",
       "      <td>1.037860e+18</td>\n",
       "      <td>{'id': 16634486, 'id_str': '16634486', 'name': 'Nioshii', 'screen_name': 'Nartist', 'location': '', 'description': 'Lifelong artist passionate about social justice, aesthetics, politics &amp; travel. Native New Yorker in ATL for now... ~N~', 'url': None, 'entities': {'description...</td>\n",
       "      <td>Tue Oct 07 19:03:36 +0000 2008</td>\n",
       "      <td>{'description': {'urls': []}}</td>\n",
       "      <td>157859.0</td>\n",
       "      <td>1835.0</td>\n",
       "      <td>1.663449e+07</td>\n",
       "      <td>102.0</td>\n",
       "      <td>Nioshii</td>\n",
       "      <td>Nartist</td>\n",
       "      <td>218740.0</td>\n",
       "    </tr>\n",
       "    <tr>\n",
       "      <th>5087</th>\n",
       "      <td>Fri Sep 07 00:17:49 +0000 2018</td>\n",
       "      <td>[0, 62]</td>\n",
       "      <td>{'hashtags': [{'text': 'USOpen2018', 'indices': [16, 27]}, {'text': 'Tutu', 'indices': [47, 52]}, {'text': 'JustDoIt', 'indices': [53, 62]}], 'symbols': [], 'user_mentions': [{'screen_name': 'serenawilliams', 'name': 'Serena Williams', 'id': 26589987, 'id_str': '26589987', 'i...</td>\n",
       "      <td>0</td>\n",
       "      <td>@serenawilliams #USOpen2018 Tearing it up your #Tutu #JustDoIt</td>\n",
       "      <td>1.037860e+18</td>\n",
       "      <td>{'id': 126147359, 'id_str': '126147359', 'name': 'Beverly Moore', 'screen_name': 'bevmeghan', 'location': 'Georgia, USA', 'description': 'Former CNN Sr. Copy Editor, freelance copy editor, proud mother of an independent film producer and an independent music producer', 'url':...</td>\n",
       "      <td>Thu Mar 25 00:06:10 +0000 2010</td>\n",
       "      <td>{'description': {'urls': []}}</td>\n",
       "      <td>3832.0</td>\n",
       "      <td>812.0</td>\n",
       "      <td>1.261474e+08</td>\n",
       "      <td>7.0</td>\n",
       "      <td>Beverly Moore</td>\n",
       "      <td>bevmeghan</td>\n",
       "      <td>2542.0</td>\n",
       "    </tr>\n",
       "    <tr>\n",
       "      <th>5088</th>\n",
       "      <td>Fri Sep 07 00:17:13 +0000 2018</td>\n",
       "      <td>[0, 78]</td>\n",
       "      <td>{'hashtags': [{'text': 'Justdoit', 'indices': [13, 22]}], 'symbols': [], 'user_mentions': [], 'urls': []}</td>\n",
       "      <td>1</td>\n",
       "      <td>WOW the Nike #Justdoit add they played before the game actually gave me chills</td>\n",
       "      <td>1.037860e+18</td>\n",
       "      <td>{'id': 28454708, 'id_str': '28454708', 'name': 'The King in the North', 'screen_name': 'RichieRaya', 'location': 'Disney', 'description': 'Assistant to the produce manager', 'url': 'https://t.co/Y1Zt6LMGiV', 'entities': {'url': {'urls': [{'url': 'https://t.co/Y1Zt6LMGiV', 'ex...</td>\n",
       "      <td>Fri Apr 03 00:07:24 +0000 2009</td>\n",
       "      <td>{'url': {'urls': [{'url': 'https://t.co/Y1Zt6LMGiV', 'expanded_url': 'https://twitter.com/RichieRaya', 'display_url': 'twitter.com/RichieRaya', 'indices': [0, 23]}]}, 'description': {'urls': []}}</td>\n",
       "      <td>3341.0</td>\n",
       "      <td>191.0</td>\n",
       "      <td>2.845471e+07</td>\n",
       "      <td>2.0</td>\n",
       "      <td>The King in the North</td>\n",
       "      <td>RichieRaya</td>\n",
       "      <td>40436.0</td>\n",
       "    </tr>\n",
       "  </tbody>\n",
       "</table>\n",
       "<p>5089 rows × 16 columns</p>\n",
       "</div>"
      ],
      "text/plain": [
       "                    tweet_created_at tweet_display_text_range  \\\n",
       "0     Fri Sep 07 16:25:06 +0000 2018                  [0, 75]   \n",
       "1     Fri Sep 07 16:24:59 +0000 2018                 [0, 237]   \n",
       "2     Fri Sep 07 16:24:50 +0000 2018                 [0, 176]   \n",
       "3     Fri Sep 07 16:24:44 +0000 2018                  [0, 88]   \n",
       "4     Fri Sep 07 16:24:39 +0000 2018                 [0, 132]   \n",
       "...                              ...                      ...   \n",
       "5084  Fri Sep 07 00:18:24 +0000 2018                  [0, 32]   \n",
       "5085  Fri Sep 07 00:18:14 +0000 2018                  [0, 79]   \n",
       "5086  Fri Sep 07 00:18:05 +0000 2018                 [0, 132]   \n",
       "5087  Fri Sep 07 00:17:49 +0000 2018                  [0, 62]   \n",
       "5088  Fri Sep 07 00:17:13 +0000 2018                  [0, 78]   \n",
       "\n",
       "                                                                                                                                                                                                                                                                               tweet_entities  \\\n",
       "0     {'hashtags': [{'text': 'quote', 'indices': [47, 53]}, {'text': 'motivation', 'indices': [54, 65]}, {'text': 'justdoit', 'indices': [66, 75]}], 'symbols': [], 'user_mentions': [], 'urls': [], 'media': [{'id': 1038100853872197632, 'id_str': '1038100853872197632', 'indices': [76...   \n",
       "1     {'hashtags': [{'text': 'hero', 'indices': [90, 95]}, {'text': 'fdny', 'indices': [96, 101]}, {'text': 'likesforlikes', 'indices': [102, 116]}, {'text': 'promo', 'indices': [117, 123]}, {'text': 'music', 'indices': [124, 130]}, {'text': 'instagood', 'indices': [131, 141]}, {'t...   \n",
       "2     {'hashtags': [{'text': 'JustDoIt', 'indices': [127, 136]}, {'text': '4YourMorning', 'indices': [137, 150]}, {'text': '4YourMemeCollection', 'indices': [151, 171]}], 'symbols': [], 'user_mentions': [], 'urls': [], 'media': [{'id': 1038100773396041728, 'id_str': '10381007733960...   \n",
       "3     {'hashtags': [{'text': 'kapernickeffect', 'indices': [0, 16]}, {'text': 'swoosh', 'indices': [17, 24]}, {'text': 'justdoit', 'indices': [25, 34]}], 'symbols': [], 'user_mentions': [], 'urls': [{'url': 'https://t.co/BhPBnjOkuU', 'expanded_url': 'https://www.instagram.com/p/Bnb...   \n",
       "4     {'hashtags': [{'text': 'shaquem', 'indices': [74, 82]}, {'text': 'NFL', 'indices': [84, 88]}, {'text': 'Seattle', 'indices': [89, 97]}, {'text': 'Seahawks', 'indices': [98, 107]}, {'text': 'griffin', 'indices': [108, 116]}, {'text': 'JustDoIt', 'indices': [117, 126]}, {'text'...   \n",
       "...                                                                                                                                                                                                                                                                                       ...   \n",
       "5084  {'hashtags': [{'text': 'JustDoIt', 'indices': [23, 32]}], 'symbols': [], 'user_mentions': [], 'urls': [{'url': 'https://t.co/4MKBVNQKGO', 'expanded_url': 'https://twitter.com/EdKrassen/status/1037848209064976385', 'display_url': 'twitter.com/EdKrassen/stat…', 'indices': [33, ...   \n",
       "5085  {'hashtags': [{'text': 'MGK', 'indices': [31, 35]}, {'text': 'RapDevil', 'indices': [36, 45]}, {'text': 'justdoit', 'indices': [46, 55]}, {'text': 'neverbackdown', 'indices': [56, 70]}, {'text': 'believe', 'indices': [71, 79]}], 'symbols': [], 'user_mentions': [], 'urls': [],...   \n",
       "5086                                                                                                                       {'hashtags': [{'text': 'MamaSaidKnockYouOut', 'indices': [98, 118]}, {'text': 'JustDoIt', 'indices': [119, 128]}], 'symbols': [], 'user_mentions': [], 'urls': []}   \n",
       "5087  {'hashtags': [{'text': 'USOpen2018', 'indices': [16, 27]}, {'text': 'Tutu', 'indices': [47, 52]}, {'text': 'JustDoIt', 'indices': [53, 62]}], 'symbols': [], 'user_mentions': [{'screen_name': 'serenawilliams', 'name': 'Serena Williams', 'id': 26589987, 'id_str': '26589987', 'i...   \n",
       "5088                                                                                                                                                                                {'hashtags': [{'text': 'Justdoit', 'indices': [13, 22]}], 'symbols': [], 'user_mentions': [], 'urls': []}   \n",
       "\n",
       "      tweet_favorite_count  \\\n",
       "0                        0   \n",
       "1                        0   \n",
       "2                        0   \n",
       "3                        0   \n",
       "4                        0   \n",
       "...                    ...   \n",
       "5084                     0   \n",
       "5085                     0   \n",
       "5086                     0   \n",
       "5087                     0   \n",
       "5088                     1   \n",
       "\n",
       "                                                                                                                                                                                                                                        tweet_full_text  \\\n",
       "0                                                                                                                                                   Done is better than perfect. — Sheryl Sandberg #quote #motivation #justdoit https://t.co/J9lLdszdW6   \n",
       "1     Shout out to the Great Fire Department and the tour! 👨‍🚒👨‍🚒 Much love to NYC! 💯🎥🔥✊🏿\\n•\\n•\\n•\\n#hero #fdny #likesforlikes #promo #music #instagood #instadaily #postoftheday #bestoftheday #justdoit #nike #picoftheday... https://t.co/sFobQ2ukpo   \n",
       "2                                          There are some AMAZINGLY hilarious Nike Ad memes happening on my newsfeed.  Soooo, I decided to get a little creative too... \\n\\n#JustDoIt #4YourMorning #4YourMemeCollection \\n\\n🍪😂 https://t.co/6ok9qR6k6M   \n",
       "3                                                                                                                                                              #kapernickeffect #swoosh #justdoit @ Lucas Bishop's Cigar Lounge https://t.co/BhPBnjOkuU   \n",
       "4                                                                                          One Hand, One Dream: The Shaquem Griffin Story  https://t.co/0EbEmwULLF   #shaquem  #NFL #Seattle #Seahawks #griffin #JustDoIt #Nike https://t.co/pr8eosDZS7   \n",
       "...                                                                                                                                                                                                                                                 ...   \n",
       "5084                                                                                                                                                                                           We have what we need.  #JustDoIt https://t.co/4MKBVNQKGO   \n",
       "5085                                                                                                                                          Even the best can take an L!!\\n\\n#MGK #RapDevil #justdoit #neverbackdown #believe https://t.co/5TjxUn2UEv   \n",
       "5086                                                                                                               Serena! All Serena, 9 of the last 10 games. If you're not watching I feel sad for you. Inspiring. #MamaSaidKnockYouOut #JustDoIt 🎾🎾🎾   \n",
       "5087                                                                                                                                                                                     @serenawilliams #USOpen2018 Tearing it up your #Tutu #JustDoIt   \n",
       "5088                                                                                                                                                                     WOW the Nike #Justdoit add they played before the game actually gave me chills   \n",
       "\n",
       "          tweet_id  \\\n",
       "0     1.038100e+18   \n",
       "1     1.038100e+18   \n",
       "2     1.038100e+18   \n",
       "3     1.038100e+18   \n",
       "4     1.038100e+18   \n",
       "...            ...   \n",
       "5084  1.037860e+18   \n",
       "5085  1.037860e+18   \n",
       "5086  1.037860e+18   \n",
       "5087  1.037860e+18   \n",
       "5088  1.037860e+18   \n",
       "\n",
       "                                                                                                                                                                                                                                                                                   tweet_user  \\\n",
       "0     {'id': 3188618684, 'id_str': '3188618684', 'name': 'Ultra YOU Woman', 'screen_name': 'UltraYOUwoman', 'location': 'California, USA', 'description': 'I share tips to achieve your health goals and be your best self inside & out! Plus healthy living, weight loss success stories,...   \n",
       "1     {'id': 18387174, 'id_str': '18387174', 'name': 'Yung Cut Up (Videos)', 'screen_name': 'yungcutup', 'location': 'Miami, Florida', 'description': 'All Business inquiries contact cluuxx@gmail.com / Support & Download my new mixtape \"Clear Skies\" https://t.co/0tOeBuJHHH', 'url': ...   \n",
       "2     {'id': 32645612, 'id_str': '32645612', 'name': 'Rachel Bogle', 'screen_name': 'rachelbogle', 'location': 'Indianapolis, IN', 'description': 'Morning Traffic Reporter @CBS4Indy | Traffic Authority | Radio 📻 to TV 📺 | Indiana Raised | @IUBloomington Alum | Morkie Mom to Gizmo |...   \n",
       "3     {'id': 175932740, 'id_str': '175932740', 'name': 'Ervin Youngblood', 'screen_name': 'ErvGotti609', 'location': 'Tennessee by way of New Jersey', 'description': \"Christ-Family-Career.. \\rNY\\nGiants, Mets, 76ers, Penguins, Florida State, Tar Heel Men's BB\", 'url': None, 'entiti...   \n",
       "4     {'id': 22306628, 'id_str': '22306628', 'name': 'NoLuckNeeded.com', 'screen_name': 'NoLuckNeeded', 'location': 'Gambleville', 'description': 'https://t.co/Lnr5uRql8x is a Friendly Online Gambling Forum that was established in 2004 ♣  Be Gamble Aware 18+ https://t.co/2RyHF1JlEt...   \n",
       "...                                                                                                                                                                                                                                                                                       ...   \n",
       "5084  {'id': 17514726, 'id_str': '17514726', 'name': 'TraceTime', 'screen_name': 'tracetime', 'location': '', 'description': 'Disrupting the Universe with thought and feeling', 'url': None, 'entities': {'description': {'urls': []}}, 'protected': False, 'followers_count': 2138, 'fri...   \n",
       "5085  {'id': 798157472263446532, 'id_str': '798157472263446532', 'name': 'Michael Grayson', 'screen_name': 'mgeezy1919', 'location': '', 'description': '🔫U.S. Army🔫 \\n-Personal Trainer-\\nfrom Richmond,VA 804. \\nTattoos are life..\\nGym Junky!! \\nTaken!! \\n👻:mgeezy1919\\nInstagram: mg...   \n",
       "5086  {'id': 16634486, 'id_str': '16634486', 'name': 'Nioshii', 'screen_name': 'Nartist', 'location': '', 'description': 'Lifelong artist passionate about social justice, aesthetics, politics & travel. Native New Yorker in ATL for now... ~N~', 'url': None, 'entities': {'description...   \n",
       "5087  {'id': 126147359, 'id_str': '126147359', 'name': 'Beverly Moore', 'screen_name': 'bevmeghan', 'location': 'Georgia, USA', 'description': 'Former CNN Sr. Copy Editor, freelance copy editor, proud mother of an independent film producer and an independent music producer', 'url':...   \n",
       "5088  {'id': 28454708, 'id_str': '28454708', 'name': 'The King in the North', 'screen_name': 'RichieRaya', 'location': 'Disney', 'description': 'Assistant to the produce manager', 'url': 'https://t.co/Y1Zt6LMGiV', 'entities': {'url': {'urls': [{'url': 'https://t.co/Y1Zt6LMGiV', 'ex...   \n",
       "\n",
       "                     user_created_at  \\\n",
       "0     Fri May 08 10:27:51 +0000 2015   \n",
       "1     Fri Dec 26 09:30:23 +0000 2008   \n",
       "2     Fri Apr 17 23:04:15 +0000 2009   \n",
       "3     Sun Aug 08 02:02:56 +0000 2010   \n",
       "4     Sat Feb 28 23:13:57 +0000 2009   \n",
       "...                              ...   \n",
       "5084  Thu Nov 20 16:26:05 +0000 2008   \n",
       "5085  Mon Nov 14 13:35:45 +0000 2016   \n",
       "5086  Tue Oct 07 19:03:36 +0000 2008   \n",
       "5087  Thu Mar 25 00:06:10 +0000 2010   \n",
       "5088  Fri Apr 03 00:07:24 +0000 2009   \n",
       "\n",
       "                                                                                                                                                                                                                                                                                user_entities  \\\n",
       "0                                                                                         {'url': {'urls': [{'url': 'https://t.co/jGlJswxjwS', 'expanded_url': 'https://about.me/ultrayouwoman', 'display_url': 'about.me/ultrayouwoman', 'indices': [0, 23]}]}, 'description': {'urls': []}}   \n",
       "1     {'url': {'urls': [{'url': 'http://t.co/lVm8vfDbfO', 'expanded_url': 'http://youtube.com/yungcutuptv', 'display_url': 'youtube.com/yungcutuptv', 'indices': [0, 22]}]}, 'description': {'urls': [{'url': 'https://t.co/0tOeBuJHHH', 'expanded_url': 'http://piff.me/6613310', 'displa...   \n",
       "2                                                                                                          {'url': {'urls': [{'url': 'https://t.co/g9exqgZp9x', 'expanded_url': 'http://www.cbs4indy.com', 'display_url': 'cbs4indy.com', 'indices': [0, 23]}]}, 'description': {'urls': []}}   \n",
       "3                                                                                                                                                                                                                                                               {'description': {'urls': []}}   \n",
       "4     {'url': {'urls': [{'url': 'http://t.co/MMGF9RfLz0', 'expanded_url': 'http://noluckneeded.com', 'display_url': 'noluckneeded.com', 'indices': [0, 22]}]}, 'description': {'urls': [{'url': 'https://t.co/Lnr5uRql8x', 'expanded_url': 'http://NoLuckNeeded.com', 'display_url': 'NoLu...   \n",
       "...                                                                                                                                                                                                                                                                                       ...   \n",
       "5084                                                                                                                                                                                                                                                            {'description': {'urls': []}}   \n",
       "5085                                                                                                                                                                                                                                                            {'description': {'urls': []}}   \n",
       "5086                                                                                                                                                                                                                                                            {'description': {'urls': []}}   \n",
       "5087                                                                                                                                                                                                                                                            {'description': {'urls': []}}   \n",
       "5088                                                                                      {'url': {'urls': [{'url': 'https://t.co/Y1Zt6LMGiV', 'expanded_url': 'https://twitter.com/RichieRaya', 'display_url': 'twitter.com/RichieRaya', 'indices': [0, 23]}]}, 'description': {'urls': []}}   \n",
       "\n",
       "      user_favourites_count  user_friends_count       user_id  \\\n",
       "0                     307.0             48721.0  3.188619e+09   \n",
       "1                    1178.0              5489.0  1.838717e+07   \n",
       "2                   11864.0              2386.0  3.264561e+07   \n",
       "3                     487.0               965.0  1.759327e+08   \n",
       "4                   32971.0             13629.0  2.230663e+07   \n",
       "...                     ...                 ...           ...   \n",
       "5084                36185.0              1989.0  1.751473e+07   \n",
       "5085                  682.0               501.0  7.980000e+17   \n",
       "5086               157859.0              1835.0  1.663449e+07   \n",
       "5087                 3832.0               812.0  1.261474e+08   \n",
       "5088                 3341.0               191.0  2.845471e+07   \n",
       "\n",
       "      user_listed_count              user_name user_screen_name  \\\n",
       "0                 629.0        Ultra YOU Woman    UltraYOUwoman   \n",
       "1                 150.0   Yung Cut Up (Videos)        yungcutup   \n",
       "2                 193.0           Rachel Bogle      rachelbogle   \n",
       "3                   1.0       Ervin Youngblood      ErvGotti609   \n",
       "4                 181.0       NoLuckNeeded.com     NoLuckNeeded   \n",
       "...                 ...                    ...              ...   \n",
       "5084              114.0              TraceTime        tracetime   \n",
       "5085                2.0        Michael Grayson       mgeezy1919   \n",
       "5086              102.0                Nioshii          Nartist   \n",
       "5087                7.0          Beverly Moore        bevmeghan   \n",
       "5088                2.0  The King in the North       RichieRaya   \n",
       "\n",
       "      user_statuses_count  \n",
       "0                 91870.0  \n",
       "1                618822.0  \n",
       "2                 48075.0  \n",
       "3                  1983.0  \n",
       "4                 24989.0  \n",
       "...                   ...  \n",
       "5084              65443.0  \n",
       "5085                536.0  \n",
       "5086             218740.0  \n",
       "5087               2542.0  \n",
       "5088              40436.0  \n",
       "\n",
       "[5089 rows x 16 columns]"
      ]
     },
     "execution_count": 10,
     "metadata": {},
     "output_type": "execute_result"
    }
   ],
   "source": [
    "newdf=df2.fillna({\n",
    "    'user_entities': \"{'description': {'urls': []}}\",\n",
    "    'user_favourites_count':0,\n",
    "    'user_friends_count':0,\n",
    "    'user_id':0,\n",
    "    'user_listed_count':0,\n",
    "    'user_name':\"Nothing\",\n",
    "    'user_screen_name':\"Nothing\",\n",
    "    'user_statuses_count':0\n",
    "})\n",
    "newdf"
   ]
  },
  {
   "cell_type": "code",
   "execution_count": 11,
   "metadata": {},
   "outputs": [
    {
     "data": {
      "text/plain": [
       "tweet_created_at            0\n",
       "tweet_display_text_range    0\n",
       "tweet_entities              0\n",
       "tweet_favorite_count        0\n",
       "tweet_full_text             0\n",
       "tweet_id                    0\n",
       "tweet_user                  0\n",
       "user_created_at             0\n",
       "user_entities               0\n",
       "user_favourites_count       0\n",
       "user_friends_count          0\n",
       "user_id                     0\n",
       "user_listed_count           0\n",
       "user_name                   0\n",
       "user_screen_name            0\n",
       "user_statuses_count         0\n",
       "dtype: int64"
      ]
     },
     "execution_count": 11,
     "metadata": {},
     "output_type": "execute_result"
    }
   ],
   "source": [
    "newdf.isnull().sum()"
   ]
  },
  {
   "cell_type": "code",
   "execution_count": 12,
   "metadata": {},
   "outputs": [
    {
     "data": {
      "text/plain": [
       "(5089, 16)"
      ]
     },
     "execution_count": 12,
     "metadata": {},
     "output_type": "execute_result"
    }
   ],
   "source": [
    "newdf.shape"
   ]
  },
  {
   "cell_type": "code",
   "execution_count": 13,
   "metadata": {},
   "outputs": [],
   "source": [
    "import nltk\n",
    "from bs4 import BeautifulSoup\n",
    "import string\n",
    "from nltk.corpus import stopwords\n",
    "from nltk.tokenize import RegexpTokenizer\n",
    "from nltk.stem import WordNetLemmatizer\n",
    "from nltk.stem.porter import PorterStemmer"
   ]
  },
  {
   "cell_type": "code",
   "execution_count": 14,
   "metadata": {},
   "outputs": [
    {
     "data": {
      "text/plain": [
       "'{\\'id\\': 175932740, \\'id_str\\': \\'175932740\\', \\'name\\': \\'Ervin Youngblood\\', \\'screen_name\\': \\'ErvGotti609\\', \\'location\\': \\'Tennessee by way of New Jersey\\', \\'description\\': \"Christ-Family-Career.. \\\\rNY\\\\nGiants, Mets, 76ers, Penguins, Florida State, Tar Heel Men\\'s BB\", \\'url\\': None, \\'entities\\': {\\'description\\': {\\'urls\\': []}}, \\'protected\\': False, \\'followers_count\\': 218, \\'friends_count\\': 965, \\'listed_count\\': 1, \\'created_at\\': \\'Sun Aug 08 02:02:56 +0000 2010\\', \\'favourites_count\\': 487, \\'utc_offset\\': None, \\'time_zone\\': None, \\'geo_enabled\\': True, \\'verified\\': False, \\'statuses_count\\': 1983, \\'lang\\': \\'en\\', \\'contributors_enabled\\': False, \\'is_translator\\': False, \\'is_translation_enabled\\': False, \\'profile_background_color\\': \\'C0DEED\\', \\'profile_background_image_url\\': \\'http://abs.twimg.com/images/themes/theme1/bg.png\\', \\'profile_background_image_url_https\\': \\'https://abs.twimg.com/images/themes/theme1/bg.png\\', \\'profile_background_tile\\': False, \\'profile_image_url\\': \\'http://pbs.twimg.com/profile_images/724407937234550784/6Jrvt3mv_normal.jpg\\', \\'profile_image_url_https\\': \\'https://pbs.twimg.com/profile_images/724407937234550784/6Jrvt3mv_normal.jpg\\', \\'profile_banner_url\\': \\'https://pbs.twimg.com/profile_banners/175932740/1357086566\\', \\'profile_link_color\\': \\'1DA1F2\\', \\'profile_sidebar_border_color\\': \\'C0DEED\\', \\'profile_sidebar_fill_color\\': \\'DDEEF6\\', \\'profile_text_color\\': \\'333333\\', \\'profile_use_background_image\\': True, \\'has_extended_profile\\': True, \\'default_profile\\': True, \\'default_profile_image\\': False, \\'following\\': False, \\'follow_request_sent\\': False, \\'notifications\\': False, \\'translator_type\\': \\'none\\'}'"
      ]
     },
     "execution_count": 14,
     "metadata": {},
     "output_type": "execute_result"
    }
   ],
   "source": [
    "newdf['tweet_user'][3]"
   ]
  },
  {
   "cell_type": "code",
   "execution_count": 15,
   "metadata": {},
   "outputs": [
    {
     "data": {
      "text/html": [
       "<div>\n",
       "<style scoped>\n",
       "    .dataframe tbody tr th:only-of-type {\n",
       "        vertical-align: middle;\n",
       "    }\n",
       "\n",
       "    .dataframe tbody tr th {\n",
       "        vertical-align: top;\n",
       "    }\n",
       "\n",
       "    .dataframe thead th {\n",
       "        text-align: right;\n",
       "    }\n",
       "</style>\n",
       "<table border=\"1\" class=\"dataframe\">\n",
       "  <thead>\n",
       "    <tr style=\"text-align: right;\">\n",
       "      <th></th>\n",
       "      <th>0</th>\n",
       "      <th>1</th>\n",
       "      <th>2</th>\n",
       "      <th>3</th>\n",
       "      <th>4</th>\n",
       "      <th>5</th>\n",
       "    </tr>\n",
       "  </thead>\n",
       "  <tbody>\n",
       "    <tr>\n",
       "      <th>0</th>\n",
       "      <td>{'id': 3188618684</td>\n",
       "      <td>'id_str': '3188618684'</td>\n",
       "      <td>'name': 'Ultra YOU Woman'</td>\n",
       "      <td>'screen_name': 'UltraYOUwoman'</td>\n",
       "      <td>'location': 'California</td>\n",
       "      <td>USA', 'description': 'I share tips to achieve your health goals and be your best self inside &amp; out! Plus healthy living, weight loss success stories, skincare &amp; post-birth snap back!', 'url': 'https://t.co/jGlJswxjwS', 'entities': {'url': {'urls': [{'url': 'https://t.co/jGlJ...</td>\n",
       "    </tr>\n",
       "    <tr>\n",
       "      <th>1</th>\n",
       "      <td>{'id': 18387174</td>\n",
       "      <td>'id_str': '18387174'</td>\n",
       "      <td>'name': 'Yung Cut Up (Videos)'</td>\n",
       "      <td>'screen_name': 'yungcutup'</td>\n",
       "      <td>'location': 'Miami</td>\n",
       "      <td>Florida', 'description': 'All Business inquiries contact cluuxx@gmail.com / Support &amp; Download my new mixtape \"Clear Skies\" https://t.co/0tOeBuJHHH', 'url': 'http://t.co/lVm8vfDbfO', 'entities': {'url': {'urls': [{'url': 'http://t.co/lVm8vfDbfO', 'expanded_url': 'http://yout...</td>\n",
       "    </tr>\n",
       "    <tr>\n",
       "      <th>2</th>\n",
       "      <td>{'id': 32645612</td>\n",
       "      <td>'id_str': '32645612'</td>\n",
       "      <td>'name': 'Rachel Bogle'</td>\n",
       "      <td>'screen_name': 'rachelbogle'</td>\n",
       "      <td>'location': 'Indianapolis</td>\n",
       "      <td>IN', 'description': 'Morning Traffic Reporter @CBS4Indy | Traffic Authority | Radio 📻 to TV 📺 | Indiana Raised | @IUBloomington Alum | Morkie Mom to Gizmo | Ms. USA Universal 2018', 'url': 'https://t.co/g9exqgZp9x', 'entities': {'url': {'urls': [{'url': 'https://t.co/g9exqgZ...</td>\n",
       "    </tr>\n",
       "    <tr>\n",
       "      <th>3</th>\n",
       "      <td>{'id': 175932740</td>\n",
       "      <td>'id_str': '175932740'</td>\n",
       "      <td>'name': 'Ervin Youngblood'</td>\n",
       "      <td>'screen_name': 'ErvGotti609'</td>\n",
       "      <td>'location': 'Tennessee by way of New Jersey'</td>\n",
       "      <td>'description': \"Christ-Family-Career.. \\rNY\\nGiants, Mets, 76ers, Penguins, Florida State, Tar Heel Men's BB\", 'url': None, 'entities': {'description': {'urls': []}}, 'protected': False, 'followers_count': 218, 'friends_count': 965, 'listed_count': 1, 'created_at': 'Sun Aug ...</td>\n",
       "    </tr>\n",
       "    <tr>\n",
       "      <th>4</th>\n",
       "      <td>{'id': 22306628</td>\n",
       "      <td>'id_str': '22306628'</td>\n",
       "      <td>'name': 'NoLuckNeeded.com'</td>\n",
       "      <td>'screen_name': 'NoLuckNeeded'</td>\n",
       "      <td>'location': 'Gambleville'</td>\n",
       "      <td>'description': 'https://t.co/Lnr5uRql8x is a Friendly Online Gambling Forum that was established in 2004 ♣  Be Gamble Aware 18+ https://t.co/2RyHF1JlEt', 'url': 'http://t.co/MMGF9RfLz0', 'entities': {'url': {'urls': [{'url': 'http://t.co/MMGF9RfLz0', 'expanded_url': 'http://...</td>\n",
       "    </tr>\n",
       "  </tbody>\n",
       "</table>\n",
       "</div>"
      ],
      "text/plain": [
       "                   0                        1  \\\n",
       "0  {'id': 3188618684   'id_str': '3188618684'   \n",
       "1    {'id': 18387174     'id_str': '18387174'   \n",
       "2    {'id': 32645612     'id_str': '32645612'   \n",
       "3   {'id': 175932740    'id_str': '175932740'   \n",
       "4    {'id': 22306628     'id_str': '22306628'   \n",
       "\n",
       "                                 2                                3  \\\n",
       "0        'name': 'Ultra YOU Woman'   'screen_name': 'UltraYOUwoman'   \n",
       "1   'name': 'Yung Cut Up (Videos)'       'screen_name': 'yungcutup'   \n",
       "2           'name': 'Rachel Bogle'     'screen_name': 'rachelbogle'   \n",
       "3       'name': 'Ervin Youngblood'     'screen_name': 'ErvGotti609'   \n",
       "4       'name': 'NoLuckNeeded.com'    'screen_name': 'NoLuckNeeded'   \n",
       "\n",
       "                                               4  \\\n",
       "0                        'location': 'California   \n",
       "1                             'location': 'Miami   \n",
       "2                      'location': 'Indianapolis   \n",
       "3   'location': 'Tennessee by way of New Jersey'   \n",
       "4                      'location': 'Gambleville'   \n",
       "\n",
       "                                                                                                                                                                                                                                                                                         5  \n",
       "0   USA', 'description': 'I share tips to achieve your health goals and be your best self inside & out! Plus healthy living, weight loss success stories, skincare & post-birth snap back!', 'url': 'https://t.co/jGlJswxjwS', 'entities': {'url': {'urls': [{'url': 'https://t.co/jGlJ...  \n",
       "1   Florida', 'description': 'All Business inquiries contact cluuxx@gmail.com / Support & Download my new mixtape \"Clear Skies\" https://t.co/0tOeBuJHHH', 'url': 'http://t.co/lVm8vfDbfO', 'entities': {'url': {'urls': [{'url': 'http://t.co/lVm8vfDbfO', 'expanded_url': 'http://yout...  \n",
       "2   IN', 'description': 'Morning Traffic Reporter @CBS4Indy | Traffic Authority | Radio 📻 to TV 📺 | Indiana Raised | @IUBloomington Alum | Morkie Mom to Gizmo | Ms. USA Universal 2018', 'url': 'https://t.co/g9exqgZp9x', 'entities': {'url': {'urls': [{'url': 'https://t.co/g9exqgZ...  \n",
       "3   'description': \"Christ-Family-Career.. \\rNY\\nGiants, Mets, 76ers, Penguins, Florida State, Tar Heel Men's BB\", 'url': None, 'entities': {'description': {'urls': []}}, 'protected': False, 'followers_count': 218, 'friends_count': 965, 'listed_count': 1, 'created_at': 'Sun Aug ...  \n",
       "4   'description': 'https://t.co/Lnr5uRql8x is a Friendly Online Gambling Forum that was established in 2004 ♣  Be Gamble Aware 18+ https://t.co/2RyHF1JlEt', 'url': 'http://t.co/MMGF9RfLz0', 'entities': {'url': {'urls': [{'url': 'http://t.co/MMGF9RfLz0', 'expanded_url': 'http://...  "
      ]
     },
     "execution_count": 15,
     "metadata": {},
     "output_type": "execute_result"
    }
   ],
   "source": [
    "tweetuser = newdf['tweet_user'].str.split(\",\",n=5,expand=True)\n",
    "tweetuser.head()"
   ]
  },
  {
   "cell_type": "code",
   "execution_count": 16,
   "metadata": {},
   "outputs": [],
   "source": [
    "newdf['user_id'] = tweetuser[0]\n",
    "newdf['user_idstr'] = tweetuser[1]\n",
    "newdf['user_name'] = tweetuser[2]\n",
    "newdf['user_screenname'] = tweetuser[3]\n",
    "newdf['user_location'] = tweetuser[4]\n",
    "newdf['user_description'] = tweetuser[5]\n",
    "newdf.drop(columns='tweet_user',inplace=True)\n"
   ]
  },
  {
   "cell_type": "code",
   "execution_count": 17,
   "metadata": {},
   "outputs": [
    {
     "data": {
      "text/html": [
       "<div>\n",
       "<style scoped>\n",
       "    .dataframe tbody tr th:only-of-type {\n",
       "        vertical-align: middle;\n",
       "    }\n",
       "\n",
       "    .dataframe tbody tr th {\n",
       "        vertical-align: top;\n",
       "    }\n",
       "\n",
       "    .dataframe thead th {\n",
       "        text-align: right;\n",
       "    }\n",
       "</style>\n",
       "<table border=\"1\" class=\"dataframe\">\n",
       "  <thead>\n",
       "    <tr style=\"text-align: right;\">\n",
       "      <th></th>\n",
       "      <th>tweet_created_at</th>\n",
       "      <th>tweet_display_text_range</th>\n",
       "      <th>tweet_entities</th>\n",
       "      <th>tweet_favorite_count</th>\n",
       "      <th>tweet_full_text</th>\n",
       "      <th>tweet_id</th>\n",
       "      <th>user_created_at</th>\n",
       "      <th>user_entities</th>\n",
       "      <th>user_favourites_count</th>\n",
       "      <th>user_friends_count</th>\n",
       "      <th>user_id</th>\n",
       "      <th>user_listed_count</th>\n",
       "      <th>user_name</th>\n",
       "      <th>user_screen_name</th>\n",
       "      <th>user_statuses_count</th>\n",
       "      <th>user_idstr</th>\n",
       "      <th>user_screenname</th>\n",
       "      <th>user_location</th>\n",
       "      <th>user_description</th>\n",
       "    </tr>\n",
       "  </thead>\n",
       "  <tbody>\n",
       "    <tr>\n",
       "      <th>0</th>\n",
       "      <td>Fri Sep 07 16:25:06 +0000 2018</td>\n",
       "      <td>[0, 75]</td>\n",
       "      <td>{'hashtags': [{'text': 'quote', 'indices': [47, 53]}, {'text': 'motivation', 'indices': [54, 65]}, {'text': 'justdoit', 'indices': [66, 75]}], 'symbols': [], 'user_mentions': [], 'urls': [], 'media': [{'id': 1038100853872197632, 'id_str': '1038100853872197632', 'indices': [76...</td>\n",
       "      <td>0</td>\n",
       "      <td>Done is better than perfect. — Sheryl Sandberg #quote #motivation #justdoit https://t.co/J9lLdszdW6</td>\n",
       "      <td>1.038100e+18</td>\n",
       "      <td>Fri May 08 10:27:51 +0000 2015</td>\n",
       "      <td>{'url': {'urls': [{'url': 'https://t.co/jGlJswxjwS', 'expanded_url': 'https://about.me/ultrayouwoman', 'display_url': 'about.me/ultrayouwoman', 'indices': [0, 23]}]}, 'description': {'urls': []}}</td>\n",
       "      <td>307.0</td>\n",
       "      <td>48721.0</td>\n",
       "      <td>{'id': 3188618684</td>\n",
       "      <td>629.0</td>\n",
       "      <td>'name': 'Ultra YOU Woman'</td>\n",
       "      <td>UltraYOUwoman</td>\n",
       "      <td>91870.0</td>\n",
       "      <td>'id_str': '3188618684'</td>\n",
       "      <td>'screen_name': 'UltraYOUwoman'</td>\n",
       "      <td>'location': 'California</td>\n",
       "      <td>USA', 'description': 'I share tips to achieve your health goals and be your best self inside &amp; out! Plus healthy living, weight loss success stories, skincare &amp; post-birth snap back!', 'url': 'https://t.co/jGlJswxjwS', 'entities': {'url': {'urls': [{'url': 'https://t.co/jGlJ...</td>\n",
       "    </tr>\n",
       "    <tr>\n",
       "      <th>1</th>\n",
       "      <td>Fri Sep 07 16:24:59 +0000 2018</td>\n",
       "      <td>[0, 237]</td>\n",
       "      <td>{'hashtags': [{'text': 'hero', 'indices': [90, 95]}, {'text': 'fdny', 'indices': [96, 101]}, {'text': 'likesforlikes', 'indices': [102, 116]}, {'text': 'promo', 'indices': [117, 123]}, {'text': 'music', 'indices': [124, 130]}, {'text': 'instagood', 'indices': [131, 141]}, {'t...</td>\n",
       "      <td>0</td>\n",
       "      <td>Shout out to the Great Fire Department and the tour! 👨‍🚒👨‍🚒 Much love to NYC! 💯🎥🔥✊🏿\\n•\\n•\\n•\\n#hero #fdny #likesforlikes #promo #music #instagood #instadaily #postoftheday #bestoftheday #justdoit #nike #picoftheday... https://t.co/sFobQ2ukpo</td>\n",
       "      <td>1.038100e+18</td>\n",
       "      <td>Fri Dec 26 09:30:23 +0000 2008</td>\n",
       "      <td>{'url': {'urls': [{'url': 'http://t.co/lVm8vfDbfO', 'expanded_url': 'http://youtube.com/yungcutuptv', 'display_url': 'youtube.com/yungcutuptv', 'indices': [0, 22]}]}, 'description': {'urls': [{'url': 'https://t.co/0tOeBuJHHH', 'expanded_url': 'http://piff.me/6613310', 'displa...</td>\n",
       "      <td>1178.0</td>\n",
       "      <td>5489.0</td>\n",
       "      <td>{'id': 18387174</td>\n",
       "      <td>150.0</td>\n",
       "      <td>'name': 'Yung Cut Up (Videos)'</td>\n",
       "      <td>yungcutup</td>\n",
       "      <td>618822.0</td>\n",
       "      <td>'id_str': '18387174'</td>\n",
       "      <td>'screen_name': 'yungcutup'</td>\n",
       "      <td>'location': 'Miami</td>\n",
       "      <td>Florida', 'description': 'All Business inquiries contact cluuxx@gmail.com / Support &amp; Download my new mixtape \"Clear Skies\" https://t.co/0tOeBuJHHH', 'url': 'http://t.co/lVm8vfDbfO', 'entities': {'url': {'urls': [{'url': 'http://t.co/lVm8vfDbfO', 'expanded_url': 'http://yout...</td>\n",
       "    </tr>\n",
       "  </tbody>\n",
       "</table>\n",
       "</div>"
      ],
      "text/plain": [
       "                 tweet_created_at tweet_display_text_range  \\\n",
       "0  Fri Sep 07 16:25:06 +0000 2018                  [0, 75]   \n",
       "1  Fri Sep 07 16:24:59 +0000 2018                 [0, 237]   \n",
       "\n",
       "                                                                                                                                                                                                                                                                            tweet_entities  \\\n",
       "0  {'hashtags': [{'text': 'quote', 'indices': [47, 53]}, {'text': 'motivation', 'indices': [54, 65]}, {'text': 'justdoit', 'indices': [66, 75]}], 'symbols': [], 'user_mentions': [], 'urls': [], 'media': [{'id': 1038100853872197632, 'id_str': '1038100853872197632', 'indices': [76...   \n",
       "1  {'hashtags': [{'text': 'hero', 'indices': [90, 95]}, {'text': 'fdny', 'indices': [96, 101]}, {'text': 'likesforlikes', 'indices': [102, 116]}, {'text': 'promo', 'indices': [117, 123]}, {'text': 'music', 'indices': [124, 130]}, {'text': 'instagood', 'indices': [131, 141]}, {'t...   \n",
       "\n",
       "   tweet_favorite_count  \\\n",
       "0                     0   \n",
       "1                     0   \n",
       "\n",
       "                                                                                                                                                                                                                                     tweet_full_text  \\\n",
       "0                                                                                                                                                Done is better than perfect. — Sheryl Sandberg #quote #motivation #justdoit https://t.co/J9lLdszdW6   \n",
       "1  Shout out to the Great Fire Department and the tour! 👨‍🚒👨‍🚒 Much love to NYC! 💯🎥🔥✊🏿\\n•\\n•\\n•\\n#hero #fdny #likesforlikes #promo #music #instagood #instadaily #postoftheday #bestoftheday #justdoit #nike #picoftheday... https://t.co/sFobQ2ukpo   \n",
       "\n",
       "       tweet_id                 user_created_at  \\\n",
       "0  1.038100e+18  Fri May 08 10:27:51 +0000 2015   \n",
       "1  1.038100e+18  Fri Dec 26 09:30:23 +0000 2008   \n",
       "\n",
       "                                                                                                                                                                                                                                                                             user_entities  \\\n",
       "0                                                                                      {'url': {'urls': [{'url': 'https://t.co/jGlJswxjwS', 'expanded_url': 'https://about.me/ultrayouwoman', 'display_url': 'about.me/ultrayouwoman', 'indices': [0, 23]}]}, 'description': {'urls': []}}   \n",
       "1  {'url': {'urls': [{'url': 'http://t.co/lVm8vfDbfO', 'expanded_url': 'http://youtube.com/yungcutuptv', 'display_url': 'youtube.com/yungcutuptv', 'indices': [0, 22]}]}, 'description': {'urls': [{'url': 'https://t.co/0tOeBuJHHH', 'expanded_url': 'http://piff.me/6613310', 'displa...   \n",
       "\n",
       "   user_favourites_count  user_friends_count            user_id  \\\n",
       "0                  307.0             48721.0  {'id': 3188618684   \n",
       "1                 1178.0              5489.0    {'id': 18387174   \n",
       "\n",
       "   user_listed_count                        user_name user_screen_name  \\\n",
       "0              629.0        'name': 'Ultra YOU Woman'    UltraYOUwoman   \n",
       "1              150.0   'name': 'Yung Cut Up (Videos)'        yungcutup   \n",
       "\n",
       "   user_statuses_count               user_idstr  \\\n",
       "0              91870.0   'id_str': '3188618684'   \n",
       "1             618822.0     'id_str': '18387174'   \n",
       "\n",
       "                   user_screenname             user_location  \\\n",
       "0   'screen_name': 'UltraYOUwoman'   'location': 'California   \n",
       "1       'screen_name': 'yungcutup'        'location': 'Miami   \n",
       "\n",
       "                                                                                                                                                                                                                                                                          user_description  \n",
       "0   USA', 'description': 'I share tips to achieve your health goals and be your best self inside & out! Plus healthy living, weight loss success stories, skincare & post-birth snap back!', 'url': 'https://t.co/jGlJswxjwS', 'entities': {'url': {'urls': [{'url': 'https://t.co/jGlJ...  \n",
       "1   Florida', 'description': 'All Business inquiries contact cluuxx@gmail.com / Support & Download my new mixtape \"Clear Skies\" https://t.co/0tOeBuJHHH', 'url': 'http://t.co/lVm8vfDbfO', 'entities': {'url': {'urls': [{'url': 'http://t.co/lVm8vfDbfO', 'expanded_url': 'http://yout...  "
      ]
     },
     "execution_count": 17,
     "metadata": {},
     "output_type": "execute_result"
    }
   ],
   "source": [
    "newdf.head(2)"
   ]
  },
  {
   "cell_type": "code",
   "execution_count": 18,
   "metadata": {},
   "outputs": [],
   "source": [
    "newdf2=newdf.drop(['user_idstr','user_screenname','user_name','user_description'],axis='columns')"
   ]
  },
  {
   "cell_type": "code",
   "execution_count": 19,
   "metadata": {},
   "outputs": [
    {
     "data": {
      "text/html": [
       "<div>\n",
       "<style scoped>\n",
       "    .dataframe tbody tr th:only-of-type {\n",
       "        vertical-align: middle;\n",
       "    }\n",
       "\n",
       "    .dataframe tbody tr th {\n",
       "        vertical-align: top;\n",
       "    }\n",
       "\n",
       "    .dataframe thead th {\n",
       "        text-align: right;\n",
       "    }\n",
       "</style>\n",
       "<table border=\"1\" class=\"dataframe\">\n",
       "  <thead>\n",
       "    <tr style=\"text-align: right;\">\n",
       "      <th></th>\n",
       "      <th>tweet_created_at</th>\n",
       "      <th>tweet_display_text_range</th>\n",
       "      <th>tweet_entities</th>\n",
       "      <th>tweet_favorite_count</th>\n",
       "      <th>tweet_full_text</th>\n",
       "      <th>tweet_id</th>\n",
       "      <th>user_created_at</th>\n",
       "      <th>user_entities</th>\n",
       "      <th>user_favourites_count</th>\n",
       "      <th>user_friends_count</th>\n",
       "      <th>user_id</th>\n",
       "      <th>user_listed_count</th>\n",
       "      <th>user_screen_name</th>\n",
       "      <th>user_statuses_count</th>\n",
       "      <th>user_location</th>\n",
       "    </tr>\n",
       "  </thead>\n",
       "  <tbody>\n",
       "    <tr>\n",
       "      <th>0</th>\n",
       "      <td>Fri Sep 07 16:25:06 +0000 2018</td>\n",
       "      <td>[0, 75]</td>\n",
       "      <td>{'hashtags': [{'text': 'quote', 'indices': [47, 53]}, {'text': 'motivation', 'indices': [54, 65]}, {'text': 'justdoit', 'indices': [66, 75]}], 'symbols': [], 'user_mentions': [], 'urls': [], 'media': [{'id': 1038100853872197632, 'id_str': '1038100853872197632', 'indices': [76...</td>\n",
       "      <td>0</td>\n",
       "      <td>Done is better than perfect. — Sheryl Sandberg #quote #motivation #justdoit https://t.co/J9lLdszdW6</td>\n",
       "      <td>1.038100e+18</td>\n",
       "      <td>Fri May 08 10:27:51 +0000 2015</td>\n",
       "      <td>{'url': {'urls': [{'url': 'https://t.co/jGlJswxjwS', 'expanded_url': 'https://about.me/ultrayouwoman', 'display_url': 'about.me/ultrayouwoman', 'indices': [0, 23]}]}, 'description': {'urls': []}}</td>\n",
       "      <td>307.0</td>\n",
       "      <td>48721.0</td>\n",
       "      <td>{'id': 3188618684</td>\n",
       "      <td>629.0</td>\n",
       "      <td>UltraYOUwoman</td>\n",
       "      <td>91870.0</td>\n",
       "      <td>'location': 'California</td>\n",
       "    </tr>\n",
       "    <tr>\n",
       "      <th>1</th>\n",
       "      <td>Fri Sep 07 16:24:59 +0000 2018</td>\n",
       "      <td>[0, 237]</td>\n",
       "      <td>{'hashtags': [{'text': 'hero', 'indices': [90, 95]}, {'text': 'fdny', 'indices': [96, 101]}, {'text': 'likesforlikes', 'indices': [102, 116]}, {'text': 'promo', 'indices': [117, 123]}, {'text': 'music', 'indices': [124, 130]}, {'text': 'instagood', 'indices': [131, 141]}, {'t...</td>\n",
       "      <td>0</td>\n",
       "      <td>Shout out to the Great Fire Department and the tour! 👨‍🚒👨‍🚒 Much love to NYC! 💯🎥🔥✊🏿\\n•\\n•\\n•\\n#hero #fdny #likesforlikes #promo #music #instagood #instadaily #postoftheday #bestoftheday #justdoit #nike #picoftheday... https://t.co/sFobQ2ukpo</td>\n",
       "      <td>1.038100e+18</td>\n",
       "      <td>Fri Dec 26 09:30:23 +0000 2008</td>\n",
       "      <td>{'url': {'urls': [{'url': 'http://t.co/lVm8vfDbfO', 'expanded_url': 'http://youtube.com/yungcutuptv', 'display_url': 'youtube.com/yungcutuptv', 'indices': [0, 22]}]}, 'description': {'urls': [{'url': 'https://t.co/0tOeBuJHHH', 'expanded_url': 'http://piff.me/6613310', 'displa...</td>\n",
       "      <td>1178.0</td>\n",
       "      <td>5489.0</td>\n",
       "      <td>{'id': 18387174</td>\n",
       "      <td>150.0</td>\n",
       "      <td>yungcutup</td>\n",
       "      <td>618822.0</td>\n",
       "      <td>'location': 'Miami</td>\n",
       "    </tr>\n",
       "  </tbody>\n",
       "</table>\n",
       "</div>"
      ],
      "text/plain": [
       "                 tweet_created_at tweet_display_text_range  \\\n",
       "0  Fri Sep 07 16:25:06 +0000 2018                  [0, 75]   \n",
       "1  Fri Sep 07 16:24:59 +0000 2018                 [0, 237]   \n",
       "\n",
       "                                                                                                                                                                                                                                                                            tweet_entities  \\\n",
       "0  {'hashtags': [{'text': 'quote', 'indices': [47, 53]}, {'text': 'motivation', 'indices': [54, 65]}, {'text': 'justdoit', 'indices': [66, 75]}], 'symbols': [], 'user_mentions': [], 'urls': [], 'media': [{'id': 1038100853872197632, 'id_str': '1038100853872197632', 'indices': [76...   \n",
       "1  {'hashtags': [{'text': 'hero', 'indices': [90, 95]}, {'text': 'fdny', 'indices': [96, 101]}, {'text': 'likesforlikes', 'indices': [102, 116]}, {'text': 'promo', 'indices': [117, 123]}, {'text': 'music', 'indices': [124, 130]}, {'text': 'instagood', 'indices': [131, 141]}, {'t...   \n",
       "\n",
       "   tweet_favorite_count  \\\n",
       "0                     0   \n",
       "1                     0   \n",
       "\n",
       "                                                                                                                                                                                                                                     tweet_full_text  \\\n",
       "0                                                                                                                                                Done is better than perfect. — Sheryl Sandberg #quote #motivation #justdoit https://t.co/J9lLdszdW6   \n",
       "1  Shout out to the Great Fire Department and the tour! 👨‍🚒👨‍🚒 Much love to NYC! 💯🎥🔥✊🏿\\n•\\n•\\n•\\n#hero #fdny #likesforlikes #promo #music #instagood #instadaily #postoftheday #bestoftheday #justdoit #nike #picoftheday... https://t.co/sFobQ2ukpo   \n",
       "\n",
       "       tweet_id                 user_created_at  \\\n",
       "0  1.038100e+18  Fri May 08 10:27:51 +0000 2015   \n",
       "1  1.038100e+18  Fri Dec 26 09:30:23 +0000 2008   \n",
       "\n",
       "                                                                                                                                                                                                                                                                             user_entities  \\\n",
       "0                                                                                      {'url': {'urls': [{'url': 'https://t.co/jGlJswxjwS', 'expanded_url': 'https://about.me/ultrayouwoman', 'display_url': 'about.me/ultrayouwoman', 'indices': [0, 23]}]}, 'description': {'urls': []}}   \n",
       "1  {'url': {'urls': [{'url': 'http://t.co/lVm8vfDbfO', 'expanded_url': 'http://youtube.com/yungcutuptv', 'display_url': 'youtube.com/yungcutuptv', 'indices': [0, 22]}]}, 'description': {'urls': [{'url': 'https://t.co/0tOeBuJHHH', 'expanded_url': 'http://piff.me/6613310', 'displa...   \n",
       "\n",
       "   user_favourites_count  user_friends_count            user_id  \\\n",
       "0                  307.0             48721.0  {'id': 3188618684   \n",
       "1                 1178.0              5489.0    {'id': 18387174   \n",
       "\n",
       "   user_listed_count user_screen_name  user_statuses_count  \\\n",
       "0              629.0    UltraYOUwoman              91870.0   \n",
       "1              150.0        yungcutup             618822.0   \n",
       "\n",
       "              user_location  \n",
       "0   'location': 'California  \n",
       "1        'location': 'Miami  "
      ]
     },
     "execution_count": 19,
     "metadata": {},
     "output_type": "execute_result"
    }
   ],
   "source": [
    "newdf2.head(2)"
   ]
  },
  {
   "cell_type": "code",
   "execution_count": 20,
   "metadata": {},
   "outputs": [
    {
     "data": {
      "text/plain": [
       "(5089, 15)"
      ]
     },
     "execution_count": 20,
     "metadata": {},
     "output_type": "execute_result"
    }
   ],
   "source": [
    "newdf2.shape"
   ]
  },
  {
   "cell_type": "code",
   "execution_count": 21,
   "metadata": {},
   "outputs": [],
   "source": [
    "def remove_html(text):\n",
    "    soup = BeautifulSoup(text,'lxml')\n",
    "    html_free = soup.get_text()\n",
    "    return html_free"
   ]
  },
  {
   "cell_type": "code",
   "execution_count": 22,
   "metadata": {},
   "outputs": [
    {
     "name": "stderr",
     "output_type": "stream",
     "text": [
      "[nltk_data] Downloading package punkt to\n",
      "[nltk_data]     C:\\Users\\swetha\\AppData\\Roaming\\nltk_data...\n",
      "[nltk_data]   Package punkt is already up-to-date!\n"
     ]
    },
    {
     "data": {
      "text/plain": [
       "True"
      ]
     },
     "execution_count": 22,
     "metadata": {},
     "output_type": "execute_result"
    }
   ],
   "source": [
    "import nltk\n",
    "nltk.download('punkt')"
   ]
  },
  {
   "cell_type": "code",
   "execution_count": 23,
   "metadata": {},
   "outputs": [],
   "source": [
    "import re\n",
    "def  clean_text(df, text_field, new_text_field_name):\n",
    "    df[new_text_field_name] = df[text_field].str.lower()\n",
    "    df[new_text_field_name] = df[new_text_field_name].apply(lambda elem: re.sub(r\"(@[A-Za-z0-9]+)|([^0-9A-Za-z \\t])|(\\w+:\\/\\/\\S+)|^rt|http.+?\", \"\", elem))  \n",
    "  \n",
    "    df[new_text_field_name] = df[new_text_field_name].apply(lambda elem: re.sub(r\"\\d+\", \"\", elem))\n",
    "    \n",
    "    return df\n",
    "    newdf2 = clean_text(train_data,'tweet_full_text', 'text_clean')\n",
    "    newdf2.head()"
   ]
  },
  {
   "cell_type": "code",
   "execution_count": null,
   "metadata": {},
   "outputs": [],
   "source": []
  },
  {
   "cell_type": "code",
   "execution_count": 24,
   "metadata": {},
   "outputs": [
    {
     "data": {
      "text/plain": [
       "'!\"#$%&\\'()*+,-./:;<=>?@[\\\\]^_`{|}~'"
      ]
     },
     "execution_count": 24,
     "metadata": {},
     "output_type": "execute_result"
    }
   ],
   "source": [
    "import string\n",
    "string.punctuation"
   ]
  },
  {
   "cell_type": "code",
   "execution_count": 25,
   "metadata": {},
   "outputs": [],
   "source": [
    "def remove_punctuation(text):\n",
    "    no_punct=[words for words in text if words not in string.punctation]\n",
    "    words_wo_punct=''.join(no_punct)\n",
    "    return words_wo_punct\n",
    "    newdf2['tweet_pun']= newdf2['tweet_full_text'].apply(lambda x: remove_punctuation(x))\n",
    "    newdf2.head(2)"
   ]
  },
  {
   "cell_type": "code",
   "execution_count": 26,
   "metadata": {},
   "outputs": [],
   "source": [
    "import re"
   ]
  },
  {
   "cell_type": "code",
   "execution_count": 27,
   "metadata": {},
   "outputs": [],
   "source": [
    "def tokenize(text):\n",
    "    split=re.split(\"\\W+\",text) \n",
    "    return split\n",
    "newdf2['text_split']=newdf2['tweet_full_text'].apply(lambda x: tokenize(x.lower()))\n"
   ]
  },
  {
   "cell_type": "code",
   "execution_count": 28,
   "metadata": {},
   "outputs": [
    {
     "name": "stdout",
     "output_type": "stream",
     "text": [
      "['i', 'me', 'my', 'myself', 'we', 'our', 'ours', 'ourselves', 'you', \"you're\", \"you've\"]\n"
     ]
    }
   ],
   "source": [
    "stopword = nltk.corpus.stopwords.words('english')\n",
    "print(stopword[:11])"
   ]
  },
  {
   "cell_type": "code",
   "execution_count": 29,
   "metadata": {},
   "outputs": [
    {
     "data": {
      "text/html": [
       "<div>\n",
       "<style scoped>\n",
       "    .dataframe tbody tr th:only-of-type {\n",
       "        vertical-align: middle;\n",
       "    }\n",
       "\n",
       "    .dataframe tbody tr th {\n",
       "        vertical-align: top;\n",
       "    }\n",
       "\n",
       "    .dataframe thead th {\n",
       "        text-align: right;\n",
       "    }\n",
       "</style>\n",
       "<table border=\"1\" class=\"dataframe\">\n",
       "  <thead>\n",
       "    <tr style=\"text-align: right;\">\n",
       "      <th></th>\n",
       "      <th>tweet_created_at</th>\n",
       "      <th>tweet_display_text_range</th>\n",
       "      <th>tweet_entities</th>\n",
       "      <th>tweet_favorite_count</th>\n",
       "      <th>tweet_full_text</th>\n",
       "      <th>tweet_id</th>\n",
       "      <th>user_created_at</th>\n",
       "      <th>user_entities</th>\n",
       "      <th>user_favourites_count</th>\n",
       "      <th>user_friends_count</th>\n",
       "      <th>user_id</th>\n",
       "      <th>user_listed_count</th>\n",
       "      <th>user_screen_name</th>\n",
       "      <th>user_statuses_count</th>\n",
       "      <th>user_location</th>\n",
       "      <th>text_split</th>\n",
       "      <th>text_stopwords</th>\n",
       "    </tr>\n",
       "  </thead>\n",
       "  <tbody>\n",
       "    <tr>\n",
       "      <th>0</th>\n",
       "      <td>Fri Sep 07 16:25:06 +0000 2018</td>\n",
       "      <td>[0, 75]</td>\n",
       "      <td>{'hashtags': [{'text': 'quote', 'indices': [47, 53]}, {'text': 'motivation', 'indices': [54, 65]}, {'text': 'justdoit', 'indices': [66, 75]}], 'symbols': [], 'user_mentions': [], 'urls': [], 'media': [{'id': 1038100853872197632, 'id_str': '1038100853872197632', 'indices': [76...</td>\n",
       "      <td>0</td>\n",
       "      <td>Done is better than perfect. — Sheryl Sandberg #quote #motivation #justdoit https://t.co/J9lLdszdW6</td>\n",
       "      <td>1.038100e+18</td>\n",
       "      <td>Fri May 08 10:27:51 +0000 2015</td>\n",
       "      <td>{'url': {'urls': [{'url': 'https://t.co/jGlJswxjwS', 'expanded_url': 'https://about.me/ultrayouwoman', 'display_url': 'about.me/ultrayouwoman', 'indices': [0, 23]}]}, 'description': {'urls': []}}</td>\n",
       "      <td>307.0</td>\n",
       "      <td>48721.0</td>\n",
       "      <td>{'id': 3188618684</td>\n",
       "      <td>629.0</td>\n",
       "      <td>UltraYOUwoman</td>\n",
       "      <td>91870.0</td>\n",
       "      <td>'location': 'California</td>\n",
       "      <td>[done, is, better, than, perfect, sheryl, sandberg, quote, motivation, justdoit, https, t, co, j9lldszdw6]</td>\n",
       "      <td>[done, better, perfect, sheryl, sandberg, quote, motivation, justdoit, https, co, j9lldszdw6]</td>\n",
       "    </tr>\n",
       "  </tbody>\n",
       "</table>\n",
       "</div>"
      ],
      "text/plain": [
       "                 tweet_created_at tweet_display_text_range  \\\n",
       "0  Fri Sep 07 16:25:06 +0000 2018                  [0, 75]   \n",
       "\n",
       "                                                                                                                                                                                                                                                                            tweet_entities  \\\n",
       "0  {'hashtags': [{'text': 'quote', 'indices': [47, 53]}, {'text': 'motivation', 'indices': [54, 65]}, {'text': 'justdoit', 'indices': [66, 75]}], 'symbols': [], 'user_mentions': [], 'urls': [], 'media': [{'id': 1038100853872197632, 'id_str': '1038100853872197632', 'indices': [76...   \n",
       "\n",
       "   tweet_favorite_count  \\\n",
       "0                     0   \n",
       "\n",
       "                                                                                       tweet_full_text  \\\n",
       "0  Done is better than perfect. — Sheryl Sandberg #quote #motivation #justdoit https://t.co/J9lLdszdW6   \n",
       "\n",
       "       tweet_id                 user_created_at  \\\n",
       "0  1.038100e+18  Fri May 08 10:27:51 +0000 2015   \n",
       "\n",
       "                                                                                                                                                                                         user_entities  \\\n",
       "0  {'url': {'urls': [{'url': 'https://t.co/jGlJswxjwS', 'expanded_url': 'https://about.me/ultrayouwoman', 'display_url': 'about.me/ultrayouwoman', 'indices': [0, 23]}]}, 'description': {'urls': []}}   \n",
       "\n",
       "   user_favourites_count  user_friends_count            user_id  \\\n",
       "0                  307.0             48721.0  {'id': 3188618684   \n",
       "\n",
       "   user_listed_count user_screen_name  user_statuses_count  \\\n",
       "0              629.0    UltraYOUwoman              91870.0   \n",
       "\n",
       "              user_location  \\\n",
       "0   'location': 'California   \n",
       "\n",
       "                                                                                                   text_split  \\\n",
       "0  [done, is, better, than, perfect, sheryl, sandberg, quote, motivation, justdoit, https, t, co, j9lldszdw6]   \n",
       "\n",
       "                                                                                  text_stopwords  \n",
       "0  [done, better, perfect, sheryl, sandberg, quote, motivation, justdoit, https, co, j9lldszdw6]  "
      ]
     },
     "execution_count": 29,
     "metadata": {},
     "output_type": "execute_result"
    }
   ],
   "source": [
    "def remove_stopwords(text):\n",
    "    text=[word for word in text if word not in stopword]\n",
    "    return text\n",
    "newdf2['text_stopwords'] = newdf2['text_split'].apply(lambda x: remove_stopwords(x))\n",
    "newdf2.head(1)\n"
   ]
  },
  {
   "cell_type": "code",
   "execution_count": 30,
   "metadata": {},
   "outputs": [
    {
     "name": "stderr",
     "output_type": "stream",
     "text": [
      "[nltk_data] Downloading package wordnet to\n",
      "[nltk_data]     C:\\Users\\swetha\\AppData\\Roaming\\nltk_data...\n",
      "[nltk_data]   Package wordnet is already up-to-date!\n"
     ]
    },
    {
     "data": {
      "text/html": [
       "<div>\n",
       "<style scoped>\n",
       "    .dataframe tbody tr th:only-of-type {\n",
       "        vertical-align: middle;\n",
       "    }\n",
       "\n",
       "    .dataframe tbody tr th {\n",
       "        vertical-align: top;\n",
       "    }\n",
       "\n",
       "    .dataframe thead th {\n",
       "        text-align: right;\n",
       "    }\n",
       "</style>\n",
       "<table border=\"1\" class=\"dataframe\">\n",
       "  <thead>\n",
       "    <tr style=\"text-align: right;\">\n",
       "      <th></th>\n",
       "      <th>tweet_created_at</th>\n",
       "      <th>tweet_display_text_range</th>\n",
       "      <th>tweet_entities</th>\n",
       "      <th>tweet_favorite_count</th>\n",
       "      <th>tweet_full_text</th>\n",
       "      <th>tweet_id</th>\n",
       "      <th>user_created_at</th>\n",
       "      <th>user_entities</th>\n",
       "      <th>user_favourites_count</th>\n",
       "      <th>user_friends_count</th>\n",
       "      <th>user_id</th>\n",
       "      <th>user_listed_count</th>\n",
       "      <th>user_screen_name</th>\n",
       "      <th>user_statuses_count</th>\n",
       "      <th>user_location</th>\n",
       "      <th>text_split</th>\n",
       "      <th>text_stopwords</th>\n",
       "      <th>text_lemma</th>\n",
       "    </tr>\n",
       "  </thead>\n",
       "  <tbody>\n",
       "    <tr>\n",
       "      <th>0</th>\n",
       "      <td>Fri Sep 07 16:25:06 +0000 2018</td>\n",
       "      <td>[0, 75]</td>\n",
       "      <td>{'hashtags': [{'text': 'quote', 'indices': [47, 53]}, {'text': 'motivation', 'indices': [54, 65]}, {'text': 'justdoit', 'indices': [66, 75]}], 'symbols': [], 'user_mentions': [], 'urls': [], 'media': [{'id': 1038100853872197632, 'id_str': '1038100853872197632', 'indices': [76...</td>\n",
       "      <td>0</td>\n",
       "      <td>Done is better than perfect. — Sheryl Sandberg #quote #motivation #justdoit https://t.co/J9lLdszdW6</td>\n",
       "      <td>1.038100e+18</td>\n",
       "      <td>Fri May 08 10:27:51 +0000 2015</td>\n",
       "      <td>{'url': {'urls': [{'url': 'https://t.co/jGlJswxjwS', 'expanded_url': 'https://about.me/ultrayouwoman', 'display_url': 'about.me/ultrayouwoman', 'indices': [0, 23]}]}, 'description': {'urls': []}}</td>\n",
       "      <td>307.0</td>\n",
       "      <td>48721.0</td>\n",
       "      <td>{'id': 3188618684</td>\n",
       "      <td>629.0</td>\n",
       "      <td>UltraYOUwoman</td>\n",
       "      <td>91870.0</td>\n",
       "      <td>'location': 'California</td>\n",
       "      <td>[done, is, better, than, perfect, sheryl, sandberg, quote, motivation, justdoit, https, t, co, j9lldszdw6]</td>\n",
       "      <td>[done, better, perfect, sheryl, sandberg, quote, motivation, justdoit, https, co, j9lldszdw6]</td>\n",
       "      <td>[done, better, perfect, sheryl, sandberg, quote, motivation, justdoit, http, co, j9lldszdw6]</td>\n",
       "    </tr>\n",
       "    <tr>\n",
       "      <th>1</th>\n",
       "      <td>Fri Sep 07 16:24:59 +0000 2018</td>\n",
       "      <td>[0, 237]</td>\n",
       "      <td>{'hashtags': [{'text': 'hero', 'indices': [90, 95]}, {'text': 'fdny', 'indices': [96, 101]}, {'text': 'likesforlikes', 'indices': [102, 116]}, {'text': 'promo', 'indices': [117, 123]}, {'text': 'music', 'indices': [124, 130]}, {'text': 'instagood', 'indices': [131, 141]}, {'t...</td>\n",
       "      <td>0</td>\n",
       "      <td>Shout out to the Great Fire Department and the tour! 👨‍🚒👨‍🚒 Much love to NYC! 💯🎥🔥✊🏿\\n•\\n•\\n•\\n#hero #fdny #likesforlikes #promo #music #instagood #instadaily #postoftheday #bestoftheday #justdoit #nike #picoftheday... https://t.co/sFobQ2ukpo</td>\n",
       "      <td>1.038100e+18</td>\n",
       "      <td>Fri Dec 26 09:30:23 +0000 2008</td>\n",
       "      <td>{'url': {'urls': [{'url': 'http://t.co/lVm8vfDbfO', 'expanded_url': 'http://youtube.com/yungcutuptv', 'display_url': 'youtube.com/yungcutuptv', 'indices': [0, 22]}]}, 'description': {'urls': [{'url': 'https://t.co/0tOeBuJHHH', 'expanded_url': 'http://piff.me/6613310', 'displa...</td>\n",
       "      <td>1178.0</td>\n",
       "      <td>5489.0</td>\n",
       "      <td>{'id': 18387174</td>\n",
       "      <td>150.0</td>\n",
       "      <td>yungcutup</td>\n",
       "      <td>618822.0</td>\n",
       "      <td>'location': 'Miami</td>\n",
       "      <td>[shout, out, to, the, great, fire, department, and, the, tour, much, love, to, nyc, hero, fdny, likesforlikes, promo, music, instagood, instadaily, postoftheday, bestoftheday, justdoit, nike, picoftheday, https, t, co, sfobq2ukpo]</td>\n",
       "      <td>[shout, great, fire, department, tour, much, love, nyc, hero, fdny, likesforlikes, promo, music, instagood, instadaily, postoftheday, bestoftheday, justdoit, nike, picoftheday, https, co, sfobq2ukpo]</td>\n",
       "      <td>[shout, great, fire, department, tour, much, love, nyc, hero, fdny, likesforlikes, promo, music, instagood, instadaily, postoftheday, bestoftheday, justdoit, nike, picoftheday, http, co, sfobq2ukpo]</td>\n",
       "    </tr>\n",
       "  </tbody>\n",
       "</table>\n",
       "</div>"
      ],
      "text/plain": [
       "                 tweet_created_at tweet_display_text_range  \\\n",
       "0  Fri Sep 07 16:25:06 +0000 2018                  [0, 75]   \n",
       "1  Fri Sep 07 16:24:59 +0000 2018                 [0, 237]   \n",
       "\n",
       "                                                                                                                                                                                                                                                                            tweet_entities  \\\n",
       "0  {'hashtags': [{'text': 'quote', 'indices': [47, 53]}, {'text': 'motivation', 'indices': [54, 65]}, {'text': 'justdoit', 'indices': [66, 75]}], 'symbols': [], 'user_mentions': [], 'urls': [], 'media': [{'id': 1038100853872197632, 'id_str': '1038100853872197632', 'indices': [76...   \n",
       "1  {'hashtags': [{'text': 'hero', 'indices': [90, 95]}, {'text': 'fdny', 'indices': [96, 101]}, {'text': 'likesforlikes', 'indices': [102, 116]}, {'text': 'promo', 'indices': [117, 123]}, {'text': 'music', 'indices': [124, 130]}, {'text': 'instagood', 'indices': [131, 141]}, {'t...   \n",
       "\n",
       "   tweet_favorite_count  \\\n",
       "0                     0   \n",
       "1                     0   \n",
       "\n",
       "                                                                                                                                                                                                                                     tweet_full_text  \\\n",
       "0                                                                                                                                                Done is better than perfect. — Sheryl Sandberg #quote #motivation #justdoit https://t.co/J9lLdszdW6   \n",
       "1  Shout out to the Great Fire Department and the tour! 👨‍🚒👨‍🚒 Much love to NYC! 💯🎥🔥✊🏿\\n•\\n•\\n•\\n#hero #fdny #likesforlikes #promo #music #instagood #instadaily #postoftheday #bestoftheday #justdoit #nike #picoftheday... https://t.co/sFobQ2ukpo   \n",
       "\n",
       "       tweet_id                 user_created_at  \\\n",
       "0  1.038100e+18  Fri May 08 10:27:51 +0000 2015   \n",
       "1  1.038100e+18  Fri Dec 26 09:30:23 +0000 2008   \n",
       "\n",
       "                                                                                                                                                                                                                                                                             user_entities  \\\n",
       "0                                                                                      {'url': {'urls': [{'url': 'https://t.co/jGlJswxjwS', 'expanded_url': 'https://about.me/ultrayouwoman', 'display_url': 'about.me/ultrayouwoman', 'indices': [0, 23]}]}, 'description': {'urls': []}}   \n",
       "1  {'url': {'urls': [{'url': 'http://t.co/lVm8vfDbfO', 'expanded_url': 'http://youtube.com/yungcutuptv', 'display_url': 'youtube.com/yungcutuptv', 'indices': [0, 22]}]}, 'description': {'urls': [{'url': 'https://t.co/0tOeBuJHHH', 'expanded_url': 'http://piff.me/6613310', 'displa...   \n",
       "\n",
       "   user_favourites_count  user_friends_count            user_id  \\\n",
       "0                  307.0             48721.0  {'id': 3188618684   \n",
       "1                 1178.0              5489.0    {'id': 18387174   \n",
       "\n",
       "   user_listed_count user_screen_name  user_statuses_count  \\\n",
       "0              629.0    UltraYOUwoman              91870.0   \n",
       "1              150.0        yungcutup             618822.0   \n",
       "\n",
       "              user_location  \\\n",
       "0   'location': 'California   \n",
       "1        'location': 'Miami   \n",
       "\n",
       "                                                                                                                                                                                                                               text_split  \\\n",
       "0                                                                                                                              [done, is, better, than, perfect, sheryl, sandberg, quote, motivation, justdoit, https, t, co, j9lldszdw6]   \n",
       "1  [shout, out, to, the, great, fire, department, and, the, tour, much, love, to, nyc, hero, fdny, likesforlikes, promo, music, instagood, instadaily, postoftheday, bestoftheday, justdoit, nike, picoftheday, https, t, co, sfobq2ukpo]   \n",
       "\n",
       "                                                                                                                                                                                            text_stopwords  \\\n",
       "0                                                                                                            [done, better, perfect, sheryl, sandberg, quote, motivation, justdoit, https, co, j9lldszdw6]   \n",
       "1  [shout, great, fire, department, tour, much, love, nyc, hero, fdny, likesforlikes, promo, music, instagood, instadaily, postoftheday, bestoftheday, justdoit, nike, picoftheday, https, co, sfobq2ukpo]   \n",
       "\n",
       "                                                                                                                                                                                               text_lemma  \n",
       "0                                                                                                            [done, better, perfect, sheryl, sandberg, quote, motivation, justdoit, http, co, j9lldszdw6]  \n",
       "1  [shout, great, fire, department, tour, much, love, nyc, hero, fdny, likesforlikes, promo, music, instagood, instadaily, postoftheday, bestoftheday, justdoit, nike, picoftheday, http, co, sfobq2ukpo]  "
      ]
     },
     "execution_count": 30,
     "metadata": {},
     "output_type": "execute_result"
    }
   ],
   "source": [
    "nltk.download('wordnet')\n",
    "from nltk.stem import WordNetLemmatizer\n",
    "def word_lemmatizer(text):\n",
    "    lem_text = [WordNetLemmatizer().lemmatize(i) for i in text]\n",
    "    return lem_text\n",
    "newdf2['text_lemma'] = newdf2['text_stopwords'].apply(lambda x: word_lemmatizer(x))\n",
    "newdf2.head(2)"
   ]
  },
  {
   "cell_type": "code",
   "execution_count": 31,
   "metadata": {},
   "outputs": [
    {
     "name": "stderr",
     "output_type": "stream",
     "text": [
      "[nltk_data] Downloading package averaged_perceptron_tagger to\n",
      "[nltk_data]     C:\\Users\\swetha\\AppData\\Roaming\\nltk_data...\n",
      "[nltk_data]   Package averaged_perceptron_tagger is already up-to-\n",
      "[nltk_data]       date!\n"
     ]
    },
    {
     "data": {
      "text/html": [
       "<div>\n",
       "<style scoped>\n",
       "    .dataframe tbody tr th:only-of-type {\n",
       "        vertical-align: middle;\n",
       "    }\n",
       "\n",
       "    .dataframe tbody tr th {\n",
       "        vertical-align: top;\n",
       "    }\n",
       "\n",
       "    .dataframe thead th {\n",
       "        text-align: right;\n",
       "    }\n",
       "</style>\n",
       "<table border=\"1\" class=\"dataframe\">\n",
       "  <thead>\n",
       "    <tr style=\"text-align: right;\">\n",
       "      <th></th>\n",
       "      <th>tweet_created_at</th>\n",
       "      <th>tweet_display_text_range</th>\n",
       "      <th>tweet_entities</th>\n",
       "      <th>tweet_favorite_count</th>\n",
       "      <th>tweet_full_text</th>\n",
       "      <th>tweet_id</th>\n",
       "      <th>user_created_at</th>\n",
       "      <th>user_entities</th>\n",
       "      <th>user_favourites_count</th>\n",
       "      <th>user_friends_count</th>\n",
       "      <th>user_id</th>\n",
       "      <th>user_listed_count</th>\n",
       "      <th>user_screen_name</th>\n",
       "      <th>user_statuses_count</th>\n",
       "      <th>user_location</th>\n",
       "      <th>text_split</th>\n",
       "      <th>text_stopwords</th>\n",
       "      <th>text_lemma</th>\n",
       "      <th>text_pos</th>\n",
       "    </tr>\n",
       "  </thead>\n",
       "  <tbody>\n",
       "    <tr>\n",
       "      <th>0</th>\n",
       "      <td>Fri Sep 07 16:25:06 +0000 2018</td>\n",
       "      <td>[0, 75]</td>\n",
       "      <td>{'hashtags': [{'text': 'quote', 'indices': [47, 53]}, {'text': 'motivation', 'indices': [54, 65]}, {'text': 'justdoit', 'indices': [66, 75]}], 'symbols': [], 'user_mentions': [], 'urls': [], 'media': [{'id': 1038100853872197632, 'id_str': '1038100853872197632', 'indices': [76...</td>\n",
       "      <td>0</td>\n",
       "      <td>Done is better than perfect. — Sheryl Sandberg #quote #motivation #justdoit https://t.co/J9lLdszdW6</td>\n",
       "      <td>1.038100e+18</td>\n",
       "      <td>Fri May 08 10:27:51 +0000 2015</td>\n",
       "      <td>{'url': {'urls': [{'url': 'https://t.co/jGlJswxjwS', 'expanded_url': 'https://about.me/ultrayouwoman', 'display_url': 'about.me/ultrayouwoman', 'indices': [0, 23]}]}, 'description': {'urls': []}}</td>\n",
       "      <td>307.0</td>\n",
       "      <td>48721.0</td>\n",
       "      <td>{'id': 3188618684</td>\n",
       "      <td>629.0</td>\n",
       "      <td>UltraYOUwoman</td>\n",
       "      <td>91870.0</td>\n",
       "      <td>'location': 'California</td>\n",
       "      <td>[done, is, better, than, perfect, sheryl, sandberg, quote, motivation, justdoit, https, t, co, j9lldszdw6]</td>\n",
       "      <td>[done, better, perfect, sheryl, sandberg, quote, motivation, justdoit, https, co, j9lldszdw6]</td>\n",
       "      <td>[done, better, perfect, sheryl, sandberg, quote, motivation, justdoit, http, co, j9lldszdw6]</td>\n",
       "      <td>[(D, NNP), (o, MD), (n, VB), (e, JJ), ( , NN), (i, NN), (s, VBP), ( , NN), (b, NN), (e, NN), (t, NN), (t, NN), (e, NN), (r, NN), ( , NNP), (t, NN), (h, VBD), (a, DT), (n, JJ), ( , NN), (p, NN), (e, NN), (r, NN), (f, NN), (e, NN), (c, NN), (t, NN), (., .), ( , CC), (—, JJ), ( ...</td>\n",
       "    </tr>\n",
       "  </tbody>\n",
       "</table>\n",
       "</div>"
      ],
      "text/plain": [
       "                 tweet_created_at tweet_display_text_range  \\\n",
       "0  Fri Sep 07 16:25:06 +0000 2018                  [0, 75]   \n",
       "\n",
       "                                                                                                                                                                                                                                                                            tweet_entities  \\\n",
       "0  {'hashtags': [{'text': 'quote', 'indices': [47, 53]}, {'text': 'motivation', 'indices': [54, 65]}, {'text': 'justdoit', 'indices': [66, 75]}], 'symbols': [], 'user_mentions': [], 'urls': [], 'media': [{'id': 1038100853872197632, 'id_str': '1038100853872197632', 'indices': [76...   \n",
       "\n",
       "   tweet_favorite_count  \\\n",
       "0                     0   \n",
       "\n",
       "                                                                                       tweet_full_text  \\\n",
       "0  Done is better than perfect. — Sheryl Sandberg #quote #motivation #justdoit https://t.co/J9lLdszdW6   \n",
       "\n",
       "       tweet_id                 user_created_at  \\\n",
       "0  1.038100e+18  Fri May 08 10:27:51 +0000 2015   \n",
       "\n",
       "                                                                                                                                                                                         user_entities  \\\n",
       "0  {'url': {'urls': [{'url': 'https://t.co/jGlJswxjwS', 'expanded_url': 'https://about.me/ultrayouwoman', 'display_url': 'about.me/ultrayouwoman', 'indices': [0, 23]}]}, 'description': {'urls': []}}   \n",
       "\n",
       "   user_favourites_count  user_friends_count            user_id  \\\n",
       "0                  307.0             48721.0  {'id': 3188618684   \n",
       "\n",
       "   user_listed_count user_screen_name  user_statuses_count  \\\n",
       "0              629.0    UltraYOUwoman              91870.0   \n",
       "\n",
       "              user_location  \\\n",
       "0   'location': 'California   \n",
       "\n",
       "                                                                                                   text_split  \\\n",
       "0  [done, is, better, than, perfect, sheryl, sandberg, quote, motivation, justdoit, https, t, co, j9lldszdw6]   \n",
       "\n",
       "                                                                                  text_stopwords  \\\n",
       "0  [done, better, perfect, sheryl, sandberg, quote, motivation, justdoit, https, co, j9lldszdw6]   \n",
       "\n",
       "                                                                                     text_lemma  \\\n",
       "0  [done, better, perfect, sheryl, sandberg, quote, motivation, justdoit, http, co, j9lldszdw6]   \n",
       "\n",
       "                                                                                                                                                                                                                                                                                  text_pos  \n",
       "0  [(D, NNP), (o, MD), (n, VB), (e, JJ), ( , NN), (i, NN), (s, VBP), ( , NN), (b, NN), (e, NN), (t, NN), (t, NN), (e, NN), (r, NN), ( , NNP), (t, NN), (h, VBD), (a, DT), (n, JJ), ( , NN), (p, NN), (e, NN), (r, NN), (f, NN), (e, NN), (c, NN), (t, NN), (., .), ( , CC), (—, JJ), ( ...  "
      ]
     },
     "execution_count": 31,
     "metadata": {},
     "output_type": "execute_result"
    }
   ],
   "source": [
    "def word_pos_tagger(text):\n",
    "    pos_tagged_text = nltk.pos_tag(text)\n",
    "    return pos_tagged_text\n",
    "nltk.download('averaged_perceptron_tagger')\n",
    "newdf2['text_pos'] = newdf2['tweet_full_text'].apply(lambda x: word_pos_tagger(x))\n",
    "newdf2.head(1)"
   ]
  },
  {
   "cell_type": "code",
   "execution_count": 32,
   "metadata": {},
   "outputs": [
    {
     "data": {
      "text/plain": [
       "['extract',\n",
       " 'extract_currency',\n",
       " 'extract_emoji',\n",
       " 'extract_exclamations',\n",
       " 'extract_hashtags',\n",
       " 'extract_intense_words',\n",
       " 'extract_mentions',\n",
       " 'extract_numbers',\n",
       " 'extract_questions',\n",
       " 'extract_urls',\n",
       " 'extract_words']"
      ]
     },
     "execution_count": 32,
     "metadata": {},
     "output_type": "execute_result"
    }
   ],
   "source": [
    "[x for x in dir(adv) if x.startswith('extract')]"
   ]
  },
  {
   "cell_type": "code",
   "execution_count": 33,
   "metadata": {},
   "outputs": [
    {
     "data": {
      "text/plain": [
       "dict_keys(['hashtags', 'hashtags_flat', 'hashtag_counts', 'hashtag_freq', 'top_hashtags', 'overview'])"
      ]
     },
     "execution_count": 33,
     "metadata": {},
     "output_type": "execute_result"
    }
   ],
   "source": [
    "hashtag_summary = adv.extract_hashtags(newdf2['tweet_full_text'])\n",
    "hashtag_summary.keys()"
   ]
  },
  {
   "cell_type": "code",
   "execution_count": 34,
   "metadata": {},
   "outputs": [
    {
     "data": {
      "text/plain": [
       "{'num_posts': 5089,\n",
       " 'num_hashtags': 15483,\n",
       " 'hashtags_per_post': 3.0424444881116135,\n",
       " 'unique_hashtags': 4630}"
      ]
     },
     "execution_count": 34,
     "metadata": {},
     "output_type": "execute_result"
    }
   ],
   "source": [
    "hashtag_summary['overview']"
   ]
  },
  {
   "cell_type": "code",
   "execution_count": 35,
   "metadata": {},
   "outputs": [
    {
     "data": {
      "text/plain": [
       "[['#quote', '#motivation', '#justdoit'],\n",
       " ['#hero',\n",
       "  '#fdny',\n",
       "  '#likesforlikes',\n",
       "  '#promo',\n",
       "  '#music',\n",
       "  '#instagood',\n",
       "  '#instadaily',\n",
       "  '#postoftheday',\n",
       "  '#bestoftheday',\n",
       "  '#justdoit',\n",
       "  '#nike',\n",
       "  '#picoftheday'],\n",
       " ['#justdoit', '#4yourmorning', '#4yourmemecollection'],\n",
       " ['#kapernickeffect', '#swoosh', '#justdoit'],\n",
       " ['#shaquem',\n",
       "  '#nfl',\n",
       "  '#seattle',\n",
       "  '#seahawks',\n",
       "  '#griffin',\n",
       "  '#justdoit',\n",
       "  '#nike'],\n",
       " ['#justdoit'],\n",
       " ['#registertovote', '#justdoit'],\n",
       " ['#justdoit'],\n",
       " ['#justdoit', '#takeaknee', '#takeakneeinnikes'],\n",
       " ['#fx',\n",
       "  '#feelgoodfriday',\n",
       "  '#fridayfeeling',\n",
       "  '#tradermoni',\n",
       "  '#justdoit',\n",
       "  '#fridaymotivation']]"
      ]
     },
     "execution_count": 35,
     "metadata": {},
     "output_type": "execute_result"
    }
   ],
   "source": [
    "hashtag_summary['hashtags'][:10]"
   ]
  },
  {
   "cell_type": "code",
   "execution_count": 36,
   "metadata": {},
   "outputs": [
    {
     "data": {
      "text/plain": [
       "['#quote',\n",
       " '#motivation',\n",
       " '#justdoit',\n",
       " '#hero',\n",
       " '#fdny',\n",
       " '#likesforlikes',\n",
       " '#promo',\n",
       " '#music',\n",
       " '#instagood',\n",
       " '#instadaily']"
      ]
     },
     "execution_count": 36,
     "metadata": {},
     "output_type": "execute_result"
    }
   ],
   "source": [
    "hashtag_summary['hashtags_flat'][:10]"
   ]
  },
  {
   "cell_type": "code",
   "execution_count": 37,
   "metadata": {},
   "outputs": [
    {
     "data": {
      "text/plain": [
       "[3, 12, 3, 3, 7, 1, 2, 1, 3, 6, 1, 2, 1, 1, 2, 1, 7, 1, 3, 2]"
      ]
     },
     "execution_count": 37,
     "metadata": {},
     "output_type": "execute_result"
    }
   ],
   "source": [
    "hashtag_summary['hashtag_counts'][:20]"
   ]
  },
  {
   "cell_type": "code",
   "execution_count": 38,
   "metadata": {},
   "outputs": [
    {
     "data": {
      "text/plain": [
       "[(1, 2058),\n",
       " (2, 1061),\n",
       " (3, 686),\n",
       " (4, 374),\n",
       " (5, 239),\n",
       " (6, 154),\n",
       " (7, 94),\n",
       " (8, 74),\n",
       " (9, 60),\n",
       " (10, 65),\n",
       " (11, 58),\n",
       " (12, 39),\n",
       " (13, 25),\n",
       " (14, 24),\n",
       " (15, 11)]"
      ]
     },
     "execution_count": 38,
     "metadata": {},
     "output_type": "execute_result"
    }
   ],
   "source": [
    "hashtag_summary['hashtag_freq'][:15]"
   ]
  },
  {
   "cell_type": "code",
   "execution_count": 39,
   "metadata": {},
   "outputs": [
    {
     "data": {
      "image/png": "[encoded data removed]",
      "text/plain": [
       "<Figure size 792x576 with 1 Axes>"
      ]
     },
     "metadata": {
      "image/png": {
       "height": 505,
       "width": 678
      }
     },
     "output_type": "display_data"
    }
   ],
   "source": [
    "plt.figure(facecolor='black',figsize=(11, 8))\n",
    "plt.bar([x[0] for x in hashtag_summary['hashtag_freq'][:15]],\n",
    "        [x[1] for x in hashtag_summary['hashtag_freq'][:15]])\n",
    "plt.title('Hashtag frequency',color='yellow',fontsize=20)\n",
    "plt.xlabel('Hashtags per tweet',color='white',fontsize=14)\n",
    "plt.ylabel('Number of tweets',color='white',fontsize=14)\n",
    "plt.xticks(range(16),color='white')\n",
    "plt.yticks(range(0, 2100, 100),color='white')\n",
    "plt.grid(alpha=0.5)\n",
    "plt.gca().set_frame_on(False)"
   ]
  },
  {
   "cell_type": "code",
   "execution_count": 40,
   "metadata": {},
   "outputs": [
    {
     "data": {
      "text/plain": [
       "[('#justdoit', 5150),\n",
       " ('#nike', 1112),\n",
       " ('#colinkaepernick', 208),\n",
       " ('#takeaknee', 138),\n",
       " ('#kaepernick', 137),\n",
       " ('#nfl', 106),\n",
       " ('#nflkickoff', 75),\n",
       " ('#imwithkap', 73),\n",
       " ('#nikead', 70),\n",
       " ('#nikeboycott', 69)]"
      ]
     },
     "execution_count": 40,
     "metadata": {},
     "output_type": "execute_result"
    }
   ],
   "source": [
    "hashtag_summary['top_hashtags'][:10]\n"
   ]
  },
  {
   "cell_type": "code",
   "execution_count": 41,
   "metadata": {},
   "outputs": [
    {
     "data": {
      "image/png": "[encoded data removed]",
      "text/plain": [
       "<Figure size 432x288 with 1 Axes>"
      ]
     },
     "metadata": {
      "image/png": {
       "height": 263,
       "width": 463
      },
      "needs_background": "light"
     },
     "output_type": "display_data"
    }
   ],
   "source": [
    "plt.barh([x[0] for x in hashtag_summary['top_hashtags'][2:][:30]][::-1],\n",
    "         [x[1] for x in hashtag_summary['top_hashtags'][2:][:30]][::-1])\n",
    "plt.title('Top Hashtags',color='red')\n",
    "plt.grid(alpha=0.5,color='black')\n",
    "plt.gca().set_frame_on(False)\n"
   ]
  },
  {
   "cell_type": "code",
   "execution_count": 42,
   "metadata": {},
   "outputs": [],
   "source": [
    "emoji_summary = adv.extract_emoji(newdf2['tweet_full_text'])\n"
   ]
  },
  {
   "cell_type": "code",
   "execution_count": 43,
   "metadata": {},
   "outputs": [
    {
     "data": {
      "text/plain": [
       "{'num_posts': 5089,\n",
       " 'num_emoji': 3187,\n",
       " 'emoji_per_post': 0.626252701906072,\n",
       " 'unique_emoji': 421}"
      ]
     },
     "execution_count": 43,
     "metadata": {},
     "output_type": "execute_result"
    }
   ],
   "source": [
    "emoji_summary['overview']"
   ]
  },
  {
   "cell_type": "code",
   "execution_count": 44,
   "metadata": {},
   "outputs": [
    {
     "data": {
      "text/plain": [
       "[[],\n",
       " ['👨\\u200d🚒', '👨\\u200d🚒', '💯', '🎥', '🔥', '✊🏿'],\n",
       " ['🍪', '😂'],\n",
       " [],\n",
       " [],\n",
       " [],\n",
       " [],\n",
       " [],\n",
       " [],\n",
       " [],\n",
       " [],\n",
       " [],\n",
       " [],\n",
       " [],\n",
       " [],\n",
       " [],\n",
       " ['🤔', '🙄', '😳'],\n",
       " [],\n",
       " [],\n",
       " []]"
      ]
     },
     "execution_count": 44,
     "metadata": {},
     "output_type": "execute_result"
    }
   ],
   "source": [
    "emoji_summary['emoji'][:20]"
   ]
  },
  {
   "cell_type": "code",
   "execution_count": 45,
   "metadata": {},
   "outputs": [
    {
     "data": {
      "text/plain": [
       "[[],\n",
       " ['man firefighter',\n",
       "  'man firefighter',\n",
       "  'hundred points',\n",
       "  'movie camera',\n",
       "  'fire',\n",
       "  'raised fist: dark skin tone'],\n",
       " ['cookie', 'face with tears of joy'],\n",
       " [],\n",
       " [],\n",
       " [],\n",
       " [],\n",
       " [],\n",
       " [],\n",
       " [],\n",
       " [],\n",
       " [],\n",
       " [],\n",
       " [],\n",
       " [],\n",
       " [],\n",
       " ['thinking face', 'face with rolling eyes', 'flushed face'],\n",
       " [],\n",
       " [],\n",
       " []]"
      ]
     },
     "execution_count": 45,
     "metadata": {},
     "output_type": "execute_result"
    }
   ],
   "source": [
    "emoji_summary['emoji_text'][:20]"
   ]
  },
  {
   "cell_type": "code",
   "execution_count": 46,
   "metadata": {},
   "outputs": [
    {
     "data": {
      "text/plain": [
       "['👨\\u200d🚒', '👨\\u200d🚒', '💯', '🎥', '🔥', '✊🏿', '🍪', '😂', '🤔', '🙄']"
      ]
     },
     "execution_count": 46,
     "metadata": {},
     "output_type": "execute_result"
    }
   ],
   "source": [
    "emoji_summary['emoji_flat'][:10]"
   ]
  },
  {
   "cell_type": "code",
   "execution_count": 47,
   "metadata": {},
   "outputs": [
    {
     "data": {
      "text/plain": [
       "['man firefighter',\n",
       " 'man firefighter',\n",
       " 'hundred points',\n",
       " 'movie camera',\n",
       " 'fire',\n",
       " 'raised fist: dark skin tone',\n",
       " 'cookie',\n",
       " 'face with tears of joy',\n",
       " 'thinking face',\n",
       " 'face with rolling eyes']"
      ]
     },
     "execution_count": 47,
     "metadata": {},
     "output_type": "execute_result"
    }
   ],
   "source": [
    "emoji_summary['emoji_flat_text'][:10]"
   ]
  },
  {
   "cell_type": "code",
   "execution_count": 48,
   "metadata": {},
   "outputs": [
    {
     "data": {
      "text/plain": [
       "[('👨\\u200d🚒', 'man firefighter'),\n",
       " ('👨\\u200d🚒', 'man firefighter'),\n",
       " ('💯', 'hundred points'),\n",
       " ('🎥', 'movie camera'),\n",
       " ('🔥', 'fire'),\n",
       " ('✊🏿', 'raised fist: dark skin tone'),\n",
       " ('🍪', 'cookie'),\n",
       " ('😂', 'face with tears of joy'),\n",
       " ('🤔', 'thinking face'),\n",
       " ('🙄', 'face with rolling eyes')]"
      ]
     },
     "execution_count": 48,
     "metadata": {},
     "output_type": "execute_result"
    }
   ],
   "source": [
    "list(zip(emoji_summary['emoji_flat'][:10], emoji_summary['emoji_flat_text'][:10]))"
   ]
  },
  {
   "cell_type": "code",
   "execution_count": 49,
   "metadata": {},
   "outputs": [
    {
     "data": {
      "text/plain": [
       "[0, 6, 2, 0, 0, 0, 0, 0, 0, 0, 0, 0, 0, 0, 0]"
      ]
     },
     "execution_count": 49,
     "metadata": {},
     "output_type": "execute_result"
    }
   ],
   "source": [
    "emoji_summary['emoji_counts'][:15]"
   ]
  },
  {
   "cell_type": "code",
   "execution_count": 50,
   "metadata": {},
   "outputs": [
    {
     "data": {
      "text/plain": [
       "[(0, 3952),\n",
       " (1, 501),\n",
       " (2, 224),\n",
       " (3, 153),\n",
       " (4, 82),\n",
       " (5, 54),\n",
       " (6, 52),\n",
       " (7, 18),\n",
       " (8, 8),\n",
       " (9, 5),\n",
       " (10, 4),\n",
       " (11, 7),\n",
       " (12, 7),\n",
       " (13, 4),\n",
       " (14, 3)]"
      ]
     },
     "execution_count": 50,
     "metadata": {},
     "output_type": "execute_result"
    }
   ],
   "source": [
    "emoji_summary['emoji_freq'][:15]"
   ]
  },
  {
   "cell_type": "code",
   "execution_count": 51,
   "metadata": {},
   "outputs": [
    {
     "data": {
      "image/png": "[encoded data removed]",
      "text/plain": [
       "<Figure size 576x576 with 1 Axes>"
      ]
     },
     "metadata": {
      "image/png": {
       "height": 501,
       "width": 509
      }
     },
     "output_type": "display_data"
    }
   ],
   "source": [
    "plt.figure(facecolor='#ebebeb', figsize=(8, 8))\n",
    "plt.bar([x[0] for x in emoji_summary['emoji_freq'][:15]],\n",
    "        [x[1] for x in emoji_summary['emoji_freq'][:15]])\n",
    "plt.title('Emoji frequency', fontsize=18)\n",
    "plt.xlabel('Emoji per tweet', fontsize=12)\n",
    "plt.ylabel('Number of tweets', fontsize=12)\n",
    "plt.grid(alpha=0.5)\n",
    "plt.gca().set_frame_on(False)\n"
   ]
  },
  {
   "cell_type": "code",
   "execution_count": 52,
   "metadata": {},
   "outputs": [
    {
     "data": {
      "text/plain": [
       "[('😂', 535),\n",
       " ('🤣', 177),\n",
       " ('✔️', 136),\n",
       " ('🔥', 122),\n",
       " ('🏈', 80),\n",
       " ('❤️', 69),\n",
       " ('💯', 50),\n",
       " ('💙', 49),\n",
       " ('🇺🇸', 48),\n",
       " ('😭', 46),\n",
       " ('✊🏾', 42),\n",
       " ('👟', 39),\n",
       " ('✊🏽', 37),\n",
       " ('👀', 37),\n",
       " ('🤔', 31),\n",
       " ('💩', 30),\n",
       " ('👏', 29),\n",
       " ('😎', 28),\n",
       " ('🙌🏽', 28),\n",
       " ('⭐', 28)]"
      ]
     },
     "execution_count": 52,
     "metadata": {},
     "output_type": "execute_result"
    }
   ],
   "source": [
    "emoji_summary['top_emoji'][:20]"
   ]
  },
  {
   "cell_type": "code",
   "execution_count": 53,
   "metadata": {},
   "outputs": [
    {
     "data": {
      "text/plain": [
       "[('face with tears of joy', 535),\n",
       " ('rolling on the floor laughing', 177),\n",
       " ('check mark', 163),\n",
       " ('fire', 122),\n",
       " ('red heart', 83),\n",
       " ('american football', 80),\n",
       " ('hundred points', 50),\n",
       " ('blue heart', 49),\n",
       " ('flag: United States', 48),\n",
       " ('loudly crying face', 46),\n",
       " ('raised fist: medium-dark skin tone', 42),\n",
       " ('running shoe', 39),\n",
       " ('raised fist: medium skin tone', 37),\n",
       " ('eyes', 37),\n",
       " ('thinking face', 31),\n",
       " ('pile of poo', 30),\n",
       " ('clapping hands', 29),\n",
       " ('smiling face with sunglasses', 28),\n",
       " ('raising hands: medium skin tone', 28),\n",
       " ('star', 28)]"
      ]
     },
     "execution_count": 53,
     "metadata": {},
     "output_type": "execute_result"
    }
   ],
   "source": [
    "emoji_summary['top_emoji_text'][:20]"
   ]
  },
  {
   "cell_type": "code",
   "execution_count": 54,
   "metadata": {},
   "outputs": [
    {
     "data": {
      "image/png": "[encoded data removed]",
      "text/plain": [
       "<Figure size 576x576 with 1 Axes>"
      ]
     },
     "metadata": {
      "image/png": {
       "height": 481,
       "width": 640
      }
     },
     "output_type": "display_data"
    }
   ],
   "source": [
    "plt.figure(facecolor='#ebebeb', figsize=(8, 8))\n",
    "plt.barh([x[0] for x in emoji_summary['top_emoji_text'][:20]][::-1],\n",
    "         [x[1] for x in emoji_summary['top_emoji_text'][:20]][::-1])\n",
    "plt.title('Top Emoji')\n",
    "plt.grid(alpha=0.5)\n",
    "plt.gca().set_frame_on(False)"
   ]
  },
  {
   "cell_type": "code",
   "execution_count": 55,
   "metadata": {},
   "outputs": [
    {
     "data": {
      "text/plain": [
       "dict_keys(['mentions', 'mentions_flat', 'mention_counts', 'mention_freq', 'top_mentions', 'overview'])"
      ]
     },
     "execution_count": 55,
     "metadata": {},
     "output_type": "execute_result"
    }
   ],
   "source": [
    "mention_summary = adv.extract_mentions(newdf2['tweet_full_text'])\n",
    "mention_summary.keys()"
   ]
  },
  {
   "cell_type": "code",
   "execution_count": 56,
   "metadata": {},
   "outputs": [
    {
     "data": {
      "text/plain": [
       "{'num_posts': 5089,\n",
       " 'num_mentions': 4863,\n",
       " 'mentions_per_post': 0.9555904892906268,\n",
       " 'unique_mentions': 1624}"
      ]
     },
     "execution_count": 56,
     "metadata": {},
     "output_type": "execute_result"
    }
   ],
   "source": [
    "mention_summary['overview']"
   ]
  },
  {
   "cell_type": "code",
   "execution_count": 57,
   "metadata": {},
   "outputs": [
    {
     "data": {
      "text/plain": [
       "[[],\n",
       " [],\n",
       " [],\n",
       " [],\n",
       " [],\n",
       " ['@realdonaldtrump'],\n",
       " [],\n",
       " ['@nike'],\n",
       " ['@nike', '@nikestore', '@kaepernick7'],\n",
       " [],\n",
       " [],\n",
       " ['@nike'],\n",
       " ['@cspensions'],\n",
       " ['@realdonaldtrump', '@colinkaperneck7'],\n",
       " ['@repadamschiff', '@repadamschiff']]"
      ]
     },
     "execution_count": 57,
     "metadata": {},
     "output_type": "execute_result"
    }
   ],
   "source": [
    "mention_summary['mentions'][:15]"
   ]
  },
  {
   "cell_type": "code",
   "execution_count": 58,
   "metadata": {},
   "outputs": [
    {
     "data": {
      "text/plain": [
       "['@realdonaldtrump',\n",
       " '@nike',\n",
       " '@nike',\n",
       " '@nikestore',\n",
       " '@kaepernick7',\n",
       " '@nike',\n",
       " '@cspensions',\n",
       " '@realdonaldtrump',\n",
       " '@colinkaperneck7',\n",
       " '@repadamschiff']"
      ]
     },
     "execution_count": 58,
     "metadata": {},
     "output_type": "execute_result"
    }
   ],
   "source": [
    "mention_summary['mentions_flat'][:10]"
   ]
  },
  {
   "cell_type": "code",
   "execution_count": 59,
   "metadata": {},
   "outputs": [
    {
     "data": {
      "text/plain": [
       "[0, 0, 0, 0, 0, 1, 0, 1, 3, 0, 0, 1, 1, 2, 2, 0, 0, 1, 2, 0]"
      ]
     },
     "execution_count": 59,
     "metadata": {},
     "output_type": "execute_result"
    }
   ],
   "source": [
    "mention_summary['mention_counts'][:20]"
   ]
  },
  {
   "cell_type": "code",
   "execution_count": 60,
   "metadata": {
    "scrolled": true
   },
   "outputs": [
    {
     "data": {
      "text/plain": [
       "[(0, 2738),\n",
       " (1, 1386),\n",
       " (2, 602),\n",
       " (3, 193),\n",
       " (4, 66),\n",
       " (5, 34),\n",
       " (6, 18),\n",
       " (7, 8),\n",
       " (8, 3),\n",
       " (9, 4),\n",
       " (10, 1),\n",
       " (11, 4),\n",
       " (12, 2),\n",
       " (13, 1),\n",
       " (14, 2)]"
      ]
     },
     "execution_count": 60,
     "metadata": {},
     "output_type": "execute_result"
    }
   ],
   "source": [
    "mention_summary['mention_freq'][:15]"
   ]
  },
  {
   "cell_type": "code",
   "execution_count": 61,
   "metadata": {},
   "outputs": [
    {
     "data": {
      "image/png": "[encoded data removed]",
      "text/plain": [
       "<Figure size 576x576 with 1 Axes>"
      ]
     },
     "metadata": {
      "image/png": {
       "height": 501,
       "width": 509
      }
     },
     "output_type": "display_data"
    }
   ],
   "source": [
    "plt.figure(facecolor='#ebebeb', figsize=(8, 8))\n",
    "\n",
    "plt.bar([x[0] for x in mention_summary['mention_freq'][:15]],\n",
    "        [x[1] for x in mention_summary['mention_freq'][:15]])\n",
    "plt.title('Mention frequency', fontsize=18)\n",
    "plt.xlabel('Mention per tweet', fontsize=12)\n",
    "plt.ylabel('Number of tweets', fontsize=12)\n",
    "plt.xticks(range(15))\n",
    "plt.yticks(range(0, 2800, 200))\n",
    "plt.grid(alpha=0.5)\n",
    "plt.gca().set_frame_on(False)"
   ]
  },
  {
   "cell_type": "code",
   "execution_count": 62,
   "metadata": {},
   "outputs": [
    {
     "data": {
      "text/plain": [
       "[('@nike', 964),\n",
       " ('@kaepernick7', 493),\n",
       " ('@realdonaldtrump', 412),\n",
       " ('@serenawilliams', 84),\n",
       " ('@nfl', 65),\n",
       " ('@youtube', 38),\n",
       " ('@corybooker', 36),\n",
       " ('@potus', 29),\n",
       " ('@kingjames', 27),\n",
       " ('@nflcommish', 21)]"
      ]
     },
     "execution_count": 62,
     "metadata": {},
     "output_type": "execute_result"
    }
   ],
   "source": [
    "mention_summary['top_mentions'][:10]"
   ]
  },
  {
   "cell_type": "code",
   "execution_count": 63,
   "metadata": {},
   "outputs": [
    {
     "data": {
      "image/png": "[encoded data removed]",
      "text/plain": [
       "<Figure size 576x576 with 1 Axes>"
      ]
     },
     "metadata": {
      "image/png": {
       "height": 481,
       "width": 569
      }
     },
     "output_type": "display_data"
    }
   ],
   "source": [
    "plt.figure(facecolor='#ebebeb', figsize=(8, 8))\n",
    "plt.barh([x[0] for x in mention_summary['top_mentions'][:15]][::-1],\n",
    "         [x[1] for x in mention_summary['top_mentions'][:15]][::-1])\n",
    "plt.title('Top Mentions')\n",
    "plt.grid(alpha=0.5)\n",
    "plt.xticks(range(0, 1100, 100))\n",
    "plt.gca().set_frame_on(False)"
   ]
  },
  {
   "cell_type": "code",
   "execution_count": 64,
   "metadata": {},
   "outputs": [],
   "source": [
    "question_summary = adv.extract_questions(newdf2['tweet_full_text'])"
   ]
  },
  {
   "cell_type": "code",
   "execution_count": 65,
   "metadata": {},
   "outputs": [
    {
     "data": {
      "text/plain": [
       "dict_keys(['question_marks', 'question_marks_flat', 'question_mark_counts', 'question_mark_freq', 'top_question_marks', 'overview', 'question_mark_names', 'question_text'])"
      ]
     },
     "execution_count": 65,
     "metadata": {},
     "output_type": "execute_result"
    }
   ],
   "source": [
    "question_summary.keys()"
   ]
  },
  {
   "cell_type": "code",
   "execution_count": 66,
   "metadata": {},
   "outputs": [
    {
     "data": {
      "text/plain": [
       "{'num_posts': 5089,\n",
       " 'num_question_marks': 674,\n",
       " 'question_marks_per_post': 0.13244252308901552,\n",
       " 'unique_question_marks': 1}"
      ]
     },
     "execution_count": 66,
     "metadata": {},
     "output_type": "execute_result"
    }
   ],
   "source": [
    "question_summary['overview']"
   ]
  },
  {
   "cell_type": "code",
   "execution_count": 67,
   "metadata": {},
   "outputs": [
    {
     "data": {
      "text/plain": [
       "[(0, 4590), (1, 391), (2, 62), (3, 34), (4, 7), (5, 3), (6, 1), (8, 1)]"
      ]
     },
     "execution_count": 67,
     "metadata": {},
     "output_type": "execute_result"
    }
   ],
   "source": [
    "question_summary['question_mark_freq']"
   ]
  },
  {
   "cell_type": "code",
   "execution_count": 68,
   "metadata": {},
   "outputs": [
    {
     "data": {
      "text/plain": [
       "[('?', 674)]"
      ]
     },
     "execution_count": 68,
     "metadata": {},
     "output_type": "execute_result"
    }
   ],
   "source": [
    "question_summary['top_question_marks'] "
   ]
  },
  {
   "cell_type": "code",
   "execution_count": 69,
   "metadata": {},
   "outputs": [
    {
     "data": {
      "text/plain": [
       "[(6, [\"Why won't Trump protect our elections?\"]),\n",
       " (17, ['You want to impress me?']),\n",
       " (30,\n",
       "  ['But what exactly does sacrifice mean to a multi-billion dollar corporation?']),\n",
       " (45, ['Do I have your back?']),\n",
       " (50, ['Invest in #Mojo50?']),\n",
       " (58, ['Were you surprised?']),\n",
       " (81, ['Owned Yet, Libs?']),\n",
       " (87,\n",
       "  [\"Slave owners and private prisons have used black men and women as a political and financial piece for gain\\n\\nBut people are mad that nike is putting money in Kaepernick's pockets giving a world platform for a message of racial injustice?\"]),\n",
       " (105, ['Can commerce and activism coexist?']),\n",
       " (106, ['See the difference?']),\n",
       " (107, ['School shooting?']),\n",
       " (125,\n",
       "  ['@Kaepernick7 I salute #justdoit and to those human beings burning their #bikes that they already paid for - why couldn’t they all just donate those shoes to those that don’t even know what a shoe is?']),\n",
       " (126, ['Her solution?']),\n",
       " (131,\n",
       "  ['200 smoooooooth writing/drawing pages are calling your name - have you ordered your custom, handcrafted journal?']),\n",
       " (137, ['BTW- have you watched the movie: #AllThePresidentsMen lately?'])]"
      ]
     },
     "execution_count": 69,
     "metadata": {},
     "output_type": "execute_result"
    }
   ],
   "source": [
    "[(i,x) for i, x in  enumerate(question_summary['question_text']) if x][:15]"
   ]
  },
  {
   "cell_type": "code",
   "execution_count": 70,
   "metadata": {},
   "outputs": [
    {
     "data": {
      "text/plain": [
       "{'num_posts': 5089,\n",
       " 'num_intense_words': 1274,\n",
       " 'intense_words_per_post': 0.25034387895460797,\n",
       " 'unique_intense_words': 979}"
      ]
     },
     "execution_count": 70,
     "metadata": {},
     "output_type": "execute_result"
    }
   ],
   "source": [
    "intense_summary = adv.extract_intense_words(newdf2['tweet_full_text'], min_reps=3)\n",
    "intense_summary['overview']"
   ]
  },
  {
   "cell_type": "code",
   "execution_count": 71,
   "metadata": {},
   "outputs": [
    {
     "data": {
      "text/plain": [
       "[('...', 41),\n",
       " ('😂😂😂', 27),\n",
       " ('・・・', 20),\n",
       " ('!!!', 15),\n",
       " ('@MatthewWolfff', 13),\n",
       " ('😂😂😂😂', 12),\n",
       " ('!!!!', 10),\n",
       " ('🔥🔥🔥', 9),\n",
       " ('🤣🤣🤣', 9),\n",
       " ('it...', 9),\n",
       " ('....', 7),\n",
       " ('Nike!!!', 5),\n",
       " ('it!!!', 5),\n",
       " ('🤣🤣🤣🤣🤣', 5),\n",
       " ('@PaylessInsider!!!', 5),\n",
       " ('@Baby___Del', 4),\n",
       " ('@Mongo444444', 4),\n",
       " ('@Briteeye777', 4),\n",
       " ('🤣🤣🤣🤣', 4),\n",
       " ('crazy...', 4)]"
      ]
     },
     "execution_count": 71,
     "metadata": {},
     "output_type": "execute_result"
    }
   ],
   "source": [
    "intense_summary['top_intense_words'][:20]"
   ]
  },
  {
   "cell_type": "code",
   "execution_count": 72,
   "metadata": {},
   "outputs": [
    {
     "data": {
      "text/plain": [
       "dict_keys(['currency_symbols', 'currency_symbols_flat', 'currency_symbol_counts', 'currency_symbol_freq', 'top_currency_symbols', 'overview', 'currency_symbol_names', 'surrounding_text'])"
      ]
     },
     "execution_count": 72,
     "metadata": {},
     "output_type": "execute_result"
    }
   ],
   "source": [
    "currency_summary = adv.extract_currency(newdf2['tweet_full_text'])\n",
    "currency_summary.keys()"
   ]
  },
  {
   "cell_type": "code",
   "execution_count": 73,
   "metadata": {},
   "outputs": [
    {
     "data": {
      "text/plain": [
       "{'num_posts': 5089,\n",
       " 'num_currency_symbols': 65,\n",
       " 'currency_symbols_per_post': 0.012772646885439182,\n",
       " 'unique_currency_symbols': 1}"
      ]
     },
     "execution_count": 73,
     "metadata": {},
     "output_type": "execute_result"
    }
   ],
   "source": [
    "currency_summary['overview']"
   ]
  },
  {
   "cell_type": "code",
   "execution_count": 74,
   "metadata": {},
   "outputs": [
    {
     "data": {
      "text/plain": [
       "[('$', 65)]"
      ]
     },
     "execution_count": 74,
     "metadata": {},
     "output_type": "execute_result"
    }
   ],
   "source": [
    "currency_summary['top_currency_symbols']"
   ]
  },
  {
   "cell_type": "code",
   "execution_count": 75,
   "metadata": {},
   "outputs": [
    {
     "data": {
      "text/plain": [
       "[['Nike got $43 million of free p'],\n",
       " [' confirm Kavanaugh. $20.20 is a small pri'],\n",
       " ['ending any leftover $ after funding @Sena'],\n",
       " ['Tier 1: $50/year ', 'Tier 2: $100/year '],\n",
       " ['oor foreign workers $0.20 an hour #JustDo'],\n",
       " [' spend considerable $ are gen x conservat',\n",
       "  'pending, #justdoit, $NKE lol.'],\n",
       " [\"just Doing It' 👟for $ 0.23 an hour😳😡\",\n",
       "  'he #NikeAd ? Was it $0.23 an hour?🤔'],\n",
       " ['flip flops for only $25! #JustDoIt'],\n",
       " ['urrent #stock price $80 and some change. '],\n",
       " ['t black kids buying $200 Jordan’s and you',\n",
       "  'rofessionals buying $350 Nike Apple Watch',\n",
       "  'some hick burning a $10 pair of socks tha'],\n",
       " ['e “Buzz” equated to $163.5 million in val'],\n",
       " ['livery service. Get $7 off your next orde'],\n",
       " ['m credited and some $ for their art?!!! h'],\n",
       " ['#JustDoIt @elonmusk $tsla'],\n",
       " ['ainability and save $26 trillion. Why are'],\n",
       " ['ille Jury Fines Man $1 for Punching White'],\n",
       " ['founder gave nearly $400,000 to Trump. @N'],\n",
       " ['w...and he just got $30 mil for this ad??'],\n",
       " ['on! I will spend my $ w/companies that ba'],\n",
       " ['Of Richard Nixon’s A$$! ']]"
      ]
     },
     "execution_count": 75,
     "metadata": {},
     "output_type": "execute_result"
    }
   ],
   "source": [
    "[x for x in currency_summary['surrounding_text'] if x][:20]"
   ]
  },
  {
   "cell_type": "code",
   "execution_count": 76,
   "metadata": {},
   "outputs": [],
   "source": [
    "word_summary = adv.extract_words(newdf2['tweet_full_text'], \n",
    "                                 words_to_extract=['sport', 'football', 'athlet',],\n",
    "                                 entire_words_only=False)"
   ]
  },
  {
   "cell_type": "code",
   "execution_count": 77,
   "metadata": {},
   "outputs": [
    {
     "data": {
      "text/plain": [
       "dict_keys(['words', 'words_flat', 'word_counts', 'word_freq', 'top_words', 'overview'])"
      ]
     },
     "execution_count": 77,
     "metadata": {},
     "output_type": "execute_result"
    }
   ],
   "source": [
    "word_summary.keys()"
   ]
  },
  {
   "cell_type": "code",
   "execution_count": 78,
   "metadata": {},
   "outputs": [
    {
     "data": {
      "text/plain": [
       "{'num_posts': 5089,\n",
       " 'num_words': 355,\n",
       " 'words_per_post': 0.06975830222047553,\n",
       " 'unique_words': 80}"
      ]
     },
     "execution_count": 78,
     "metadata": {},
     "output_type": "execute_result"
    }
   ],
   "source": [
    "word_summary['overview']"
   ]
  },
  {
   "cell_type": "code",
   "execution_count": 79,
   "metadata": {},
   "outputs": [
    {
     "data": {
      "text/plain": [
       "[('football', 39),\n",
       " ('#football', 36),\n",
       " ('#nikefootball', 25),\n",
       " ('#collegefootball', 25),\n",
       " ('#highschoolfootball', 25),\n",
       " ('#adidasfootball', 25),\n",
       " ('athletes', 17),\n",
       " ('#sports', 15),\n",
       " ('sports', 13),\n",
       " ('athlete', 13),\n",
       " ('#thursdaynightfootball', 12),\n",
       " ('#sport', 7),\n",
       " ('sporting', 7),\n",
       " ('athletic', 6),\n",
       " ('#athlete', 6),\n",
       " ('@nikesportswear', 4),\n",
       " ('sport.', 4),\n",
       " ('athletes.', 4),\n",
       " ('@nikefootball', 3),\n",
       " ('@usnikefootball', 2)]"
      ]
     },
     "execution_count": 79,
     "metadata": {},
     "output_type": "execute_result"
    }
   ],
   "source": [
    "word_summary['top_words'][:20]"
   ]
  },
  {
   "cell_type": "code",
   "execution_count": 80,
   "metadata": {},
   "outputs": [],
   "source": [
    "word_summary_politics = adv.extract_words(newdf2['tweet_full_text'],\n",
    "                                          ['politic', 'polic', 'trump', 'donald'])\n"
   ]
  },
  {
   "cell_type": "code",
   "execution_count": 81,
   "metadata": {},
   "outputs": [
    {
     "data": {
      "text/plain": [
       "{'num_posts': 5089,\n",
       " 'num_words': 780,\n",
       " 'words_per_post': 0.1532717626252702,\n",
       " 'unique_words': 133}"
      ]
     },
     "execution_count": 81,
     "metadata": {},
     "output_type": "execute_result"
    }
   ],
   "source": [
    "word_summary_politics['overview']"
   ]
  },
  {
   "cell_type": "code",
   "execution_count": 82,
   "metadata": {},
   "outputs": [
    {
     "data": {
      "text/plain": [
       "[('@realdonaldtrump', 400),\n",
       " ('police', 56),\n",
       " ('trump', 53),\n",
       " ('#trump', 24),\n",
       " ('political', 13),\n",
       " ('#impeachtrump', 12),\n",
       " ('#fucktrump', 10),\n",
       " ('#trumpresign', 8),\n",
       " ('donald', 8),\n",
       " ('politics', 8),\n",
       " ('trump.', 6),\n",
       " ('#policebrutality', 6),\n",
       " ('#dumptrump', 5),\n",
       " ('trump!', 4),\n",
       " ('@donaldjtrumpjr', 4),\n",
       " ('#vetsagainsttrump', 4),\n",
       " ('#melaniatrump', 4),\n",
       " ('#trumpwh', 4),\n",
       " ('trump’s', 4),\n",
       " ('#trumpsupporters', 4)]"
      ]
     },
     "execution_count": 82,
     "metadata": {},
     "output_type": "execute_result"
    }
   ],
   "source": [
    "word_summary_politics['top_words'][:20]"
   ]
  },
  {
   "cell_type": "code",
   "execution_count": 83,
   "metadata": {},
   "outputs": [
    {
     "data": {
      "text/html": [
       "<div>\n",
       "<style scoped>\n",
       "    .dataframe tbody tr th:only-of-type {\n",
       "        vertical-align: middle;\n",
       "    }\n",
       "\n",
       "    .dataframe tbody tr th {\n",
       "        vertical-align: top;\n",
       "    }\n",
       "\n",
       "    .dataframe thead th {\n",
       "        text-align: right;\n",
       "    }\n",
       "</style>\n",
       "<table border=\"1\" class=\"dataframe\">\n",
       "  <thead>\n",
       "    <tr style=\"text-align: right;\">\n",
       "      <th></th>\n",
       "      <th>tweet_full_text</th>\n",
       "      <th>user_screen_name</th>\n",
       "      <th>hashtags</th>\n",
       "      <th>hashcounts</th>\n",
       "      <th>mentions</th>\n",
       "      <th>mention_count</th>\n",
       "      <th>emoji</th>\n",
       "      <th>emoji_text</th>\n",
       "      <th>emoji_count</th>\n",
       "    </tr>\n",
       "  </thead>\n",
       "  <tbody>\n",
       "    <tr>\n",
       "      <th>0</th>\n",
       "      <td>Done is better than perfect. — Sheryl Sandberg #quote #motivation #justdoit https://t.co/J9lLdszdW6</td>\n",
       "      <td>UltraYOUwoman</td>\n",
       "      <td>[#quote, #motivation, #justdoit]</td>\n",
       "      <td>3</td>\n",
       "      <td>[]</td>\n",
       "      <td>0</td>\n",
       "      <td>[]</td>\n",
       "      <td>[]</td>\n",
       "      <td>0</td>\n",
       "    </tr>\n",
       "    <tr>\n",
       "      <th>1</th>\n",
       "      <td>Shout out to the Great Fire Department and the tour! 👨‍🚒👨‍🚒 Much love to NYC! 💯🎥🔥✊🏿\\n•\\n•\\n•\\n#hero #fdny #likesforlikes #promo #music #instagood #instadaily #postoftheday #bestoftheday #justdoit #nike #picoftheday... https://t.co/sFobQ2ukpo</td>\n",
       "      <td>yungcutup</td>\n",
       "      <td>[#hero, #fdny, #likesforlikes, #promo, #music, #instagood, #instadaily, #postoftheday, #bestoftheday, #justdoit, #nike, #picoftheday]</td>\n",
       "      <td>12</td>\n",
       "      <td>[]</td>\n",
       "      <td>0</td>\n",
       "      <td>[👨‍🚒, 👨‍🚒, 💯, 🎥, 🔥, ✊🏿]</td>\n",
       "      <td>[man firefighter, man firefighter, hundred points, movie camera, fire, raised fist: dark skin tone]</td>\n",
       "      <td>6</td>\n",
       "    </tr>\n",
       "    <tr>\n",
       "      <th>2</th>\n",
       "      <td>There are some AMAZINGLY hilarious Nike Ad memes happening on my newsfeed.  Soooo, I decided to get a little creative too... \\n\\n#JustDoIt #4YourMorning #4YourMemeCollection \\n\\n🍪😂 https://t.co/6ok9qR6k6M</td>\n",
       "      <td>rachelbogle</td>\n",
       "      <td>[#justdoit, #4yourmorning, #4yourmemecollection]</td>\n",
       "      <td>3</td>\n",
       "      <td>[]</td>\n",
       "      <td>0</td>\n",
       "      <td>[🍪, 😂]</td>\n",
       "      <td>[cookie, face with tears of joy]</td>\n",
       "      <td>2</td>\n",
       "    </tr>\n",
       "    <tr>\n",
       "      <th>3</th>\n",
       "      <td>#kapernickeffect #swoosh #justdoit @ Lucas Bishop's Cigar Lounge https://t.co/BhPBnjOkuU</td>\n",
       "      <td>ErvGotti609</td>\n",
       "      <td>[#kapernickeffect, #swoosh, #justdoit]</td>\n",
       "      <td>3</td>\n",
       "      <td>[]</td>\n",
       "      <td>0</td>\n",
       "      <td>[]</td>\n",
       "      <td>[]</td>\n",
       "      <td>0</td>\n",
       "    </tr>\n",
       "    <tr>\n",
       "      <th>4</th>\n",
       "      <td>One Hand, One Dream: The Shaquem Griffin Story  https://t.co/0EbEmwULLF   #shaquem  #NFL #Seattle #Seahawks #griffin #JustDoIt #Nike https://t.co/pr8eosDZS7</td>\n",
       "      <td>NoLuckNeeded</td>\n",
       "      <td>[#shaquem, #nfl, #seattle, #seahawks, #griffin, #justdoit, #nike]</td>\n",
       "      <td>7</td>\n",
       "      <td>[]</td>\n",
       "      <td>0</td>\n",
       "      <td>[]</td>\n",
       "      <td>[]</td>\n",
       "      <td>0</td>\n",
       "    </tr>\n",
       "  </tbody>\n",
       "</table>\n",
       "</div>"
      ],
      "text/plain": [
       "                                                                                                                                                                                                                                     tweet_full_text  \\\n",
       "0                                                                                                                                                Done is better than perfect. — Sheryl Sandberg #quote #motivation #justdoit https://t.co/J9lLdszdW6   \n",
       "1  Shout out to the Great Fire Department and the tour! 👨‍🚒👨‍🚒 Much love to NYC! 💯🎥🔥✊🏿\\n•\\n•\\n•\\n#hero #fdny #likesforlikes #promo #music #instagood #instadaily #postoftheday #bestoftheday #justdoit #nike #picoftheday... https://t.co/sFobQ2ukpo   \n",
       "2                                       There are some AMAZINGLY hilarious Nike Ad memes happening on my newsfeed.  Soooo, I decided to get a little creative too... \\n\\n#JustDoIt #4YourMorning #4YourMemeCollection \\n\\n🍪😂 https://t.co/6ok9qR6k6M   \n",
       "3                                                                                                                                                           #kapernickeffect #swoosh #justdoit @ Lucas Bishop's Cigar Lounge https://t.co/BhPBnjOkuU   \n",
       "4                                                                                       One Hand, One Dream: The Shaquem Griffin Story  https://t.co/0EbEmwULLF   #shaquem  #NFL #Seattle #Seahawks #griffin #JustDoIt #Nike https://t.co/pr8eosDZS7   \n",
       "\n",
       "  user_screen_name  \\\n",
       "0    UltraYOUwoman   \n",
       "1        yungcutup   \n",
       "2      rachelbogle   \n",
       "3      ErvGotti609   \n",
       "4     NoLuckNeeded   \n",
       "\n",
       "                                                                                                                                hashtags  \\\n",
       "0                                                                                                       [#quote, #motivation, #justdoit]   \n",
       "1  [#hero, #fdny, #likesforlikes, #promo, #music, #instagood, #instadaily, #postoftheday, #bestoftheday, #justdoit, #nike, #picoftheday]   \n",
       "2                                                                                       [#justdoit, #4yourmorning, #4yourmemecollection]   \n",
       "3                                                                                                 [#kapernickeffect, #swoosh, #justdoit]   \n",
       "4                                                                      [#shaquem, #nfl, #seattle, #seahawks, #griffin, #justdoit, #nike]   \n",
       "\n",
       "   hashcounts mentions  mention_count                    emoji  \\\n",
       "0           3       []              0                       []   \n",
       "1          12       []              0  [👨‍🚒, 👨‍🚒, 💯, 🎥, 🔥, ✊🏿]   \n",
       "2           3       []              0                   [🍪, 😂]   \n",
       "3           3       []              0                       []   \n",
       "4           7       []              0                       []   \n",
       "\n",
       "                                                                                            emoji_text  \\\n",
       "0                                                                                                   []   \n",
       "1  [man firefighter, man firefighter, hundred points, movie camera, fire, raised fist: dark skin tone]   \n",
       "2                                                                     [cookie, face with tears of joy]   \n",
       "3                                                                                                   []   \n",
       "4                                                                                                   []   \n",
       "\n",
       "   emoji_count  \n",
       "0            0  \n",
       "1            6  \n",
       "2            2  \n",
       "3            0  \n",
       "4            0  "
      ]
     },
     "execution_count": 83,
     "metadata": {},
     "output_type": "execute_result"
    }
   ],
   "source": [
    "extracted_tweets =  (newdf2[['tweet_full_text', 'user_screen_name']]\n",
    " .assign(hashtags=hashtag_summary['hashtags'],\n",
    "         hashcounts=hashtag_summary['hashtag_counts'],\n",
    "         mentions=mention_summary['mentions'],\n",
    "         mention_count=mention_summary['mention_counts'],\n",
    "         emoji=emoji_summary['emoji'],\n",
    "         emoji_text=emoji_summary['emoji_text'],\n",
    "         emoji_count=emoji_summary['emoji_counts'],))\n",
    "extracted_tweets.head()"
   ]
  },
  {
   "cell_type": "code",
   "execution_count": 84,
   "metadata": {},
   "outputs": [
    {
     "name": "stdout",
     "output_type": "stream",
     "text": [
      "Requirement already satisfied: sklearn-crfsuite in c:\\users\\swetha\\anaconda3\\lib\\site-packages (0.3.6)Note: you may need to restart the kernel to use updated packages.\n",
      "Requirement already satisfied: tabulate in c:\\users\\swetha\\anaconda3\\lib\\site-packages (from sklearn-crfsuite) (0.8.9)\n",
      "Requirement already satisfied: python-crfsuite>=0.8.3 in c:\\users\\swetha\\anaconda3\\lib\\site-packages (from sklearn-crfsuite) (0.9.7)\n",
      "Requirement already satisfied: six in c:\\users\\swetha\\anaconda3\\lib\\site-packages (from sklearn-crfsuite) (1.15.0)\n",
      "Requirement already satisfied: tqdm>=2.0 in c:\\users\\swetha\\anaconda3\\lib\\site-packages (from sklearn-crfsuite) (4.50.2)\n",
      "\n"
     ]
    }
   ],
   "source": [
    "pip install sklearn-crfsuite"
   ]
  },
  {
   "cell_type": "code",
   "execution_count": 85,
   "metadata": {},
   "outputs": [
    {
     "name": "stdout",
     "output_type": "stream",
     "text": [
      "              precision    recall  f1-score   support\n",
      "\n",
      "           0       0.80      0.52      0.63       319\n",
      "           1       0.81      0.65      0.72       389\n",
      "           2       0.82      0.65      0.73       394\n",
      "           3       0.67      0.78      0.72       392\n",
      "           4       0.86      0.77      0.81       385\n",
      "           5       0.89      0.75      0.82       395\n",
      "           6       0.93      0.69      0.80       390\n",
      "           7       0.85      0.92      0.88       396\n",
      "           8       0.94      0.93      0.93       398\n",
      "           9       0.92      0.90      0.91       397\n",
      "          10       0.89      0.97      0.93       399\n",
      "          11       0.59      0.97      0.74       396\n",
      "          12       0.84      0.60      0.70       393\n",
      "          13       0.92      0.74      0.82       396\n",
      "          14       0.84      0.89      0.87       394\n",
      "          15       0.44      0.98      0.61       398\n",
      "          16       0.64      0.94      0.76       364\n",
      "          17       0.93      0.91      0.92       376\n",
      "          18       0.96      0.42      0.58       310\n",
      "          19       0.97      0.14      0.24       251\n",
      "\n",
      "    accuracy                           0.77      7532\n",
      "   macro avg       0.83      0.76      0.76      7532\n",
      "weighted avg       0.82      0.77      0.77      7532\n",
      "\n"
     ]
    }
   ],
   "source": [
    "from sklearn.naive_bayes import MultinomialNB\n",
    "from sklearn.pipeline import Pipeline\n",
    "from sklearn import metrics\n",
    "from sklearn.feature_extraction.text import CountVectorizer\n",
    "from sklearn.feature_extraction.text import TfidfTransformer\n",
    "from sklearn.datasets import fetch_20newsgroups\n",
    "\n",
    "newsgroups_train = fetch_20newsgroups(subset='train')\n",
    "newsgroups_test = fetch_20newsgroups(subset='test')\n",
    "X_train = newsgroups_train.data\n",
    "X_test = newsgroups_test.data\n",
    "y_train = newsgroups_train.target\n",
    "y_test = newsgroups_test.target\n",
    "\n",
    "text_clf = Pipeline([('vect', CountVectorizer()),\n",
    "                     ('tfidf', TfidfTransformer()),\n",
    "                     ('clf', MultinomialNB()),\n",
    "                     ])\n",
    "\n",
    "text_clf.fit(X_train, y_train)\n",
    "\n",
    "\n",
    "predicted = text_clf.predict(X_test)\n",
    "\n",
    "print(metrics.classification_report(y_test, predicted))"
   ]
  },
  {
   "cell_type": "code",
   "execution_count": 86,
   "metadata": {},
   "outputs": [
    {
     "name": "stdout",
     "output_type": "stream",
     "text": [
      "Accuracy: 25.00%\n"
     ]
    }
   ],
   "source": [
    "import numpy as np\n",
    "from sklearn.naive_bayes import MultinomialNB\n",
    "from sklearn.feature_extraction.text import CountVectorizer\n",
    "import pandas as pd\n",
    "from collections import Counter\n",
    "from sklearn.model_selection import train_test_split\n",
    "from sklearn.feature_extraction.text import TfidfTransformer\n",
    "\n",
    "df = pd.read_csv('C:/Users/swetha/Desktop/justdoit_tweets_2018_09_07_2.csv')\n",
    "\n",
    "counter = Counter(newdf2['tweet_entities'].tolist())\n",
    "top_10_varieties = {i[0]: idx for idx, i in enumerate(counter.most_common(10))}\n",
    "newdf2 =newdf2[newdf2['tweet_entities'].map(lambda x: x in top_10_varieties)]\n",
    "\n",
    "description_list = newdf2['tweet_full_text'].tolist()\n",
    "varietal_list = [top_10_varieties[i] for i in newdf2['tweet_entities'].tolist()]\n",
    "varietal_list = np.array(varietal_list)\n",
    "\n",
    "count_vect = CountVectorizer()\n",
    "x_train_counts = count_vect.fit_transform(description_list)\n",
    "\n",
    "\n",
    "tfidf_transformer = TfidfTransformer()\n",
    "x_train_tfidf = tfidf_transformer.fit_transform(x_train_counts)\n",
    "\n",
    "train_x, test_x, train_y, test_y = train_test_split(x_train_tfidf, varietal_list, test_size=0.3)\n",
    "\n",
    "clf = MultinomialNB().fit(train_x, train_y)\n",
    "y_score = clf.predict(test_x)\n",
    "\n",
    "n_right = 0\n",
    "for i in range(len(y_score)):\n",
    "    if y_score[i] == test_y[i]:\n",
    "        n_right += 1\n",
    "\n",
    "print(\"Accuracy: %.2f%%\" % ((n_right/float(len(test_y)) * 100)))"
   ]
  },
  {
   "cell_type": "code",
   "execution_count": null,
   "metadata": {},
   "outputs": [],
   "source": [
    "from sklearn.model_selection import train_test_split"
   ]
  },
  {
   "cell_type": "code",
   "execution_count": 114,
   "metadata": {},
   "outputs": [],
   "source": [
    "X = newdf2.tweet_full_text\n",
    "y = newdf2.tweet_entities\n",
    "X_train, X_test, y_train, y_test = train_test_split(X, y, test_size=0.3, random_state = 42)"
   ]
  },
  {
   "cell_type": "code",
   "execution_count": 115,
   "metadata": {},
   "outputs": [],
   "source": [
    "from numpy import random\n",
    "import nltk\n",
    "from sklearn.feature_extraction.text import CountVectorizer, TfidfVectorizer\n",
    "from sklearn.metrics import accuracy_score, confusion_matrix"
   ]
  },
  {
   "cell_type": "code",
   "execution_count": 124,
   "metadata": {},
   "outputs": [
    {
     "name": "stdout",
     "output_type": "stream",
     "text": [
      "accuracy 0.4\n",
      "                                                                                                             precision    recall  f1-score   support\n",
      "\n",
      "    {'hashtags': [{'text': 'JustDoIt', 'indices': [0, 9]}], 'symbols': [], 'user_mentions': [], 'urls': []}       0.50      0.33      0.40         3\n",
      "  {'hashtags': [{'text': 'JustDoIt', 'indices': [41, 50]}], 'symbols': [], 'user_mentions': [], 'urls': []}       0.00      0.00      0.00         1\n",
      "  {'hashtags': [{'text': 'JustDoIt', 'indices': [55, 64]}], 'symbols': [], 'user_mentions': [], 'urls': []}       0.00      0.00      0.00         0\n",
      "  {'hashtags': [{'text': 'JustDoIt', 'indices': [61, 70]}], 'symbols': [], 'user_mentions': [], 'urls': []}       0.00      0.00      0.00         2\n",
      "  {'hashtags': [{'text': 'JustDoIt', 'indices': [63, 72]}], 'symbols': [], 'user_mentions': [], 'urls': []}       0.44      1.00      0.62         4\n",
      "  {'hashtags': [{'text': 'JustDoIt', 'indices': [65, 74]}], 'symbols': [], 'user_mentions': [], 'urls': []}       0.00      0.00      0.00         4\n",
      "  {'hashtags': [{'text': 'JustDoIt', 'indices': [66, 75]}], 'symbols': [], 'user_mentions': [], 'urls': []}       0.00      0.00      0.00         2\n",
      "  {'hashtags': [{'text': 'JustDoIt', 'indices': [67, 76]}], 'symbols': [], 'user_mentions': [], 'urls': []}       0.00      0.00      0.00         1\n",
      "{'hashtags': [{'text': 'justdoit', 'indices': [117, 126]}], 'symbols': [], 'user_mentions': [], 'urls': []}       1.00      1.00      1.00         2\n",
      "  {'hashtags': [{'text': 'justdoit', 'indices': [65, 74]}], 'symbols': [], 'user_mentions': [], 'urls': []}       0.25      1.00      0.40         1\n",
      "\n",
      "                                                                                                   accuracy                           0.40        20\n",
      "                                                                                                  macro avg       0.22      0.33      0.24        20\n",
      "                                                                                               weighted avg       0.28      0.40      0.30        20\n",
      "\n"
     ]
    }
   ],
   "source": [
    "from sklearn.linear_model import SGDClassifier\n",
    "from sklearn.metrics import classification_report\n",
    "\n",
    "sgd = Pipeline([('vect', CountVectorizer()),\n",
    "                ('tfidf', TfidfTransformer()),\n",
    "                ('clf', SGDClassifier(loss='hinge', penalty='l2',alpha=1e-3, random_state=42, max_iter=5, tol=None)),\n",
    "               ])\n",
    "sgd.fit(X_train, y_train)\n",
    "\n",
    "\n",
    "\n",
    "y_pred = sgd.predict(X_test)\n",
    "\n",
    "print('accuracy %s' % accuracy_score(y_pred, y_test))\n",
    "print(classification_report(y_test, y_pred))"
   ]
  },
  {
   "cell_type": "code",
   "execution_count": 125,
   "metadata": {},
   "outputs": [
    {
     "name": "stdout",
     "output_type": "stream",
     "text": [
      "accuracy 0.45\n",
      "                                                                                                             precision    recall  f1-score   support\n",
      "\n",
      "    {'hashtags': [{'text': 'JustDoIt', 'indices': [0, 9]}], 'symbols': [], 'user_mentions': [], 'urls': []}       1.00      0.67      0.80         3\n",
      "  {'hashtags': [{'text': 'JustDoIt', 'indices': [41, 50]}], 'symbols': [], 'user_mentions': [], 'urls': []}       0.00      0.00      0.00         1\n",
      "  {'hashtags': [{'text': 'JustDoIt', 'indices': [55, 64]}], 'symbols': [], 'user_mentions': [], 'urls': []}       0.00      0.00      0.00         0\n",
      "  {'hashtags': [{'text': 'JustDoIt', 'indices': [61, 70]}], 'symbols': [], 'user_mentions': [], 'urls': []}       0.00      0.00      0.00         2\n",
      "  {'hashtags': [{'text': 'JustDoIt', 'indices': [63, 72]}], 'symbols': [], 'user_mentions': [], 'urls': []}       0.50      1.00      0.67         4\n",
      "  {'hashtags': [{'text': 'JustDoIt', 'indices': [65, 74]}], 'symbols': [], 'user_mentions': [], 'urls': []}       0.00      0.00      0.00         4\n",
      "  {'hashtags': [{'text': 'JustDoIt', 'indices': [66, 75]}], 'symbols': [], 'user_mentions': [], 'urls': []}       0.00      0.00      0.00         2\n",
      "  {'hashtags': [{'text': 'JustDoIt', 'indices': [67, 76]}], 'symbols': [], 'user_mentions': [], 'urls': []}       0.00      0.00      0.00         1\n",
      "{'hashtags': [{'text': 'justdoit', 'indices': [117, 126]}], 'symbols': [], 'user_mentions': [], 'urls': []}       1.00      1.00      1.00         2\n",
      "  {'hashtags': [{'text': 'justdoit', 'indices': [65, 74]}], 'symbols': [], 'user_mentions': [], 'urls': []}       0.33      1.00      0.50         1\n",
      "\n",
      "                                                                                                   accuracy                           0.45        20\n",
      "                                                                                                  macro avg       0.28      0.37      0.30        20\n",
      "                                                                                               weighted avg       0.37      0.45      0.38        20\n",
      "\n"
     ]
    },
    {
     "name": "stderr",
     "output_type": "stream",
     "text": [
      "C:\\Users\\swetha\\anaconda3\\lib\\site-packages\\sklearn\\linear_model\\_logistic.py:762: ConvergenceWarning: lbfgs failed to converge (status=1):\n",
      "STOP: TOTAL NO. of ITERATIONS REACHED LIMIT.\n",
      "\n",
      "Increase the number of iterations (max_iter) or scale the data as shown in:\n",
      "    https://scikit-learn.org/stable/modules/preprocessing.html\n",
      "Please also refer to the documentation for alternative solver options:\n",
      "    https://scikit-learn.org/stable/modules/linear_model.html#logistic-regression\n",
      "  n_iter_i = _check_optimize_result(\n",
      "C:\\Users\\swetha\\anaconda3\\lib\\site-packages\\sklearn\\metrics\\_classification.py:1221: UndefinedMetricWarning: Precision and F-score are ill-defined and being set to 0.0 in labels with no predicted samples. Use `zero_division` parameter to control this behavior.\n",
      "  _warn_prf(average, modifier, msg_start, len(result))\n",
      "C:\\Users\\swetha\\anaconda3\\lib\\site-packages\\sklearn\\metrics\\_classification.py:1221: UndefinedMetricWarning: Recall and F-score are ill-defined and being set to 0.0 in labels with no true samples. Use `zero_division` parameter to control this behavior.\n",
      "  _warn_prf(average, modifier, msg_start, len(result))\n"
     ]
    }
   ],
   "source": [
    "from sklearn.linear_model import LogisticRegression\n",
    "\n",
    "logreg = Pipeline([('vect', CountVectorizer()),\n",
    "                ('tfidf', TfidfTransformer()),\n",
    "                ('clf', LogisticRegression(n_jobs=1, C=1e5)),\n",
    "               ])\n",
    "logreg.fit(X_train, y_train)\n",
    "\n",
    "\n",
    "\n",
    "y_pred = logreg.predict(X_test)\n",
    "\n",
    "print('accuracy %s' % accuracy_score(y_pred, y_test))\n",
    "print(classification_report(y_test, y_pred))"
   ]
  },
  {
   "cell_type": "code",
   "execution_count": null,
   "metadata": {},
   "outputs": [],
   "source": []
  },
  {
   "cell_type": "code",
   "execution_count": null,
   "metadata": {},
   "outputs": [],
   "source": []
  },
  {
   "cell_type": "code",
   "execution_count": null,
   "metadata": {},
   "outputs": [],
   "source": []
  },
  {
   "cell_type": "code",
   "execution_count": null,
   "metadata": {},
   "outputs": [],
   "source": []
  },
  {
   "cell_type": "code",
   "execution_count": null,
   "metadata": {},
   "outputs": [],
   "source": []
  },
  {
   "cell_type": "code",
   "execution_count": null,
   "metadata": {},
   "outputs": [],
   "source": []
  },
  {
   "cell_type": "code",
   "execution_count": null,
   "metadata": {},
   "outputs": [],
   "source": []
  }
 ],
 "metadata": {
  "kernelspec": {
   "display_name": "Python 3",
   "language": "python",
   "name": "python3"
  },
  "language_info": {
   "codemirror_mode": {
    "name": "ipython",
    "version": 3
   },
   "file_extension": ".py",
   "mimetype": "text/x-python",
   "name": "python",
   "nbconvert_exporter": "python",
   "pygments_lexer": "ipython3",
   "version": "3.8.5"
  }
 },
 "nbformat": 4,
 "nbformat_minor": 4
}
